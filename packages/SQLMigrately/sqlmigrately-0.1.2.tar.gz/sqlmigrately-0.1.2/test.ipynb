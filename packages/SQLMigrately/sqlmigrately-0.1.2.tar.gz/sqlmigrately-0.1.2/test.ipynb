{
 "cells": [
  {
   "cell_type": "code",
   "execution_count": 1,
   "metadata": {},
   "outputs": [],
   "source": [
    "from sqlalchemy import create_engine, text\n",
    "import pandas as pd\n",
    "from pathlib import Path"
   ]
  },
  {
   "cell_type": "code",
   "execution_count": 2,
   "metadata": {},
   "outputs": [],
   "source": [
    "db_path = Path(\"test.db\")\n",
    "\n",
    "if db_path.exists():\n",
    "    db_path.unlink()"
   ]
  },
  {
   "cell_type": "code",
   "execution_count": 3,
   "metadata": {},
   "outputs": [],
   "source": [
    "engine = create_engine(\"sqlite:///test.db\")"
   ]
  },
  {
   "cell_type": "code",
   "execution_count": 4,
   "metadata": {},
   "outputs": [],
   "source": [
    "with engine.connect() as conn:\n",
    "    conn.execute(text(\"CREATE TABLE IF NOT EXISTS test (a INT, b TEXT)\"))"
   ]
  },
  {
   "cell_type": "code",
   "execution_count": 5,
   "metadata": {},
   "outputs": [],
   "source": [
    "with engine.connect() as conn:\n",
    "    conn.execute(text(\"INSERT INTO test (a, b) VALUES (1, 'foo')\"))\n",
    "    conn.execute(text(\"INSERT INTO test (a, b) VALUES (2, 'bar')\"))\n",
    "    conn.execute(text(\"INSERT INTO test (a, b) VALUES (3, 'baz')\"))\n",
    "    conn.commit()"
   ]
  },
  {
   "cell_type": "code",
   "execution_count": 6,
   "metadata": {},
   "outputs": [
    {
     "data": {
      "text/html": [
       "<div>\n",
       "<style scoped>\n",
       "    .dataframe tbody tr th:only-of-type {\n",
       "        vertical-align: middle;\n",
       "    }\n",
       "\n",
       "    .dataframe tbody tr th {\n",
       "        vertical-align: top;\n",
       "    }\n",
       "\n",
       "    .dataframe thead th {\n",
       "        text-align: right;\n",
       "    }\n",
       "</style>\n",
       "<table border=\"1\" class=\"dataframe\">\n",
       "  <thead>\n",
       "    <tr style=\"text-align: right;\">\n",
       "      <th></th>\n",
       "      <th>a</th>\n",
       "      <th>b</th>\n",
       "    </tr>\n",
       "  </thead>\n",
       "  <tbody>\n",
       "    <tr>\n",
       "      <th>0</th>\n",
       "      <td>1</td>\n",
       "      <td>foo</td>\n",
       "    </tr>\n",
       "    <tr>\n",
       "      <th>1</th>\n",
       "      <td>2</td>\n",
       "      <td>bar</td>\n",
       "    </tr>\n",
       "    <tr>\n",
       "      <th>2</th>\n",
       "      <td>3</td>\n",
       "      <td>baz</td>\n",
       "    </tr>\n",
       "  </tbody>\n",
       "</table>\n",
       "</div>"
      ],
      "text/plain": [
       "   a    b\n",
       "0  1  foo\n",
       "1  2  bar\n",
       "2  3  baz"
      ]
     },
     "execution_count": 6,
     "metadata": {},
     "output_type": "execute_result"
    }
   ],
   "source": [
    "df = pd.read_sql_query(\"SELECT * FROM test\", engine)\n",
    "\n",
    "df"
   ]
  },
  {
   "cell_type": "code",
   "execution_count": 7,
   "metadata": {},
   "outputs": [
    {
     "data": {
      "text/html": [
       "<div>\n",
       "<style scoped>\n",
       "    .dataframe tbody tr th:only-of-type {\n",
       "        vertical-align: middle;\n",
       "    }\n",
       "\n",
       "    .dataframe tbody tr th {\n",
       "        vertical-align: top;\n",
       "    }\n",
       "\n",
       "    .dataframe thead th {\n",
       "        text-align: right;\n",
       "    }\n",
       "</style>\n",
       "<table border=\"1\" class=\"dataframe\">\n",
       "  <thead>\n",
       "    <tr style=\"text-align: right;\">\n",
       "      <th></th>\n",
       "      <th>a</th>\n",
       "      <th>b</th>\n",
       "      <th>c</th>\n",
       "      <th>d</th>\n",
       "    </tr>\n",
       "  </thead>\n",
       "  <tbody>\n",
       "    <tr>\n",
       "      <th>3</th>\n",
       "      <td>4</td>\n",
       "      <td>qux</td>\n",
       "      <td>lorem</td>\n",
       "      <td>ipsum</td>\n",
       "    </tr>\n",
       "    <tr>\n",
       "      <th>4</th>\n",
       "      <td>5</td>\n",
       "      <td>quux</td>\n",
       "      <td>dolor</td>\n",
       "      <td>sit</td>\n",
       "    </tr>\n",
       "    <tr>\n",
       "      <th>5</th>\n",
       "      <td>6</td>\n",
       "      <td>corge</td>\n",
       "      <td>amet</td>\n",
       "      <td>consectetur</td>\n",
       "    </tr>\n",
       "  </tbody>\n",
       "</table>\n",
       "</div>"
      ],
      "text/plain": [
       "   a      b      c            d\n",
       "3  4    qux  lorem        ipsum\n",
       "4  5   quux  dolor          sit\n",
       "5  6  corge   amet  consectetur"
      ]
     },
     "execution_count": 7,
     "metadata": {},
     "output_type": "execute_result"
    }
   ],
   "source": [
    "# add new column to dataframe\n",
    "\n",
    "df[\"c\"] = None\n",
    "df[\"d\"] = None\n",
    "\n",
    "# insert new row\n",
    "df.loc[3] = [4, \"qux\", \"lorem\", \"ipsum\"]\n",
    "df.loc[4] = [5, \"quux\", \"dolor\", \"sit\"]\n",
    "df.loc[5] = [6, \"corge\", \"amet\", \"consectetur\"]\n",
    "\n",
    "# drop old rows\n",
    "df = df.drop([0, 1, 2])\n",
    "\n",
    "df"
   ]
  },
  {
   "cell_type": "code",
   "execution_count": 8,
   "metadata": {},
   "outputs": [],
   "source": [
    "from sqlmigrately import migrate_table, ColumnDiff"
   ]
  },
  {
   "cell_type": "code",
   "execution_count": 9,
   "metadata": {},
   "outputs": [
    {
     "name": "stderr",
     "output_type": "stream",
     "text": [
      "\u001b[32m2024-11-24 18:35:33.693\u001b[0m | \u001b[1mINFO    \u001b[0m | \u001b[36msqlmigrately.main\u001b[0m:\u001b[36mmigrate_table\u001b[0m:\u001b[36m48\u001b[0m - \u001b[1mDetected new columns: [{'name': 'c', 'type': dtype('O')}, {'name': 'd', 'type': dtype('O')}]\u001b[0m\n",
      "\u001b[32m2024-11-24 18:35:33.694\u001b[0m | \u001b[1mINFO    \u001b[0m | \u001b[36msqlmigrately.utils\u001b[0m:\u001b[36malter_table\u001b[0m:\u001b[36m103\u001b[0m - \u001b[1mExecuting: ALTER TABLE test ADD COLUMN c TEXT\u001b[0m\n",
      "\u001b[32m2024-11-24 18:35:33.715\u001b[0m | \u001b[1mINFO    \u001b[0m | \u001b[36msqlmigrately.utils\u001b[0m:\u001b[36malter_table\u001b[0m:\u001b[36m103\u001b[0m - \u001b[1mExecuting: ALTER TABLE test ADD COLUMN d TEXT\u001b[0m\n",
      "\u001b[32m2024-11-24 18:35:33.731\u001b[0m | \u001b[1mINFO    \u001b[0m | \u001b[36msqlmigrately.main\u001b[0m:\u001b[36mmigrate_table\u001b[0m:\u001b[36m61\u001b[0m - \u001b[1mAppending data to table: test\u001b[0m\n"
     ]
    },
    {
     "name": "stdout",
     "output_type": "stream",
     "text": [
      "from callback\n",
      "ColumnDiff(added=[{'name': 'c', 'type': dtype('O')},\n",
      "                  {'name': 'd', 'type': dtype('O')}],\n",
      "           removed=[])\n"
     ]
    }
   ],
   "source": [
    "from pprint import pprint\n",
    "\n",
    "\n",
    "def diff_callback(col_diffs):\n",
    "    print(\"from callback\")\n",
    "    pprint(col_diffs)\n",
    "\n",
    "\n",
    "migrate_table(\n",
    "    \"test\",\n",
    "    df,\n",
    "    engine,\n",
    "    push_data=True,\n",
    "    # column_type_map={\"c\": \"TEXT\", \"d\": \"INTEGER\"},\n",
    "    column_diff_callback=diff_callback,\n",
    ")"
   ]
  },
  {
   "cell_type": "code",
   "execution_count": 10,
   "metadata": {},
   "outputs": [
    {
     "data": {
      "text/html": [
       "<div>\n",
       "<style scoped>\n",
       "    .dataframe tbody tr th:only-of-type {\n",
       "        vertical-align: middle;\n",
       "    }\n",
       "\n",
       "    .dataframe tbody tr th {\n",
       "        vertical-align: top;\n",
       "    }\n",
       "\n",
       "    .dataframe thead th {\n",
       "        text-align: right;\n",
       "    }\n",
       "</style>\n",
       "<table border=\"1\" class=\"dataframe\">\n",
       "  <thead>\n",
       "    <tr style=\"text-align: right;\">\n",
       "      <th></th>\n",
       "      <th>a</th>\n",
       "      <th>b</th>\n",
       "      <th>c</th>\n",
       "      <th>d</th>\n",
       "    </tr>\n",
       "  </thead>\n",
       "  <tbody>\n",
       "    <tr>\n",
       "      <th>0</th>\n",
       "      <td>1</td>\n",
       "      <td>foo</td>\n",
       "      <td>None</td>\n",
       "      <td>None</td>\n",
       "    </tr>\n",
       "    <tr>\n",
       "      <th>1</th>\n",
       "      <td>2</td>\n",
       "      <td>bar</td>\n",
       "      <td>None</td>\n",
       "      <td>None</td>\n",
       "    </tr>\n",
       "    <tr>\n",
       "      <th>2</th>\n",
       "      <td>3</td>\n",
       "      <td>baz</td>\n",
       "      <td>None</td>\n",
       "      <td>None</td>\n",
       "    </tr>\n",
       "    <tr>\n",
       "      <th>3</th>\n",
       "      <td>4</td>\n",
       "      <td>qux</td>\n",
       "      <td>lorem</td>\n",
       "      <td>ipsum</td>\n",
       "    </tr>\n",
       "    <tr>\n",
       "      <th>4</th>\n",
       "      <td>5</td>\n",
       "      <td>quux</td>\n",
       "      <td>dolor</td>\n",
       "      <td>sit</td>\n",
       "    </tr>\n",
       "    <tr>\n",
       "      <th>5</th>\n",
       "      <td>6</td>\n",
       "      <td>corge</td>\n",
       "      <td>amet</td>\n",
       "      <td>consectetur</td>\n",
       "    </tr>\n",
       "  </tbody>\n",
       "</table>\n",
       "</div>"
      ],
      "text/plain": [
       "   a      b      c            d\n",
       "0  1    foo   None         None\n",
       "1  2    bar   None         None\n",
       "2  3    baz   None         None\n",
       "3  4    qux  lorem        ipsum\n",
       "4  5   quux  dolor          sit\n",
       "5  6  corge   amet  consectetur"
      ]
     },
     "execution_count": 10,
     "metadata": {},
     "output_type": "execute_result"
    }
   ],
   "source": [
    "new_table = pd.read_sql_query(\"SELECT * FROM test\", engine)\n",
    "\n",
    "new_table"
   ]
  },
  {
   "cell_type": "code",
   "execution_count": 11,
   "metadata": {},
   "outputs": [
    {
     "data": {
      "text/html": [
       "<div>\n",
       "<style scoped>\n",
       "    .dataframe tbody tr th:only-of-type {\n",
       "        vertical-align: middle;\n",
       "    }\n",
       "\n",
       "    .dataframe tbody tr th {\n",
       "        vertical-align: top;\n",
       "    }\n",
       "\n",
       "    .dataframe thead th {\n",
       "        text-align: right;\n",
       "    }\n",
       "</style>\n",
       "<table border=\"1\" class=\"dataframe\">\n",
       "  <thead>\n",
       "    <tr style=\"text-align: right;\">\n",
       "      <th></th>\n",
       "      <th>b</th>\n",
       "      <th>c</th>\n",
       "      <th>d</th>\n",
       "    </tr>\n",
       "  </thead>\n",
       "  <tbody>\n",
       "    <tr>\n",
       "      <th>0</th>\n",
       "      <td>test</td>\n",
       "      <td>test2</td>\n",
       "      <td>deez</td>\n",
       "    </tr>\n",
       "    <tr>\n",
       "      <th>1</th>\n",
       "      <td>test3</td>\n",
       "      <td>test4</td>\n",
       "      <td>nutz</td>\n",
       "    </tr>\n",
       "  </tbody>\n",
       "</table>\n",
       "</div>"
      ],
      "text/plain": [
       "       b      c     d\n",
       "0   test  test2  deez\n",
       "1  test3  test4  nutz"
      ]
     },
     "execution_count": 11,
     "metadata": {},
     "output_type": "execute_result"
    }
   ],
   "source": [
    "# delete column from dataframe\n",
    "\n",
    "del new_table[\"a\"]\n",
    "\n",
    "new_table = new_table.drop([0, 1, 2, 3, 4, 5])\n",
    "\n",
    "new_table.loc[0] = [\"test\", \"test2\", \"deez\"]\n",
    "new_table.loc[1] = [\"test3\", \"test4\", \"nutz\"]\n",
    "\n",
    "new_table"
   ]
  },
  {
   "cell_type": "code",
   "execution_count": 12,
   "metadata": {},
   "outputs": [
    {
     "name": "stderr",
     "output_type": "stream",
     "text": [
      "\u001b[32m2024-11-24 18:35:33.803\u001b[0m | \u001b[1mINFO    \u001b[0m | \u001b[36msqlmigrately.main\u001b[0m:\u001b[36mmigrate_table\u001b[0m:\u001b[36m53\u001b[0m - \u001b[1mDetected removed columns: [{'name': 'a', 'type': INTEGER()}]\u001b[0m\n",
      "\u001b[32m2024-11-24 18:35:33.804\u001b[0m | \u001b[1mINFO    \u001b[0m | \u001b[36msqlmigrately.utils\u001b[0m:\u001b[36malter_table\u001b[0m:\u001b[36m103\u001b[0m - \u001b[1mExecuting: ALTER TABLE test DROP COLUMN a\u001b[0m\n",
      "\u001b[32m2024-11-24 18:35:33.830\u001b[0m | \u001b[1mINFO    \u001b[0m | \u001b[36msqlmigrately.main\u001b[0m:\u001b[36mmigrate_table\u001b[0m:\u001b[36m61\u001b[0m - \u001b[1mAppending data to table: test\u001b[0m\n"
     ]
    }
   ],
   "source": [
    "migrate_table(\"test\", new_table, engine, push_data=True, remove_cols=True)"
   ]
  },
  {
   "cell_type": "code",
   "execution_count": 13,
   "metadata": {},
   "outputs": [
    {
     "data": {
      "text/html": [
       "<div>\n",
       "<style scoped>\n",
       "    .dataframe tbody tr th:only-of-type {\n",
       "        vertical-align: middle;\n",
       "    }\n",
       "\n",
       "    .dataframe tbody tr th {\n",
       "        vertical-align: top;\n",
       "    }\n",
       "\n",
       "    .dataframe thead th {\n",
       "        text-align: right;\n",
       "    }\n",
       "</style>\n",
       "<table border=\"1\" class=\"dataframe\">\n",
       "  <thead>\n",
       "    <tr style=\"text-align: right;\">\n",
       "      <th></th>\n",
       "      <th>b</th>\n",
       "      <th>c</th>\n",
       "      <th>d</th>\n",
       "    </tr>\n",
       "  </thead>\n",
       "  <tbody>\n",
       "    <tr>\n",
       "      <th>0</th>\n",
       "      <td>foo</td>\n",
       "      <td>None</td>\n",
       "      <td>None</td>\n",
       "    </tr>\n",
       "    <tr>\n",
       "      <th>1</th>\n",
       "      <td>bar</td>\n",
       "      <td>None</td>\n",
       "      <td>None</td>\n",
       "    </tr>\n",
       "    <tr>\n",
       "      <th>2</th>\n",
       "      <td>baz</td>\n",
       "      <td>None</td>\n",
       "      <td>None</td>\n",
       "    </tr>\n",
       "    <tr>\n",
       "      <th>3</th>\n",
       "      <td>qux</td>\n",
       "      <td>lorem</td>\n",
       "      <td>ipsum</td>\n",
       "    </tr>\n",
       "    <tr>\n",
       "      <th>4</th>\n",
       "      <td>quux</td>\n",
       "      <td>dolor</td>\n",
       "      <td>sit</td>\n",
       "    </tr>\n",
       "    <tr>\n",
       "      <th>5</th>\n",
       "      <td>corge</td>\n",
       "      <td>amet</td>\n",
       "      <td>consectetur</td>\n",
       "    </tr>\n",
       "    <tr>\n",
       "      <th>6</th>\n",
       "      <td>test</td>\n",
       "      <td>test2</td>\n",
       "      <td>deez</td>\n",
       "    </tr>\n",
       "    <tr>\n",
       "      <th>7</th>\n",
       "      <td>test3</td>\n",
       "      <td>test4</td>\n",
       "      <td>nutz</td>\n",
       "    </tr>\n",
       "  </tbody>\n",
       "</table>\n",
       "</div>"
      ],
      "text/plain": [
       "       b      c            d\n",
       "0    foo   None         None\n",
       "1    bar   None         None\n",
       "2    baz   None         None\n",
       "3    qux  lorem        ipsum\n",
       "4   quux  dolor          sit\n",
       "5  corge   amet  consectetur\n",
       "6   test  test2         deez\n",
       "7  test3  test4         nutz"
      ]
     },
     "execution_count": 13,
     "metadata": {},
     "output_type": "execute_result"
    }
   ],
   "source": [
    "final_table = pd.read_sql_query(\"SELECT * FROM test\", engine)\n",
    "\n",
    "final_table"
   ]
  },
  {
   "cell_type": "code",
   "execution_count": 14,
   "metadata": {},
   "outputs": [
    {
     "name": "stdout",
     "output_type": "stream",
     "text": [
      "Table test2 does not exist\n"
     ]
    }
   ],
   "source": [
    "# test exceptions\n",
    "from sqlmigrately.exceptions import TableDoesNotExistError\n",
    "\n",
    "try:\n",
    "    migrate_table(\"test2\", new_table, engine)\n",
    "except TableDoesNotExistError as e:\n",
    "    print(e)"
   ]
  },
  {
   "cell_type": "code",
   "execution_count": 15,
   "metadata": {},
   "outputs": [],
   "source": [
    "# delete database\n",
    "db_path.unlink()"
   ]
  }
 ],
 "metadata": {
  "kernelspec": {
   "display_name": "sql",
   "language": "python",
   "name": "python3"
  },
  "language_info": {
   "codemirror_mode": {
    "name": "ipython",
    "version": 3
   },
   "file_extension": ".py",
   "mimetype": "text/x-python",
   "name": "python",
   "nbconvert_exporter": "python",
   "pygments_lexer": "ipython3",
   "version": "3.10.14"
  }
 },
 "nbformat": 4,
 "nbformat_minor": 2
}

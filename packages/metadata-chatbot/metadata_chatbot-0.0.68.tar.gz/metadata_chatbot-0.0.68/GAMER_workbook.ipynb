{
 "cells": [
  {
   "cell_type": "markdown",
   "metadata": {},
   "source": [
    "# GAMER: Generative Analysis of Metadata Retrieval"
   ]
  },
  {
   "cell_type": "markdown",
   "metadata": {},
   "source": [
    "This model uses a multi agent framework on Langraph to retrieve and summarize metadata information based on a user's natural language query. \n",
    "\n",
    "This workflow consists of 6 agents, or nodes, where a decision is made and there is new context provided to either the model or the user. Here are some decisions incorporated into the framework:\n",
    "1. To best answer the query, does the entire database need to be queried, or the vector index?\n",
    "- Input: `x (query)`\n",
    "- Decides best data to query against\n",
    "- Output: `entire_database, vector_embeddings`\n",
    "2. If querying against the vector embeddings, does the index need to be filtered further with metdata tags, to improve optimization of retrieval?\n",
    "- Input: `x (query)`\n",
    "- Decides whether database can be further filtered by applying a MongoDB query\n",
    "- Output: `MongoDB query, None`\n",
    "3. Are the documents retrieved during retrieval relevant to the question?\n",
    "- Input: `x (query)`\n",
    "- Decides whether document should be kept or tossed during summarization\n",
    "- Output: `yes, no`\n"
   ]
  },
  {
   "cell_type": "markdown",
   "metadata": {},
   "source": [
    "### Synchronous calling"
   ]
  },
  {
   "cell_type": "code",
   "execution_count": 1,
   "metadata": {},
   "outputs": [
    {
     "name": "stderr",
     "output_type": "stream",
     "text": [
      "c:\\Users\\sreya.kumar\\Documents\\GitHub\\metadata-chatbot\\venv\\Lib\\site-packages\\metadata_chatbot\\agents\\workflow.py:105: LangChainDeprecationWarning: The method `BaseRetriever.get_relevant_documents` was deprecated in langchain-core 0.1.46 and will be removed in 1.0. Use :meth:`~invoke` instead.\n",
      "  documents = retriever.get_relevant_documents(query = query, query_filter = filter)\n"
     ]
    },
    {
     "name": "stdout",
     "output_type": "stream",
     "text": [
      "Based on the provided context, here is a summary of the subject and acquisition information for SmartSPIM_662616_2023-03-06_17-47-13:\n",
      "\n",
      "Subject Information:\n",
      "- Subject ID: 662616\n",
      "- Sex: Female\n",
      "- Date of Birth: 2022-11-29\n",
      "- Genotype: wt/wt\n",
      "\n",
      "Acquisition Information:\n",
      "- SmartSPIM imaging experiment conducted on 2023-03-06 at 17:47:13\n",
      "- Multiple imaging tiles (73-83) with different channels (445nm, 488nm, 561nm wavelengths)\n",
      "- Coordinate transformations (translations, scaling) applied to each tile\n",
      "- File names/paths for each tile's image data provided\n",
      "- Laser power settings for each channel provided\n",
      "- Imaging angle of 0 degrees for all tiles\n",
      "- Notes on laser power units (percentage of total, needs calibration)\n",
      "\n",
      "Instrument Details:\n",
      "- SmartSPIM1-2 instrument from LifeCanvas manufacturer\n",
      "- Temperature control enabled, no humidity control\n",
      "- Optical table: MKS Newport VIS3648-PG4-325A, 36x48 inch, vibration control\n",
      "- Objective: Thorlabs TL2X-SAP, 0.1 NA, 1.6x magnification, multi-immersion\n",
      "\n",
      "The context also includes details about virus injections and specimen procedures performed on the subject prior to imaging.\n"
     ]
    }
   ],
   "source": [
    "from metadata_chatbot.agents.GAMER import GAMER\n",
    "query = \"Can you tell me summarize the subject and acquisition information in SmartSPIM_662616_2023-03-06_17-47-13\"\n",
    "\n",
    "model = GAMER()\n",
    "result = model.invoke(query)\n",
    "\n",
    "print(result)"
   ]
  },
  {
   "cell_type": "markdown",
   "metadata": {},
   "source": [
    "### Asynchronous calling"
   ]
  },
  {
   "cell_type": "code",
   "execution_count": 1,
   "metadata": {},
   "outputs": [
    {
     "name": "stderr",
     "output_type": "stream",
     "text": [
      "c:\\Users\\sreya.kumar\\Documents\\GitHub\\metadata-chatbot\\venv\\Lib\\site-packages\\metadata_chatbot\\agents\\async_workflow.py:106: LangChainDeprecationWarning: The method `BaseRetriever.aget_relevant_documents` was deprecated in langchain-core 0.1.46 and will be removed in 1.0. Use :meth:`~ainvoke` instead.\n",
      "  documents = await retriever.aget_relevant_documents(query = query, query_filter = filter)\n"
     ]
    },
    {
     "name": "stdout",
     "output_type": "stream",
     "text": [
      "Based on the provided context, the procedures performed on specimen 662616 and their start and end dates are:\n",
      "\n",
      "Subject procedures:\n",
      "1. Surgery on 2023-01-25 with virus injections (SL1-hSyn-Cre, AAV1-CAG-H2B-mTurquoise2-WPRE, AAV-Syn-DIO-TVA66T-dTomato-CVS N2cG)\n",
      "2. Surgery on 2023-01-25 with virus injection (EnvA CVS-N2C-histone-GFP)\n",
      "\n",
      "Specimen procedures:\n",
      "1. Fixation (SHIELD OFF) from 2023-02-10 to 2023-02-12\n",
      "2. Fixation (SHIELD ON) from 2023-02-12 to 2023-02-13\n",
      "3. Delipidation (24h Delipidation) from 2023-02-15 to 2023-02-16\n",
      "4. Delipidation (Active Delipidation) from 2023-02-16 to 2023-02-18\n",
      "5. Refractive index matching (50% EasyIndex) from 2023-02-19 to 2023-02-20\n",
      "6. Refractive index matching (100% EasyIndex) from 2023-02-20 to 2023-02-21\n",
      "7. Imaging acquisition session from 2023-03-06T17:47:13 to 2023-03-06T22:59:16\n"
     ]
    }
   ],
   "source": [
    "from metadata_chatbot.agents.GAMER import GAMER\n",
    "llm = GAMER()\n",
    "query = \"Can you list all the procedures performed on the specimen, including their start and end dates? in SmartSPIM_662616_2023-03-06_17-47-13\"\n",
    "\n",
    "result = await llm.ainvoke(query)\n",
    "print(result)"
   ]
  }
 ],
 "metadata": {
  "kernelspec": {
   "display_name": "venv",
   "language": "python",
   "name": "python3"
  },
  "language_info": {
   "codemirror_mode": {
    "name": "ipython",
    "version": 3
   },
   "file_extension": ".py",
   "mimetype": "text/x-python",
   "name": "python",
   "nbconvert_exporter": "python",
   "pygments_lexer": "ipython3",
   "version": "3.11.0"
  }
 },
 "nbformat": 4,
 "nbformat_minor": 2
}

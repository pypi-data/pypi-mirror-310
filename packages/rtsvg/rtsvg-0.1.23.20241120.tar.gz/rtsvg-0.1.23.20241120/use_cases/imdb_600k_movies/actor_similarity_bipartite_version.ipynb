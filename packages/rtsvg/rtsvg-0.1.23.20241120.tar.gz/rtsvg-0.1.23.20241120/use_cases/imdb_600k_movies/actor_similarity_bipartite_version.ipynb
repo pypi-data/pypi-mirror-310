{
 "cells": [
  {
   "cell_type": "code",
   "execution_count": null,
   "metadata": {},
   "outputs": [],
   "source": [
    "#\n",
    "# Which two actors starred the most together across the dataset?\n",
    "# ... or two movies are the most similar (based on actors in common)?\n",
    "#\n",
    "import pandas as pd\n",
    "import polars as pl\n",
    "import numpy as np\n",
    "import networkx as nx\n",
    "import json\n",
    "import time\n",
    "import os\n",
    "from rtsvg import *\n",
    "rt = RACETrack()\n",
    "ofi = rt.ontologyFrameworkInstance(base_filename='../../../data/kaggle_imdb_600k/20240519_ontology')"
   ]
  },
  {
   "cell_type": "code",
   "execution_count": null,
   "metadata": {},
   "outputs": [],
   "source": [
    "#\n",
    "# 2m31s - amd7900x | edges 1,973,892 | nodes 1,201,864\n",
    "#\n",
    "\n",
    "# Just the cast member relationship\n",
    "df       = ofi.df_triples.filter(pl.col('vrb') == 'castMemberOf')\n",
    "df_edges = df.group_by(['sbj', 'obj']).len()\n",
    "\n",
    "# Create a bipartite graph\n",
    "B = nx.Graph()\n",
    "B.add_nodes_from(df_edges['sbj'], bipartite=0)\n",
    "B.add_nodes_from(df_edges['obj'], bipartite=1)\n",
    "for i in range(len(df_edges)):\n",
    "    B.add_edge(df_edges['sbj'][i], df_edges['obj'][i])\n",
    "\n",
    "# Project the graph onto the 'u' node set\n",
    "P = nx.bipartite.projected_graph(B, df_edges['sbj'])\n",
    "\n",
    "# Calculate Jaccard similarity on the projected graph\n",
    "similarity = nx.jaccard_coefficient(P)"
   ]
  },
  {
   "cell_type": "code",
   "execution_count": null,
   "metadata": {},
   "outputs": [],
   "source": [
    "# Print the top 100\n",
    "as_list = []\n",
    "k = 100\n",
    "for x in similarity:\n",
    "    i0, i1, sim = x\n",
    "    as_list.append(x)\n",
    "    print(f'\"{ofi.labeling_uids[i0]}\" \"{ofi.labeling_uids[i1]}\" {sim:0.3f}')\n",
    "    k -= 1\n",
    "    if k <= 0: break"
   ]
  },
  {
   "cell_type": "code",
   "execution_count": null,
   "metadata": {},
   "outputs": [],
   "source": []
  }
 ],
 "metadata": {
  "kernelspec": {
   "display_name": ".venv",
   "language": "python",
   "name": "python3"
  },
  "language_info": {
   "codemirror_mode": {
    "name": "ipython",
    "version": 3
   },
   "file_extension": ".py",
   "mimetype": "text/x-python",
   "name": "python",
   "nbconvert_exporter": "python",
   "pygments_lexer": "ipython3",
   "version": "3.12.3"
  }
 },
 "nbformat": 4,
 "nbformat_minor": 2
}

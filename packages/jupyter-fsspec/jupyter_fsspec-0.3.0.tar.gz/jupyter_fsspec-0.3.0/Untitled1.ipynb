{
 "cells": [
  {
   "cell_type": "code",
   "execution_count": null,
   "id": "a48443a5-753d-4521-81c7-e46a2cf6e10f",
   "metadata": {},
   "outputs": [],
   "source": []
  }
 ],
 "metadata": {
  "kernelspec": {
   "display_name": "",
   "name": ""
  },
  "language_info": {
   "name": ""
  }
 },
 "nbformat": 4,
 "nbformat_minor": 5
}

{
 "cells": [
  {
   "cell_type": "markdown",
   "id": "7d0a62da-7f42-4b40-b2a8-f1a390fbfab9",
   "metadata": {},
   "source": [
    "# Notebook for Peak Reduction with Mixed Devices"
   ]
  },
  {
   "cell_type": "markdown",
   "id": "3fe895f4-4949-4ee4-942c-8e854b7392bf",
   "metadata": {},
   "source": [
    "## Imports"
   ]
  },
  {
   "cell_type": "code",
   "id": "19b83f28-d6ab-4943-838e-a15b7f38c384",
   "metadata": {
    "tags": []
   },
   "source": [
    "import os\n",
    "\n",
    "import numpy as np\n",
    "import pandas as pd\n",
    "import matplotlib.pyplot as plt\n",
    "\n",
    "import pyflexad.models.bess.tesla as tesla_bess\n",
    "import pyflexad.models.ev.nissan as nissan_ev\n",
    "import pyflexad.models.ev.tesla as tesla_ev\n",
    "\n",
    "import pyflexad.models.tclc.generic as generic_tclc\n",
    "import pyflexad.models.tclh.generic as generic_tclh\n",
    "\n",
    "from pyflexad.physical.electric_vehicle import ElectricVehicle\n",
    "from pyflexad.physical.stationary_battery import StationaryBattery\n",
    "from pyflexad.physical.stationary_battery import BESSUsage\n",
    "\n",
    "from pyflexad.physical.therm_load_cooling import ThermostaticLoadCooling\n",
    "from pyflexad.physical.therm_load_cooling import TCLCUsage\n",
    "\n",
    "from pyflexad.physical.therm_load_heating import ThermostaticLoadHeating\n",
    "from pyflexad.physical.therm_load_heating import TCLHUsage\n",
    "\n",
    "from pyflexad.virtual.aggregator import Aggregator\n",
    "from pyflexad.math.signal_vectors import SignalVectors\n",
    "from pyflexad.optimization.vertex_based_power_controller import VertexBasedPowerController\n",
    "from pyflexad.optimization.centralized_power_controller import CentralizedPowerController\n",
    "from pyflexad.system.household_data import HouseholdsData\n",
    "from pyflexad.system.ev_data import EVData\n",
    "from pyflexad.utils.file_utils import FileUtils\n",
    "from pyflexad.utils.algorithms import Algorithms"
   ],
   "outputs": [],
   "execution_count": null
  },
  {
   "cell_type": "markdown",
   "id": "aa158d72-8031-4508-89d3-a7275f3e818a",
   "metadata": {},
   "source": [
    "## Scenario Description\n",
    "We consider a scenario with $k$ nodes, each with $h_k$ households. These households may have a stationary battery, an electric vehicle, an air conditioner and a water heater. We assume that the electric vehicles start with a SOC of 60%, while the SOC of the stationary battery is randomly generated. At the end, the BESS must have at least the initial SOC and the EV at least the initial SOC - consumption during trip + charging, where the consumption during the trip and charging are given by the data. \n",
    "The air conditioner starts with a set temperature randomly sampled from the interval [19, 21] (°C), where the ambient temperature is 30°C and the dead band is randomly selected from the interval [1.5, 2.5] (°C). The water heater starts with a setpoint temperature randomly sampled from the intervall [49, 51] (°C), where the dead band is randomly selected from the interval [3, 7] (°C), and the demand is randomly selected from the interval [0, 4] (kW) for each time period. The devices, amount of households and nodes can be selected individually in the configurations section. The flexibility within the $k$ nodes are aggregated locally. In a second step, the local flexibilities are aggregated by another aggregator to obtain the overall aggregate flexibility of the system, i.e. we consider a stacked system where the stacked aggregation is applied. The overall objective is to study the effect of the aggregated flexibility to reduce the peak demand of the aggregated load.\n",
    "For this purpose, the results of the proposed algorithm are compared with those of the centralised approach, i.e. where no aggregation is applied."
   ]
  },
  {
   "cell_type": "markdown",
   "id": "ed306865-5b16-4e26-9f03-364f6f7e5f47",
   "metadata": {},
   "source": [
    "## Configurations "
   ]
  },
  {
   "cell_type": "code",
   "id": "3cef2449-cb96-4814-a9ac-98372c93a9a6",
   "metadata": {},
   "source": [
    "d = 96\n",
    "dt = 0.25\n",
    "algorithm = Algorithms.IABVG_JIT\n",
    "path_da = os.path.join(FileUtils.data_dir, \"processed_da\")\n",
    "path_hh = os.path.join(FileUtils.data_dir, \"processed_hh\")\n",
    "path_ev = os.path.join(FileUtils.data_dir, \"data_EV\")\n",
    "dates_ev = pd.date_range('12/14/2014, 00:00', periods=d, freq='15 min')\n",
    "dates_h = pd.date_range('12/14/2009, 00:00', periods=d, freq='15 min')\n",
    "\n",
    "                                                #sub 1 sub 2 sub 3\n",
    "info_dict = {\n",
    "           \"Nissan Leaf 6.6kW AC\":              [4,   4,   4],\n",
    "           \"Tesla Model Y 11kW AC\":             [4,   4,   4],\n",
    "           \"Tesla Model Y 100kW DC\":            [0,   0,   0],\n",
    "           \"Tesla Model 3 RWD 11kW AC\":         [0,   0,   0],\n",
    "           \"Tesla Model 3 RWD 100kW DC\":        [0,   0,   0],\n",
    "           \"Tesla Model S P100D 16.5kW AC\":     [4,   4,   4],\n",
    "           \"Tesla Powerwall 2\":                 [4,   4,   4],\n",
    "           \"Tesla Powerwall 3\":                 [4,   4,   4],\n",
    "           \"Tesla Powerwall+\":                  [4,   4,   4],\n",
    "           \"generic tclc\":                      [6,   6,   6],\n",
    "           \"generic tclh\":                      [6,   6,   6],\n",
    "           \"participants\":                      [100, 100, 100]\n",
    "}\n",
    "ev_models = nissan_ev.models + tesla_ev.models\n",
    "bess_models = tesla_bess.models\n",
    "tclc_models = generic_tclc.models\n",
    "tclh_models = generic_tclh.models\n",
    "\n",
    "for key, value in info_dict.items():\n",
    "    info_dict[key] = np.array(value)"
   ],
   "outputs": [],
   "execution_count": null
  },
  {
   "cell_type": "code",
   "id": "d3188fa7-f352-48ec-a322-28bfe763aa80",
   "metadata": {
    "tags": []
   },
   "source": [
    "\"\"\"print overall model\"\"\"\n",
    "display(pd.DataFrame(index=[1, 2, 3], data=info_dict))"
   ],
   "outputs": [],
   "execution_count": null
  },
  {
   "cell_type": "markdown",
   "id": "a8f3907e-802a-44b0-a29e-a0309c232dfe",
   "metadata": {},
   "source": [
    "## Data"
   ]
  },
  {
   "cell_type": "code",
   "id": "479f767d-85e9-4567-a8aa-5babd78b0f8b",
   "metadata": {
    "tags": []
   },
   "source": [
    "#np.random.seed(3)\n",
    "signal_vectors = SignalVectors.new(d, g=SignalVectors.g_of_d_exp_2(d))\n",
    "hh_data = HouseholdsData.from_file(path_hh=path_hh,\n",
    "                                   n_entities=info_dict[\"participants\"].sum(),\n",
    "                                   n_time_periods=d)"
   ],
   "outputs": [],
   "execution_count": null
  },
  {
   "cell_type": "markdown",
   "id": "cfef415e-a26f-4cc2-9815-a957f70ff5af",
   "metadata": {},
   "source": [
    "## Define Flexibilities"
   ]
  },
  {
   "cell_type": "code",
   "id": "06b567af-21dd-4c73-ad49-f373e9a40ab5",
   "metadata": {
    "tags": []
   },
   "source": [
    "co_esr_list = []\n",
    "sub_agg_list = []\n",
    "ev_agg_av = np.zeros(d)\n",
    "ev_agg_dem = np.zeros(d)\n",
    "for k in range(len(info_dict[\"participants\"])):\n",
    "    esr_list = []\n",
    "    for hardware in ev_models:\n",
    "        if hardware.name in info_dict:\n",
    "            ev_data = EVData.from_file(path_ev=path_ev, n_entities=info_dict[hardware.name][k], n_time_periods=d, dt=dt, dates=dates_ev)\n",
    "    \n",
    "            ev_agg_av += ev_data.availability.sum(axis=0)\n",
    "            ev_agg_dem += ev_data.power_demand.sum(axis=0)\n",
    "            for i in range(info_dict[hardware.name][k]):\n",
    "                esr = ElectricVehicle.with_charging(hardware=hardware,\n",
    "                                                    initial_capacity=0.5 * hardware.max_capacity,\n",
    "                                                    availability=ev_data.availability[i, :],\n",
    "                                                    power_demand=ev_data.power_demand[i, :],\n",
    "                                                    charging=ev_data.charging[i, :], d=d, dt=dt)\n",
    "                esr_list.append(esr)\n",
    "    \n",
    "    for hardware in bess_models:\n",
    "        if hardware.name in info_dict:\n",
    "            for i in range(info_dict[hardware.name][k]):\n",
    "                init_capacity = np.random.uniform(0.5 * hardware.max_capacity, hardware.max_capacity)\n",
    "                usage = BESSUsage(initial_capacity=init_capacity, final_capacity=init_capacity, d=d, dt=dt)\n",
    "                esr = StationaryBattery.new(hardware=hardware, usage=usage)\n",
    "                esr_list.append(esr)\n",
    "    \n",
    "    for hardware in tclc_models:\n",
    "        if hardware.name in info_dict:\n",
    "            for i in range(info_dict[hardware.name][k]):\n",
    "                usage = TCLCUsage.from_celsius(theta_r_deg_c=20, theta_a_deg_c=30,\n",
    "                                               theta_0_deg_c=np.random.uniform(19, 21),\n",
    "                                               delta=np.random.uniform(1.5, 2.5), d=d, dt=dt)\n",
    "                esr = ThermostaticLoadCooling.new(hardware=hardware, usage=usage)\n",
    "                esr_list.append(esr)\n",
    "    \n",
    "    for hardware in tclh_models:\n",
    "        if hardware.name in info_dict:\n",
    "            for i in range(info_dict[hardware.name][k]):    \n",
    "                demand = np.random.uniform(0, 3, d)\n",
    "                usage = TCLHUsage.from_celsius(theta_r_deg_c=50, theta_a_deg_c=30,\n",
    "                                               theta_0_deg_c=np.random.uniform(49, 51),\n",
    "                                               delta=np.random.uniform(3, 7), demand=demand, d=d, dt=dt)\n",
    "                esr = ThermostaticLoadHeating.new(hardware=hardware, usage=usage)\n",
    "                esr_list.append(esr)\n",
    "        \n",
    "    \"\"\"add items to centralized optimization list\"\"\"\n",
    "    co_esr_list += esr_list\n",
    "\n",
    "    \"\"\"add items to decentralized optimization list\"\"\"\n",
    "    sub_agg_list.append(Aggregator.from_physical(esr_list, signal_vectors=signal_vectors, algorithm=algorithm))\n"
   ],
   "outputs": [],
   "execution_count": null
  },
  {
   "cell_type": "markdown",
   "id": "e3516713-fdbf-49e1-8c07-67e6dd16e204",
   "metadata": {},
   "source": [
    "## Compute Results"
   ]
  },
  {
   "cell_type": "code",
   "id": "41d3007d-d268-444c-ae88-f405741237f5",
   "metadata": {
    "tags": []
   },
   "source": [
    "top_agg = Aggregator.aggregate(sub_agg_list, algorithm=algorithm)\n",
    "\n",
    "vo = VertexBasedPowerController(power_demand=hh_data.power_demand)\n",
    "co = CentralizedPowerController(power_demand=hh_data.power_demand)\n",
    "\n",
    "vo_power = vo.optimize(top_agg)\n",
    "co_power = co.optimize(co_esr_list)"
   ],
   "outputs": [],
   "execution_count": null
  },
  {
   "cell_type": "markdown",
   "id": "0961c25a-d30c-4508-a4b9-bb0afa529ded",
   "metadata": {},
   "source": [
    "## Plot Results"
   ]
  },
  {
   "cell_type": "code",
   "id": "65398fa0-1b1b-4a72-9a24-15771f45ad76",
   "metadata": {},
   "source": [
    "plt.figure()\n",
    "df = pd.DataFrame(index=dates_h, \n",
    "                  data=hh_data.power_demand.sum(axis=0), \n",
    "                  columns=[\"aggregated load\"])\n",
    "\n",
    "\"\"\"we assume that the additional energy needed is considered in the demand curve\"\"\"\n",
    "df_agg = pd.DataFrame(\n",
    "    index=dates_h,\n",
    "    data=hh_data.power_demand.sum(axis=0) + vo_power - vo_power.mean() * np.ones(d),\n",
    "    columns=[\"aggregation\"])\n",
    "\n",
    "df_exact = pd.DataFrame(\n",
    "    index=dates_h,\n",
    "    data=hh_data.power_demand.sum(axis=0) + co_power - co_power.mean() * np.ones(d),\n",
    "    columns=[\"centralized\"])\n",
    "\n",
    "df = pd.concat([df, df_agg], axis=1)\n",
    "df = pd.concat([df, df_exact], axis=1)\n",
    "\n",
    "\"\"\"only interested in demand, negative values are supply not demand\"\"\"\n",
    "df[\"aggregation\"] = df[\"aggregation\"].apply(lambda x: 0 if x < 0 else x) \n",
    "df[\"centralized\"] = df[\"centralized\"].apply(lambda x: 0 if x < 0 else x)\n",
    "\n",
    "df.plot.area(stacked=False, ylabel=\"demand (kW)\", grid=True)\n",
    "plt.show()"
   ],
   "outputs": [],
   "execution_count": null
  },
  {
   "cell_type": "code",
   "id": "e8ff6c7c-a105-44ed-ab35-7d264f20fc3d",
   "metadata": {
    "tags": []
   },
   "source": [
    "print(f\"exact peak: {np.round(np.linalg.norm(df['centralized'].values, np.inf),2)} kW\")\n",
    "print(f\"approx peak: {np.round(np.linalg.norm(df['aggregation'].values, np.inf),2)} kW\")"
   ],
   "outputs": [],
   "execution_count": null
  },
  {
   "cell_type": "code",
   "id": "fec4de54-ac5c-4e66-9725-95aaceb09ef6",
   "metadata": {
    "tags": []
   },
   "source": [
    "plt.figure()\n",
    "df = pd.DataFrame(index=dates_h, data=ev_agg_av, columns=[\"EV availability\"])\n",
    "df.plot(style=\"-o\",grid=True)\n",
    "plt.show()"
   ],
   "outputs": [],
   "execution_count": null
  },
  {
   "cell_type": "code",
   "id": "adc8b26f-3114-4748-9f17-46cf37160821",
   "metadata": {
    "tags": []
   },
   "source": [
    "plt.figure()\n",
    "df = pd.DataFrame(index=dates_h, data=ev_agg_dem, columns=[\"EV trip consumption\"])\n",
    "df.plot.area(ylabel=\"power (kW)\",grid=True, color=\"orange\")\n",
    "plt.show()"
   ],
   "outputs": [],
   "execution_count": null
  }
 ],
 "metadata": {
  "kernelspec": {
   "display_name": "Python 3 (ipykernel)",
   "language": "python",
   "name": "python3"
  },
  "language_info": {
   "codemirror_mode": {
    "name": "ipython",
    "version": 3
   },
   "file_extension": ".py",
   "mimetype": "text/x-python",
   "name": "python",
   "nbconvert_exporter": "python",
   "pygments_lexer": "ipython3",
   "version": "3.11.5"
  }
 },
 "nbformat": 4,
 "nbformat_minor": 5
}

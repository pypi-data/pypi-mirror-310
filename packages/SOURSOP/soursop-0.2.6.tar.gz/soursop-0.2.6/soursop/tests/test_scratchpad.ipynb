{
 "cells": [
  {
   "cell_type": "code",
   "execution_count": 1,
   "id": "b96b2783-e694-426a-86b2-e692d954327a",
   "metadata": {},
   "outputs": [],
   "source": [
    "# Import package, test suite, and other packages as needed\n",
    "import numpy as np\n",
    "import soursop\n",
    "import pytest\n",
    "import sys\n",
    "import random\n",
    "import itertools\n",
    "from copy import deepcopy\n",
    "from soursop import sstrajectory, ssprotein\n",
    "from soursop.ssexceptions import SSException\n",
    "from soursop.configs import DEBUGGING\n",
    "from contextlib import contextmanager\n",
    "import os\n",
    "from matplotlib import pyplot as plt\n",
    "\n",
    "NTL9_FILES=['ntl9.pdb','ntl9.xtc']\n",
    "GS6_FILES=['gs6.pdb','gs6.xtc']\n",
    "test_data_dir = soursop.get_data('test_data')\n",
    "\n",
    "topology_path = os.path.join(test_data_dir, NTL9_FILES[0])\n",
    "trajectory_path = os.path.join(test_data_dir, NTL9_FILES[1])\n",
    "NTL9_CO = sstrajectory.SSTrajectory(trajectory_path, topology_path)\n",
    "\n",
    "\n",
    "topology_path = os.path.join(test_data_dir, GS6_FILES[0])\n",
    "trajectory_path = os.path.join(test_data_dir, GS6_FILES[1])\n",
    "GS6_CO = sstrajectory.SSTrajectory(trajectory_path, topology_path)\n"
   ]
  },
  {
   "cell_type": "code",
   "execution_count": 2,
   "id": "3426d9ca-f453-42a5-be16-5584e5249630",
   "metadata": {},
   "outputs": [],
   "source": [
    "\n",
    "import mdtraj as md"
   ]
  },
  {
   "cell_type": "code",
   "execution_count": 3,
   "id": "17e7c633-aa00-4bd9-88c8-35ddd7c7c811",
   "metadata": {},
   "outputs": [],
   "source": [
    "SP = GS6_CO.proteinTrajectoryList[0]"
   ]
  },
  {
   "cell_type": "code",
   "execution_count": 4,
   "id": "55d3afb4-2b43-425f-8f36-e6e1cb0d8e44",
   "metadata": {},
   "outputs": [
    {
     "name": "stdout",
     "output_type": "stream",
     "text": [
      "(5, 5)\n",
      "(6, 5, 6)\n",
      "(5, 4)\n",
      "(6, 5, 6)\n",
      "(5, 3)\n",
      "(6, 5, 6)\n",
      "(5, 2)\n",
      "(6, 5, 6)\n",
      "(5, 1)\n",
      "(6, 5, 6)\n"
     ]
    }
   ],
   "source": [
    "X2 = SP.get_distance_map(verbose=False, return_instantaneous_maps=True)"
   ]
  },
  {
   "cell_type": "code",
   "execution_count": 4,
   "id": "84fcc62a-c8ef-4b45-a643-7134a2a60005",
   "metadata": {},
   "outputs": [],
   "source": [
    "X2 = SP.get_distance_map(verbose=False)"
   ]
  },
  {
   "cell_type": "code",
   "execution_count": 9,
   "id": "abf67d21-c1e3-4d1d-9e48-1cb2371b1136",
   "metadata": {},
   "outputs": [
    {
     "data": {
      "text/plain": [
       "['ACE-1', 'GLY-2', 'SER-3', 'GLY-4', 'SER-5', 'GLY-6', 'SER-7', 'NME-8']"
      ]
     },
     "execution_count": 9,
     "metadata": {},
     "output_type": "execute_result"
    }
   ],
   "source": [
    "SP.get_amino_acid_sequence()"
   ]
  },
  {
   "cell_type": "code",
   "execution_count": 12,
   "id": "79ea8305-9965-4290-8ccf-77699de87d3c",
   "metadata": {},
   "outputs": [
    {
     "data": {
      "text/plain": [
       "6"
      ]
     },
     "execution_count": 12,
     "metadata": {},
     "output_type": "execute_result"
    }
   ],
   "source": [
    "len(SP.resid_with_CA)"
   ]
  },
  {
   "cell_type": "code",
   "execution_count": 8,
   "id": "46b99fe3-ecdd-4417-96a8-e97daf3dfdd5",
   "metadata": {},
   "outputs": [
    {
     "data": {
      "text/plain": [
       "(6, 6)"
      ]
     },
     "execution_count": 8,
     "metadata": {},
     "output_type": "execute_result"
    }
   ],
   "source": [
    "X2[0].shape"
   ]
  },
  {
   "cell_type": "code",
   "execution_count": 5,
   "id": "0bf14a7a-075b-4b1a-82c9-2ab70d21e75d",
   "metadata": {},
   "outputs": [
    {
     "ename": "ValueError",
     "evalue": "could not broadcast input array from shape (5,5) into shape (4,5)",
     "output_type": "error",
     "traceback": [
      "\u001b[0;31m---------------------------------------------------------------------------\u001b[0m",
      "\u001b[0;31mValueError\u001b[0m                                Traceback (most recent call last)",
      "Cell \u001b[0;32mIn[5], line 1\u001b[0m\n\u001b[0;32m----> 1\u001b[0m X2 \u001b[38;5;241m=\u001b[39m \u001b[43mSP\u001b[49m\u001b[38;5;241;43m.\u001b[39;49m\u001b[43mget_distance_map\u001b[49m\u001b[43m(\u001b[49m\u001b[43mverbose\u001b[49m\u001b[38;5;241;43m=\u001b[39;49m\u001b[38;5;28;43;01mFalse\u001b[39;49;00m\u001b[43m,\u001b[49m\u001b[43m \u001b[49m\u001b[43mreturn_instantaneous_maps\u001b[49m\u001b[38;5;241;43m=\u001b[39;49m\u001b[38;5;28;43;01mTrue\u001b[39;49;00m\u001b[43m)\u001b[49m\n",
      "File \u001b[0;32m~/Dropbox/WASHU/Holehouse/tools/soursop/soursop/soursop/ssprotein.py:1292\u001b[0m, in \u001b[0;36mSSProtein.get_distance_map\u001b[0;34m(self, mode, RMS, stride, return_instantaneous_maps, weights, verbose)\u001b[0m\n\u001b[1;32m   1289\u001b[0m     \u001b[38;5;66;03m#return distance_map, full_data\u001b[39;00m\n\u001b[1;32m   1290\u001b[0m \u001b[38;5;66;03m# update the maps appropriately and increment the counter\u001b[39;00m\n\u001b[1;32m   1291\u001b[0m \u001b[38;5;28;01mif\u001b[39;00m return_instantaneous_maps \u001b[38;5;129;01mis\u001b[39;00m \u001b[38;5;28;01mTrue\u001b[39;00m:\n\u001b[0;32m-> 1292\u001b[0m     \u001b[43mdistance_map\u001b[49m\u001b[43m[\u001b[49m\u001b[43mresIndex\u001b[49m\u001b[43m]\u001b[49m\u001b[38;5;241;43m.\u001b[39;49m\u001b[43mtranspose\u001b[49m\u001b[43m(\u001b[49m\u001b[43m)\u001b[49m\u001b[43m[\u001b[49m\u001b[38;5;241;43m1\u001b[39;49m\u001b[38;5;241;43m+\u001b[39;49m\u001b[43mresIndex\u001b[49m\u001b[43m:\u001b[49m\u001b[43m]\u001b[49m \u001b[38;5;241m=\u001b[39m full_data\u001b[38;5;241m.\u001b[39mtranspose()\n\u001b[1;32m   1294\u001b[0m \u001b[38;5;28;01melse\u001b[39;00m:\n\u001b[1;32m   1295\u001b[0m     distance_map[SM_index][\u001b[38;5;241m1\u001b[39m\u001b[38;5;241m+\u001b[39mSM_index:\u001b[38;5;28mlen\u001b[39m(residuesWithCA)] \u001b[38;5;241m=\u001b[39m mean_data\n",
      "\u001b[0;31mValueError\u001b[0m: could not broadcast input array from shape (5,5) into shape (4,5)"
     ]
    }
   ],
   "source": []
  },
  {
   "cell_type": "code",
   "execution_count": 23,
   "id": "06a8fee6-48b6-4e00-acaa-88cfa798b7bc",
   "metadata": {},
   "outputs": [],
   "source": [
    "np.save('../data/test_data/gs6_distance_map_mean.npy', SP.get_distance_map(verbose=False)[0])\n",
    "np.save('../data/test_data/gs6_distance_map_std.npy', SP.get_distance_map(verbose=False)[1])"
   ]
  },
  {
   "cell_type": "code",
   "execution_count": 14,
   "id": "db4b9aaa-317e-4259-b91f-9077bed2630a",
   "metadata": {},
   "outputs": [],
   "source": [
    "#SP.traj.superpose(SP.traj,0)\n",
    "X2 = SP.get_distance_map(verbose=False)[1]\n",
    "\n",
    "test_data = np.load('../data/test_data/ntl9_distance_map_std.npy')\n",
    "assert np.allclose(test_data, X2, atol=1e-5, rtol=1e-5)"
   ]
  },
  {
   "cell_type": "code",
   "execution_count": 13,
   "id": "93987e86-5075-44f6-bd2d-2d9d7c0cf295",
   "metadata": {},
   "outputs": [
    {
     "data": {
      "text/plain": [
       "3.814697265625e-06"
      ]
     },
     "execution_count": 13,
     "metadata": {},
     "output_type": "execute_result"
    }
   ],
   "source": [
    "np.max(test_data - X2)"
   ]
  },
  {
   "cell_type": "code",
   "execution_count": 15,
   "id": "b65b102e-b0d4-49f2-84fb-9cc9e5fe5dae",
   "metadata": {},
   "outputs": [],
   "source": [
    "f1 =np.load('fuck1.npy')"
   ]
  },
  {
   "cell_type": "code",
   "execution_count": 16,
   "id": "0e02f1cb-dae5-46c4-bbdb-7f55c979d0a1",
   "metadata": {},
   "outputs": [],
   "source": []
  },
  {
   "cell_type": "code",
   "execution_count": 24,
   "id": "9ab8cb64-8d64-4e45-9dd0-d7e7571af3e4",
   "metadata": {},
   "outputs": [
    {
     "ename": "AssertionError",
     "evalue": "",
     "output_type": "error",
     "traceback": [
      "\u001b[0;31m---------------------------------------------------------------------------\u001b[0m",
      "\u001b[0;31mAssertionError\u001b[0m                            Traceback (most recent call last)",
      "Cell \u001b[0;32mIn[24], line 1\u001b[0m\n\u001b[0;32m----> 1\u001b[0m \u001b[38;5;28;01massert\u001b[39;00m np\u001b[38;5;241m.\u001b[39mallclose(test_data, X2, atol\u001b[38;5;241m=\u001b[39m\u001b[38;5;241m1e-6\u001b[39m, rtol\u001b[38;5;241m=\u001b[39m\u001b[38;5;241m1e-5\u001b[39m)\n",
      "\u001b[0;31mAssertionError\u001b[0m: "
     ]
    }
   ],
   "source": []
  },
  {
   "cell_type": "code",
   "execution_count": 6,
   "id": "a9ccc80a-0228-4c42-ad55-53fe9dea9ae4",
   "metadata": {},
   "outputs": [
    {
     "name": "stdout",
     "output_type": "stream",
     "text": [
      "REMINDER: Caclculating Q re-aligns the atomic position of the structure to the native state frame, which may alter the trajectory positions. \n"
     ]
    },
    {
     "name": "stderr",
     "output_type": "stream",
     "text": [
      "/Users/alex/Dropbox/WASHU/Holehouse/tools/soursop/soursop/soursop/ssprotein.py:1994: RuntimeWarning: overflow encountered in exp\n",
      "  q = np.mean(1.0 / (1 + np.exp(BETA_CONST * (r - LAMBDA_CONST * r0))), axis=1)\n"
     ]
    }
   ],
   "source": [
    "Q = SP.get_Q()"
   ]
  },
  {
   "cell_type": "code",
   "execution_count": 7,
   "id": "e1660ec3-402b-4ab6-99cf-4704e179970a",
   "metadata": {},
   "outputs": [],
   "source": [
    "X2 = SP.get_distance_map(verbose=False)\n"
   ]
  },
  {
   "cell_type": "code",
   "execution_count": 8,
   "id": "9aeb2c11-bcc0-4c87-958c-1500fd096bd3",
   "metadata": {},
   "outputs": [
    {
     "data": {
      "text/plain": [
       "array([[0.00000000e+00, 5.21518895e-03, 4.50024039e-01, ...,\n",
       "        1.92586174e+01, 1.91836529e+01, 1.93632393e+01],\n",
       "       [0.00000000e+00, 0.00000000e+00, 1.43621322e-02, ...,\n",
       "        1.74975586e+01, 1.73127861e+01, 1.74912434e+01],\n",
       "       [0.00000000e+00, 0.00000000e+00, 0.00000000e+00, ...,\n",
       "        1.70445805e+01, 1.68337154e+01, 1.69208488e+01],\n",
       "       ...,\n",
       "       [0.00000000e+00, 0.00000000e+00, 0.00000000e+00, ...,\n",
       "        0.00000000e+00, 9.59068164e-03, 2.04155460e-01],\n",
       "       [0.00000000e+00, 0.00000000e+00, 0.00000000e+00, ...,\n",
       "        0.00000000e+00, 0.00000000e+00, 9.24796984e-03],\n",
       "       [0.00000000e+00, 0.00000000e+00, 0.00000000e+00, ...,\n",
       "        0.00000000e+00, 0.00000000e+00, 0.00000000e+00]])"
      ]
     },
     "execution_count": 8,
     "metadata": {},
     "output_type": "execute_result"
    }
   ],
   "source": [
    "X2[1]"
   ]
  },
  {
   "cell_type": "code",
   "execution_count": 12,
   "id": "a17c3525-e64c-4bbd-bcc8-07d7b8f66d76",
   "metadata": {},
   "outputs": [],
   "source": [
    "np.save('ntl9_distance_map_std.npy', X2[1])"
   ]
  },
  {
   "cell_type": "code",
   "execution_count": 5,
   "id": "a2826ebb-6467-4a4f-a0ed-505daac2e005",
   "metadata": {},
   "outputs": [
    {
     "name": "stdout",
     "output_type": "stream",
     "text": [
      "FUCK\n",
      "FUCK\n",
      "FUCK\n",
      "FUCK\n",
      "FUCK\n",
      "FUCK\n",
      "FUCK\n",
      "FUCK\n",
      "FUCK\n",
      "FUCK\n",
      "FUCK\n",
      "FUCK\n",
      "FUCK\n",
      "FUCK\n",
      "FUCK\n",
      "FUCK\n",
      "FUCK\n",
      "FUCK\n",
      "FUCK\n",
      "FUCK\n",
      "FUCK\n",
      "FUCK\n",
      "FUCK\n",
      "FUCK\n",
      "FUCK\n",
      "FUCK\n",
      "FUCK\n",
      "FUCK\n",
      "FUCK\n",
      "FUCK\n",
      "FUCK\n",
      "FUCK\n",
      "FUCK\n",
      "FUCK\n",
      "FUCK\n",
      "FUCK\n",
      "FUCK\n",
      "FUCK\n",
      "FUCK\n",
      "FUCK\n",
      "FUCK\n",
      "FUCK\n",
      "FUCK\n",
      "FUCK\n",
      "FUCK\n",
      "FUCK\n",
      "FUCK\n",
      "FUCK\n",
      "FUCK\n",
      "FUCK\n",
      "FUCK\n",
      "FUCK\n",
      "FUCK\n",
      "FUCK\n",
      "FUCK\n",
      "FUCK\n",
      "FUCK\n",
      "FUCK\n",
      "FUCK\n",
      "FUCK\n",
      "FUCK\n",
      "FUCK\n",
      "FUCK\n",
      "FUCK\n",
      "FUCK\n",
      "FUCK\n",
      "FUCK\n",
      "FUCK\n",
      "FUCK\n",
      "FUCK\n",
      "FUCK\n",
      "FUCK\n",
      "FUCK\n",
      "FUCK\n",
      "FUCK\n",
      "FUCK\n",
      "FUCK\n",
      "FUCK\n",
      "FUCK\n",
      "FUCK\n",
      "FUCK\n",
      "FUCK\n",
      "FUCK\n",
      "FUCK\n",
      "FUCK\n",
      "FUCK\n",
      "FUCK\n",
      "FUCK\n",
      "FUCK\n",
      "FUCK\n",
      "FUCK\n",
      "FUCK\n",
      "FUCK\n",
      "FUCK\n",
      "FUCK\n",
      "FUCK\n",
      "FUCK\n",
      "FUCK\n",
      "FUCK\n",
      "FUCK\n",
      "FUCK\n",
      "FUCK\n",
      "FUCK\n",
      "FUCK\n",
      "FUCK\n",
      "FUCK\n",
      "FUCK\n",
      "FUCK\n",
      "FUCK\n",
      "FUCK\n"
     ]
    },
    {
     "data": {
      "text/plain": [
       "array([[[ 0.        ,  3.77291632,  7.06006336, ..., 52.38792419,\n",
       "         53.15813446, 56.31497955],\n",
       "        [ 0.        ,  0.        ,  3.79755211, ..., 50.86276245,\n",
       "         51.65504456, 54.74391556],\n",
       "        [ 0.        ,  0.        ,  0.        , ..., 47.67663574,\n",
       "         48.40866852, 51.42710114],\n",
       "        ...,\n",
       "        [ 0.        ,  0.        ,  0.        , ...,  0.        ,\n",
       "          3.80096102,  6.90968895],\n",
       "        [ 0.        ,  0.        ,  0.        , ...,  0.        ,\n",
       "          0.        ,  3.79674864],\n",
       "        [ 0.        ,  0.        ,  0.        , ...,  0.        ,\n",
       "          0.        ,  0.        ]],\n",
       "\n",
       "       [[ 0.        ,  3.78145742,  6.48083496, ..., 41.13037109,\n",
       "         44.85914612, 48.23360443],\n",
       "        [ 0.        ,  0.        ,  3.79069901, ..., 39.58363342,\n",
       "         43.36292648, 46.62768555],\n",
       "        [ 0.        ,  0.        ,  0.        , ..., 37.70098877,\n",
       "         41.47782898, 44.77334595],\n",
       "        ...,\n",
       "        [ 0.        ,  0.        ,  0.        , ...,  0.        ,\n",
       "          3.8074789 ,  7.19545174],\n",
       "        [ 0.        ,  0.        ,  0.        , ...,  0.        ,\n",
       "          0.        ,  3.80071282],\n",
       "        [ 0.        ,  0.        ,  0.        , ...,  0.        ,\n",
       "          0.        ,  0.        ]],\n",
       "\n",
       "       [[ 0.        ,  3.77609682,  6.52734184, ..., 56.00782776,\n",
       "         58.35411835, 59.13175964],\n",
       "        [ 0.        ,  0.        ,  3.80222297, ..., 56.48329926,\n",
       "         58.62945175, 59.24316406],\n",
       "        [ 0.        ,  0.        ,  0.        , ..., 60.00404739,\n",
       "         62.08063507, 62.6566925 ],\n",
       "        ...,\n",
       "        [ 0.        ,  0.        ,  0.        , ...,  0.        ,\n",
       "          3.79927588,  6.94160748],\n",
       "        [ 0.        ,  0.        ,  0.        , ...,  0.        ,\n",
       "          0.        ,  3.80649519],\n",
       "        [ 0.        ,  0.        ,  0.        , ...,  0.        ,\n",
       "          0.        ,  0.        ]],\n",
       "\n",
       "       ...,\n",
       "\n",
       "       [[ 0.        ,  3.7681427 ,  5.84541702, ..., 43.42370605,\n",
       "         41.6931076 , 42.22974777],\n",
       "        [ 0.        ,  0.        ,  3.75622296, ..., 43.9401207 ,\n",
       "         41.97731018, 42.27962494],\n",
       "        [ 0.        ,  0.        ,  0.        , ..., 41.20692444,\n",
       "         39.06852722, 39.16797256],\n",
       "        ...,\n",
       "        [ 0.        ,  0.        ,  0.        , ...,  0.        ,\n",
       "          3.78154659,  7.28657675],\n",
       "        [ 0.        ,  0.        ,  0.        , ...,  0.        ,\n",
       "          0.        ,  3.80277491],\n",
       "        [ 0.        ,  0.        ,  0.        , ...,  0.        ,\n",
       "          0.        ,  0.        ]],\n",
       "\n",
       "       [[ 0.        ,  3.76714587,  6.50347519, ..., 73.03494263,\n",
       "         71.1764679 , 73.2155304 ],\n",
       "        [ 0.        ,  0.        ,  3.79897404, ..., 69.60980988,\n",
       "         67.82931519, 69.94696808],\n",
       "        [ 0.        ,  0.        ,  0.        , ..., 66.67173004,\n",
       "         64.78585052, 66.80227661],\n",
       "        ...,\n",
       "        [ 0.        ,  0.        ,  0.        , ...,  0.        ,\n",
       "          3.80360365,  6.5891428 ],\n",
       "        [ 0.        ,  0.        ,  0.        , ...,  0.        ,\n",
       "          0.        ,  3.80397129],\n",
       "        [ 0.        ,  0.        ,  0.        , ...,  0.        ,\n",
       "          0.        ,  0.        ]],\n",
       "\n",
       "       [[ 0.        ,  3.76503515,  6.50541973, ..., 71.76165771,\n",
       "         72.06187439, 72.39682007],\n",
       "        [ 0.        ,  0.        ,  3.79528713, ..., 68.05970001,\n",
       "         68.40220642, 68.77038574],\n",
       "        [ 0.        ,  0.        ,  0.        , ..., 65.86406708,\n",
       "         66.09933472, 66.50734711],\n",
       "        ...,\n",
       "        [ 0.        ,  0.        ,  0.        , ...,  0.        ,\n",
       "          3.79811621,  6.89812279],\n",
       "        [ 0.        ,  0.        ,  0.        , ...,  0.        ,\n",
       "          0.        ,  3.80263305],\n",
       "        [ 0.        ,  0.        ,  0.        , ...,  0.        ,\n",
       "          0.        ,  0.        ]]])"
      ]
     },
     "execution_count": 5,
     "metadata": {},
     "output_type": "execute_result"
    }
   ],
   "source": [
    "X = SP.get_distance_map(verbose=False, return_instantaneous_maps=True)\n",
    "X2 = SP.get_distance_map(verbose=False, return_instantaneous_maps=False)\n",
    "\n",
    "X[0]\n"
   ]
  },
  {
   "cell_type": "code",
   "execution_count": 11,
   "id": "b4f3220b-e84b-4331-ab8a-bbb3817a050f",
   "metadata": {},
   "outputs": [
    {
     "data": {
      "text/plain": [
       "array([[0.00000000e+00, 5.21591259e-03, 4.50023651e-01, ...,\n",
       "        1.92586174e+01, 1.91836529e+01, 1.93632374e+01],\n",
       "       [0.00000000e+00, 0.00000000e+00, 1.43630076e-02, ...,\n",
       "        1.74975586e+01, 1.73127842e+01, 1.74912434e+01],\n",
       "       [0.00000000e+00, 0.00000000e+00, 0.00000000e+00, ...,\n",
       "        1.70445805e+01, 1.68337154e+01, 1.69208488e+01],\n",
       "       ...,\n",
       "       [0.00000000e+00, 0.00000000e+00, 0.00000000e+00, ...,\n",
       "        0.00000000e+00, 9.59104020e-03, 2.04156026e-01],\n",
       "       [0.00000000e+00, 0.00000000e+00, 0.00000000e+00, ...,\n",
       "        0.00000000e+00, 0.00000000e+00, 9.24813654e-03],\n",
       "       [0.00000000e+00, 0.00000000e+00, 0.00000000e+00, ...,\n",
       "        0.00000000e+00, 0.00000000e+00, 0.00000000e+00]])"
      ]
     },
     "execution_count": 11,
     "metadata": {},
     "output_type": "execute_result"
    }
   ],
   "source": [
    "X2[1]"
   ]
  },
  {
   "cell_type": "code",
   "execution_count": 26,
   "id": "62a8ca85-4635-493e-b435-d96457fde8c3",
   "metadata": {},
   "outputs": [],
   "source": [
    "m_diff = m_diff"
   ]
  },
  {
   "cell_type": "code",
   "execution_count": 9,
   "id": "07d4acde-08ba-42e8-afae-a5541b2f70b7",
   "metadata": {},
   "outputs": [
    {
     "data": {
      "text/plain": [
       "False"
      ]
     },
     "execution_count": 9,
     "metadata": {},
     "output_type": "execute_result"
    }
   ],
   "source": [
    "np.allclose(X[0], np.mean(X2,0), atol=1e-6, rtol=1e-5)"
   ]
  },
  {
   "cell_type": "code",
   "execution_count": 17,
   "id": "c55a5d3a-fad0-420d-a14b-a03402311413",
   "metadata": {},
   "outputs": [
    {
     "data": {
      "text/plain": [
       "array([[ 0.        ,  3.77019162,  6.36068912, ..., 45.97738075,\n",
       "        46.74778299, 48.02442551],\n",
       "       [ 0.        ,  0.        ,  3.79642918, ..., 45.11958771,\n",
       "        45.94252615, 47.21632233],\n",
       "       [ 0.        ,  0.        ,  0.        , ..., 43.9947423 ,\n",
       "        44.79915981, 46.06244202],\n",
       "       ...,\n",
       "       [ 0.        ,  0.        ,  0.        , ...,  0.        ,\n",
       "         3.79821315,  7.02330074],\n",
       "       [ 0.        ,  0.        ,  0.        , ...,  0.        ,\n",
       "         0.        ,  3.79875891],\n",
       "       [ 0.        ,  0.        ,  0.        , ...,  0.        ,\n",
       "         0.        ,  0.        ]])"
      ]
     },
     "execution_count": 17,
     "metadata": {},
     "output_type": "execute_result"
    }
   ],
   "source": [
    "np.mean(X[0],0)"
   ]
  },
  {
   "cell_type": "code",
   "execution_count": 21,
   "id": "d32c1bae-9ba3-46ec-985e-e6c53c464140",
   "metadata": {},
   "outputs": [],
   "source": [
    "# check we can calculate this by averaging as well...\n",
    "distance_map, stddev_map = SP.get_distance_map(return_instantaneous_maps=True, verbose=False)\n",
    "distance_map_mean, stddev_map = SP.get_distance_map(verbose=False)\n",
    "\n",
    "assert np.allclose(distance_map_mean, np.mean(distance_map,0), atol=1e-6, rtol=1e-5)\n"
   ]
  },
  {
   "cell_type": "code",
   "execution_count": 4,
   "id": "a36acdd6-8068-487f-95ca-662182376613",
   "metadata": {},
   "outputs": [],
   "source": [
    "B = np.transpose(X[0],axes=[1,0,2])"
   ]
  },
  {
   "cell_type": "code",
   "execution_count": 6,
   "id": "748c1e7d-bc1f-4efb-81c1-193ea5e7a44f",
   "metadata": {},
   "outputs": [
    {
     "data": {
      "text/plain": [
       "(56, 56)"
      ]
     },
     "execution_count": 6,
     "metadata": {},
     "output_type": "execute_result"
    }
   ],
   "source": [
    "np.mean(B,0).shape\n",
    "X2[0].shape"
   ]
  },
  {
   "cell_type": "code",
   "execution_count": 15,
   "id": "0ff285a2-9e43-49e9-9eb0-5286d8c9f73c",
   "metadata": {},
   "outputs": [
    {
     "data": {
      "text/plain": [
       "-9.169578555567881e-05"
      ]
     },
     "execution_count": 15,
     "metadata": {},
     "output_type": "execute_result"
    }
   ],
   "source": [
    "np.sum(np.mean(B,0) - X2[0])"
   ]
  },
  {
   "cell_type": "code",
   "execution_count": 14,
   "id": "041ef497-1f12-494c-aba5-1405bf95cf05",
   "metadata": {},
   "outputs": [
    {
     "data": {
      "text/plain": [
       "<matplotlib.image.AxesImage at 0x155f32d60>"
      ]
     },
     "execution_count": 14,
     "metadata": {},
     "output_type": "execute_result"
    },
    {
     "data": {
      "image/png": "[encoded data removed]",
      "text/plain": [
       "<Figure size 640x480 with 1 Axes>"
      ]
     },
     "metadata": {},
     "output_type": "display_data"
    }
   ],
   "source": [
    "plt.imshow(np.mean(B,0) - X2[0])"
   ]
  },
  {
   "cell_type": "code",
   "execution_count": 7,
   "id": "bd8f0e30-811a-4f3b-b928-2269410339c2",
   "metadata": {},
   "outputs": [
    {
     "data": {
      "text/plain": [
       "<matplotlib.image.AxesImage at 0x1529e7130>"
      ]
     },
     "execution_count": 7,
     "metadata": {},
     "output_type": "execute_result"
    },
    {
     "data": {
      "image/png": "[encoded data removed]",
      "text/plain": [
       "<Figure size 640x480 with 1 Axes>"
      ]
     },
     "metadata": {},
     "output_type": "display_data"
    }
   ],
   "source": [
    "plt.imshow(np.mean(B,0))"
   ]
  },
  {
   "cell_type": "code",
   "execution_count": 5,
   "id": "6cdef29e-3033-4f74-81c7-a55986036993",
   "metadata": {},
   "outputs": [],
   "source": [
    "from sparrow import Protein"
   ]
  },
  {
   "cell_type": "code",
   "execution_count": 11,
   "id": "ec3aff57-3146-45fc-9856-7745d4445d8d",
   "metadata": {},
   "outputs": [
    {
     "data": {
      "text/plain": [
       "[<matplotlib.lines.Line2D at 0x2a9e38640>]"
      ]
     },
     "execution_count": 11,
     "metadata": {},
     "output_type": "execute_result"
    },
    {
     "data": {
      "image/png": "[encoded data removed]",
      "text/plain": [
       "<Figure size 640x480 with 1 Axes>"
      ]
     },
     "metadata": {},
     "output_type": "display_data"
    }
   ],
   "source": [
    "wt = 'MKKGGVRSYRRSSTSKRSVIEEESEPELPSMTKEAIASHKAESGSSENEVESEHESKSSSKKLKENAKEEEGGEEEEE'\n",
    "\n",
    "plt.plot(Protein(wt).predictor.dssp_helicity(mode='probability'))"
   ]
  },
  {
   "cell_type": "code",
   "execution_count": 14,
   "id": "6ebabb29-baf0-479c-a4a5-c60934dab8f3",
   "metadata": {},
   "outputs": [
    {
     "data": {
      "text/plain": [
       "[<matplotlib.lines.Line2D at 0x2a9ef6be0>]"
      ]
     },
     "execution_count": 14,
     "metadata": {},
     "output_type": "execute_result"
    },
    {
     "data": {
      "image/png": "[encoded data removed]",
      "text/plain": [
       "<Figure size 640x480 with 1 Axes>"
      ]
     },
     "metadata": {},
     "output_type": "display_data"
    }
   ],
   "source": [
    "mut = 'MKKGGVRSYRRSSTSKRSVIEEESEPELPSMTKEAIPSHKAESGSSENEVESEHESKSSSKKPKENAKEEEGGEEEEE'\n",
    "\n",
    "plt.plot(Protein(mut).predictor.dssp_helicity(mode='probability'))"
   ]
  }
 ],
 "metadata": {
  "kernelspec": {
   "display_name": "Python 3 (ipykernel)",
   "language": "python",
   "name": "python3"
  },
  "language_info": {
   "codemirror_mode": {
    "name": "ipython",
    "version": 3
   },
   "file_extension": ".py",
   "mimetype": "text/x-python",
   "name": "python",
   "nbconvert_exporter": "python",
   "pygments_lexer": "ipython3",
   "version": "3.8.17"
  }
 },
 "nbformat": 4,
 "nbformat_minor": 5
}

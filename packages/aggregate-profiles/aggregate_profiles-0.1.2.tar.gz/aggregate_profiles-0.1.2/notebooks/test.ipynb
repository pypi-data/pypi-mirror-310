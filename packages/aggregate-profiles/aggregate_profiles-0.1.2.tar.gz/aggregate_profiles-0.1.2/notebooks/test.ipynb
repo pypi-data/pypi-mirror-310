{
 "cells": [
  {
   "cell_type": "code",
   "execution_count": null,
   "metadata": {},
   "outputs": [],
   "source": [
    "from bokeh.plotting import figure, show, output_notebook\n",
    "from bokeh.sampledata.penguins import data\n",
    "from bokeh.transform import factor_cmap, factor_mark"
   ]
  },
  {
   "cell_type": "code",
   "execution_count": null,
   "metadata": {},
   "outputs": [],
   "source": [
    "output_notebook()\n",
    "\n",
    "SPECIES = sorted(data.species.unique())\n",
    "MARKERS = ['hex', 'circle_x', 'triangle']\n",
    "SEXS = ['FEMALE', 'MALE']\n",
    "\n",
    "p = figure(title = \"Penguin size\", background_fill_color=\"#fafafa\")\n",
    "p.xaxis.axis_label = 'Flipper Length (mm)'\n",
    "p.yaxis.axis_label = 'Body Mass (g)'\n",
    "\n",
    "p.scatter(\"flipper_length_mm\", \"body_mass_g\", source=data,\n",
    "          legend_group=\"species\", fill_alpha=0.4, size=12,\n",
    "          marker=factor_mark('species', MARKERS, SPECIES),\n",
    "          color=factor_cmap('sex', ['red', 'blue'], SEXS))\n",
    "\n",
    "p.legend.location = \"top_left\"\n",
    "p.legend.title = \"Species\"\n",
    "\n",
    "show(p)"
   ]
  },
  {
   "cell_type": "code",
   "execution_count": null,
   "metadata": {},
   "outputs": [],
   "source": [
    "data.bill_depth_mm.min()"
   ]
  },
  {
   "cell_type": "code",
   "execution_count": null,
   "metadata": {},
   "outputs": [],
   "source": [
    "data.bill_length_mm"
   ]
  },
  {
   "cell_type": "code",
   "execution_count": null,
   "metadata": {},
   "outputs": [],
   "source": [
    "species = data.species.unique()\n",
    "MARKERS = ['hex', 'circle_x', 'triangle']\n",
    "sex_color_mapper = {'MALE': 'blue',\n",
    "                    'FEMALE': 'red'}\n"
   ]
  },
  {
   "cell_type": "code",
   "execution_count": null,
   "metadata": {},
   "outputs": [],
   "source": []
  }
 ],
 "metadata": {
  "kernelspec": {
   "display_name": "Python 3",
   "language": "python",
   "name": "python3"
  },
  "language_info": {
   "codemirror_mode": {
    "name": "ipython",
    "version": 3
   },
   "file_extension": ".py",
   "mimetype": "text/x-python",
   "name": "python",
   "nbconvert_exporter": "python",
   "pygments_lexer": "ipython3",
   "version": "3.10.14"
  }
 },
 "nbformat": 4,
 "nbformat_minor": 2
}

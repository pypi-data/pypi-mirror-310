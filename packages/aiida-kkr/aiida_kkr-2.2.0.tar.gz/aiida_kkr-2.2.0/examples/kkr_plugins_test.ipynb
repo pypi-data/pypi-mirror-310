{
 "cells": [
  {
   "cell_type": "markdown",
   "metadata": {},
   "source": [
    "# AiiDA-KKR demo"
   ]
  },
  {
   "cell_type": "markdown",
   "metadata": {},
   "source": [
    "Here is a Demo to run the Voronoi code with a follow up KKR calculation with AiiDA \n",
    "with pure python code"
   ]
  },
  {
   "cell_type": "markdown",
   "metadata": {},
   "source": [
    "Some Comments:\n",
    "\n",
    "In oder to run the KKR and Voronoi codes you have to set them up as codes in AiiDA.\n",
    "You might source a bash rc in the pretext execution of the code for Licenzing issues.\n",
    "Also you should symbol link the ElementPotential DataBase for the Voronoi code\n",
    "    \n",
    "If you want to test, use submit test, which will save all files created before a calculation would be run in a local test_submit folder"
   ]
  },
  {
   "cell_type": "code",
   "execution_count": 39,
   "metadata": {
    "collapsed": false,
    "deletable": true,
    "editable": true
   },
   "outputs": [
    {
     "name": "stdout",
     "output_type": "stream",
     "text": [
      "The autoreload extension is already loaded. To reload it, use:\n",
      "  %reload_ext autoreload\n"
     ]
    }
   ],
   "source": [
    "%load_ext autoreload\n",
    "%autoreload 2\n",
    "%matplotlib notebook\n",
    "\n",
    "import time\n",
    "import os\n",
    "from aiida import load_dbenv, is_dbenv_loaded\n",
    "if not is_dbenv_loaded():\n",
    "    load_dbenv()\n",
    "from aiida.orm import Code, load_node\n",
    "from aiida.orm import DataFactory, CalculationFactory\n",
    "from aiida_kkr.tools.kkrcontrol import write_kkr_inputcard_template, fill_keywords_to_inputcard, create_keyword_default_values\n",
    "from pprint import pprint\n",
    "from scipy import array\n",
    "from aiida_kkr.calculations.kkr import KkrCalculation\n",
    "from aiida_kkr.calculations.voro import VoronoiCalculation\n",
    "from aiida_kkr.parsers.voro import VoronoiParser\n",
    "from aiida_kkr.parsers.kkr import KkrParser\n",
    "\n",
    "ParameterData = DataFactory('parameter')\n",
    "StructureData = DataFactory('structure')"
   ]
  },
  {
   "cell_type": "code",
   "execution_count": 32,
   "metadata": {
    "collapsed": false,
    "deletable": true,
    "editable": true
   },
   "outputs": [
    {
     "name": "stdout",
     "output_type": "stream",
     "text": [
      "0.5\n"
     ]
    }
   ],
   "source": [
    "# Prepare and AiiDAStructure Data as input, example Cu\n",
    "\n",
    "alat = 6.830000 # in a_Bohr\n",
    "abohr = 0.52917721067\n",
    "# number of atom positions in unit cell\n",
    "natyp = 1\n",
    "# bravais vectors\n",
    "bravais = array([[0.5, 0.5, 0.0], [0.5, 0.0, 0.5], [0.0, 0.5, 0.5]])\n",
    "\n",
    "a = 0.5*alat*abohr\n",
    "Cu = StructureData(cell=[[a, a, 0.0], [a, 0.0, a], [0.0, a, a]])\n",
    "Cu.append_atom(position=[0.0, 0.0, 0.0], symbols='Cu')\n",
    "#Cu.store()\n",
    "Cu = load_node(79546)\n",
    "print(Cu)"
   ]
  },
  {
   "cell_type": "code",
   "execution_count": 5,
   "metadata": {
    "collapsed": false,
    "deletable": true,
    "editable": true
   },
   "outputs": [
    {
     "name": "stdout",
     "output_type": "stream",
     "text": [
      "{'<NLBASIS>': [1, '%i'],\n",
      " '<NRBASIS>': [1, '%i'],\n",
      " '<RBLEFT>': [[0, 0, 0], ['%f', '%f', '%f']],\n",
      " '<RBRIGHT>': [[0, 0, 0], ['%f', '%f', '%f']],\n",
      " 'ALATBASIS': [6.83, '%f'],\n",
      " 'BZKX': [10, '%i'],\n",
      " 'BZKY': [10, '%i'],\n",
      " 'BZKZ': [20, '%i'],\n",
      " 'CARTESIAN': ['F', '%1s'],\n",
      " 'EMAX': [1.0, '%6.3f'],\n",
      " 'EMIN': [-0.4, '%6.3f'],\n",
      " 'GMAX': [65, '%i'],\n",
      " 'HFIELD': [0.0, '%5.2f'],\n",
      " 'IMIX': [0, '%i'],\n",
      " 'INS': [0, '%i'],\n",
      " 'INTERFACE': ['F', '%1s'],\n",
      " 'KSHAPE': [0, '%i'],\n",
      " 'LINIPOL': ['F', '%1s'],\n",
      " 'LMAX': [2, '%i'],\n",
      " 'NATYP': [1, '%i'],\n",
      " 'NCHEB': [13, '%i'],\n",
      " 'NPAN_EQ': [5, '%i'],\n",
      " 'NPAN_LOG': [15, '%i'],\n",
      " 'NPOL': [4, '%4i'],\n",
      " 'NPT1': [3, '%4i'],\n",
      " 'NPT2': [10, '%4i'],\n",
      " 'NPT3': [3, '%4i'],\n",
      " 'NSPIN': [1, '%i'],\n",
      " 'NSTEPS': [30, '%i'],\n",
      " 'QBOUND': ['1D-3', '%s'],\n",
      " 'RCLUSTXY': [1.5, '%7.2f'],\n",
      " 'RCLUSTZ': [1.5, '%7.2f'],\n",
      " 'RMAX': [7, '%i'],\n",
      " 'R_LOG': [1.0, '%5.1f'],\n",
      " 'STRMIX': [0.01, '%f'],\n",
      " 'TEMPR': [800.0, '%7.1f'],\n",
      " 'ZPERIODL': [[0, 0, 0], ['%f', '%f', '%f']],\n",
      " 'ZPERIODR': [[0, 0, 0], ['%f', '%f', '%f']]}\n"
     ]
    }
   ],
   "source": [
    "# Now gernerate a ParameterData node with keyvalues needed by voronoi and KKR \n",
    "# we use a helper function for some defaults and set some values\n",
    "\n",
    "keywords = create_keyword_default_values()\n",
    "keywords['NATYP'][0] = natyp\n",
    "keywords['ALATBASIS'][0] = alat\n",
    "keywords['NSPIN'][0] = 1\n",
    "keywords['LMAX'][0] = 2\n",
    "# choose only coarse energy contour and k-mesh for test purposes\n",
    "keywords['NPOL'][0] = 4\n",
    "keywords['NPT1'][0] = 3\n",
    "keywords['NPT2'][0] = 10\n",
    "keywords['NPT3'][0] = 3\n",
    "keywords['BZKX'][0] = 10\n",
    "keywords['BZKY'][0] = 10\n",
    "keywords['RCLUSTZ'][0] = 1.50\n",
    "keywords['RCLUSTXY'][0] = 1.50\n",
    "# for ASA\n",
    "keywords['INS'] = [0, '%i']\n",
    "keywords['KSHAPE'] = [0, '%i']\n",
    "pprint(keywords)"
   ]
  },
  {
   "cell_type": "code",
   "execution_count": 6,
   "metadata": {
    "collapsed": false,
    "deletable": true,
    "editable": true
   },
   "outputs": [
    {
     "name": "stdout",
     "output_type": "stream",
     "text": [
      "uuid: a5da7eef-32ee-47e2-9d94-821dc231869b (pk: 79550)\n"
     ]
    }
   ],
   "source": [
    "# Store the node\n",
    "keyw = ParameterData(dict=keywords)\n",
    "#keyw.store()\n",
    "keyw = load_node(79550)\n",
    "print keyw"
   ]
  },
  {
   "cell_type": "code",
   "execution_count": 12,
   "metadata": {
    "collapsed": false,
    "deletable": true,
    "editable": true
   },
   "outputs": [],
   "source": [
    "# Running a single Vornoi calculation\n",
    "code = Code.get_from_string('voro@local_mac')\n",
    "calc = VoronoiCalculation()\n",
    "calc.label = 'Test voronoi'\n",
    "calc.set_withmpi(False)\n",
    "calc.set_resources({\"num_machines\" : 1})\n",
    "calc.set_max_wallclock_seconds(300)\n",
    "calc.set_computer('local_mac')\n",
    "calc.use_code(code)\n",
    "calc.use_structure(Cu)\n",
    "calc.use_parameters(keyw)"
   ]
  },
  {
   "cell_type": "code",
   "execution_count": 14,
   "metadata": {
    "collapsed": false,
    "deletable": true,
    "editable": true
   },
   "outputs": [
    {
     "name": "stdout",
     "output_type": "stream",
     "text": [
      "/Users/broeder/aiida/github/submit_test/20171110-00023/inputcard\n",
      "WARNING for replacement of keyword KSHAPE: not in template!\n",
      "... also naked keyword not found. Just appending it.\n",
      "WARNING for replacement of keyword INS: not in template!\n",
      "... also naked keyword not found. Just appending it.\n",
      "Test_submit for calculation (uuid='9267e048-2988-41cf-bee2-020b7c546eef')\n",
      "Submit file in submit_test/20171110-00023/_aiidasubmit.sh\n"
     ]
    }
   ],
   "source": [
    "submit_test = False\n",
    "\n",
    "if submit_test:\n",
    "    subfolder, script_filename = calc.submit_test()\n",
    "    print \"Test_submit for calculation (uuid='{}')\".format(\n",
    "        calc.uuid)\n",
    "    print \"Submit file in {}\".format(os.path.join(\n",
    "        os.path.relpath(subfolder.abspath),\n",
    "        script_filename\n",
    "    ))\n",
    "else:\n",
    "    calc.store_all()\n",
    "    print \"created calculation; calc=Calculation(uuid='{}') # ID={}\".format(\n",
    "        calc.uuid, calc.dbnode.pk)\n",
    "    calc.submit()\n",
    "    print \"submitted calculation; calc=Calculation(uuid='{}') # ID={}\".format(\n",
    "        calc.uuid, calc.dbnode.pk)"
   ]
  },
  {
   "cell_type": "code",
   "execution_count": 15,
   "metadata": {
    "collapsed": false,
    "deletable": true,
    "editable": true
   },
   "outputs": [
    {
     "name": "stdout",
     "output_type": "stream",
     "text": [
      "#!/bin/bash\n",
      "\n",
      "\n",
      "\n",
      "source ~/.profile_aiida\n",
      "ln -s /Users/broeder/aiida/codes/kkr/voronoi/ElementDataBase\n",
      "\n",
      "'/Users/broeder/aiida/codes/kkr/voronoi/voronoi.exe'  > 'out_voronoi' \n",
      "_aiidasubmit.sh inputcard\n"
     ]
    }
   ],
   "source": [
    "!cat submit_test/20171110-00007/_aiidasubmit.sh\n",
    "!ls submit_test/20171110-00001/\n",
    "! cat submit_test/20171110-00007/inputcard"
   ]
  },
  {
   "cell_type": "code",
   "execution_count": null,
   "metadata": {
    "collapsed": true
   },
   "outputs": [],
   "source": [
    "# Ontop the voronoi calculation we want to run a KKR calculation\n",
    "# for this we have to get some things from the voronoi calculation"
   ]
  },
  {
   "cell_type": "code",
   "execution_count": 22,
   "metadata": {
    "collapsed": false,
    "deletable": true,
    "editable": true
   },
   "outputs": [],
   "source": [
    "# use the calculation run before or load a voronoi calculation\n",
    "calc2 = load_node(79565)"
   ]
  },
  {
   "cell_type": "code",
   "execution_count": 23,
   "metadata": {
    "collapsed": false,
    "deletable": true,
    "editable": true
   },
   "outputs": [],
   "source": [
    "# We create a new parameter node in which we store the emin extracted form the voronoi calculation\n",
    "#emin = calc1.get_outputs_dict()['output_parameters'].get_dict()['EMIN']\n",
    "emin = calc2.res.EMIN\n",
    "remote = calc2.get_outputs_dict()['remote_folder']\n",
    "keywords2 = keywords\n",
    "keywords2['EMIN'][0] = emin\n"
   ]
  },
  {
   "cell_type": "code",
   "execution_count": 24,
   "metadata": {
    "collapsed": false,
    "deletable": true,
    "editable": true
   },
   "outputs": [
    {
     "name": "stdout",
     "output_type": "stream",
     "text": [
      "uuid: 6b1ef75a-a2c7-4967-9ce9-ed44e0948c8b (pk: 79570)\n"
     ]
    }
   ],
   "source": [
    "keyw2 = ParameterData(dict=keywords2)\n",
    "#keyw2.store()\n",
    "keyw2 = load_node(79570)\n",
    "print keyw2"
   ]
  },
  {
   "cell_type": "code",
   "execution_count": 34,
   "metadata": {
    "collapsed": false,
    "deletable": true,
    "editable": true
   },
   "outputs": [],
   "source": [
    "# Now we create and run the kkr Calculation\n",
    "code = Code.get_from_string('kkr1@local_mac')#'kkrimp@local_mac')\n",
    "calc1 = KkrCalculation()\n",
    "calc1.label = 'Test kkr'\n",
    "calc1.set_withmpi(False)\n",
    "calc1.set_resources({\"num_machines\" : 1})\n",
    "calc1.set_max_wallclock_seconds(300)\n",
    "calc1.set_computer('local_mac')\n",
    "calc1.use_code(code)\n",
    "#calc1.use_structure(Cu)\n",
    "calc1.use_parameters(keyw2)\n",
    "calc1.use_parent_folder(remote)"
   ]
  },
  {
   "cell_type": "code",
   "execution_count": 37,
   "metadata": {
    "collapsed": false,
    "deletable": true,
    "editable": true
   },
   "outputs": [
    {
     "name": "stdout",
     "output_type": "stream",
     "text": [
      "created calculation; calc=Calculation(uuid='0f14ff87-163b-4dec-9ada-c9c184b51459') # ID=None\n",
      "submitted calculation; calc=Calculation(uuid='9267e048-2988-41cf-bee2-020b7c546eef') # ID=None\n"
     ]
    }
   ],
   "source": [
    "submit_test = False\n",
    "if submit_test:\n",
    "    subfolder, script_filename = calc1.submit_test()\n",
    "    print \"Test_submit for calculation (uuid='{}')\".format(\n",
    "        calc1.uuid)\n",
    "    print \"Submit file in {}\".format(os.path.join(\n",
    "        os.path.relpath(subfolder.abspath),\n",
    "        script_filename\n",
    "    ))\n",
    "else:\n",
    "    calc1.store_all()\n",
    "    print \"created calculation; calc=Calculation(uuid='{}') # ID={}\".format(\n",
    "        calc1.uuid, calc.dbnode.pk)\n",
    "    calc1.submit()\n",
    "    print \"submitted calculation; calc=Calculation(uuid='{}') # ID={}\".format(\n",
    "        calc.uuid, calc.dbnode.pk)"
   ]
  },
  {
   "cell_type": "code",
   "execution_count": 29,
   "metadata": {
    "collapsed": false,
    "deletable": true,
    "editable": true
   },
   "outputs": [
    {
     "name": "stdout",
     "output_type": "stream",
     "text": [
      "#!/bin/bash\n",
      "\n",
      "\n",
      "\n",
      "'/Users/broeder/aiida/codes/kkr/kkr/kkr.x'  > 'out_kkr' \n",
      "_aiidasubmit.sh inputcard       potential       shapefun\n",
      "RUNOPT\n",
      "<RUNOP1><RUNOP2><RUNOP3><RUNOP4><RUNOP5><RUNOP6><RUNOP7><RUNOP8>\n",
      "+-------+-------+-------+-------+-------+-------+-------+-------\n",
      "TESTOPT\n",
      "<TSTOP1><TSTOP2><TSTOP3><TSTOP4><TSTOP5><TSTOP6><TSTOP7><TSTOP8>\n",
      "<TSTOP9><TSTP10><TSTP11><TSTP12><TSTP13><TSTP14><TSTP15><TSTP16>\n",
      "+-------+-------+-------+-------+-------+-------+-------+-------\n",
      "================================================================================\n",
      "NSPIN= 1      \n",
      "LMAX=  2     \n",
      "================================================================================\n",
      "BZDIVIDE= 10      10      20    \n",
      "RCLUSTZ=     1.50  \n",
      "RCLUSTXY=    1.50   \n",
      "================================================================================\n",
      "EMIN= -0.600\n",
      "EMAX=  1.000\n",
      "TEMPR=   800.0\n",
      "NPOL=    4  \n",
      "NPT1=    3  \n",
      "NPT2=   10  \n",
      "NPT3=    3  \n",
      "================================================================================\n",
      "NSTEPS= 30      \n",
      "IMIX= 0     \n",
      "STRMIX= 0.010000\n",
      "QBOUND= 1D-3    \n",
      "================================================================================\n",
      "LINIPOL= F        \n",
      "HFIELD=  0.00   \n",
      "================================================================================\n",
      "  ALATBASIS= 3.415000    lattice constants a (in a.u.)\n",
      "--------------------------------------------------------------------------------\n",
      "   BRAVAIS                   (units of lattice constant)\n",
      "        1.000000000000000     1.000000000000000     0.000000000000000\n",
      "        1.000000000000000     0.000000000000000     1.000000000000000\n",
      "        0.000000000000000     1.000000000000000     1.000000000000000\n",
      "--------------------------------------------------------------------------------\n",
      "NAEZ= 1      \n",
      "CARTESIAN= F          \n",
      "<RBASIS>\n",
      "    0.00000000000000    0.00000000000000    0.00000000000000\n",
      "================================================================================\n",
      "INTERFACE= F          \n",
      "<NLBASIS>= 1          \n",
      "<NRBASIS>= 1          \n",
      "<RBLEFT>=  0.000000 0.000000 0.000000\n",
      "<RBRIGHT>=  0.000000 0.000000 0.000000\n",
      "ZPERIODL=  0.000000 0.000000 0.000000\n",
      "ZPERIODR=  0.000000 0.000000 0.000000\n",
      "NATYP= 1      \n",
      "<ZATOM>\n",
      "29.0\n",
      "================================================================================\n",
      "cutoff parameter ewald summation (fcc 7  65)\n",
      "RMAX= 7     \n",
      "GMAX= 65    \n",
      "================================================================================\n",
      "NPAN_LOG= 15        \n",
      "NPAN_EQ= 5        \n",
      "NCHEB= 13     \n",
      "R_LOG=   1.0   \n",
      "================================================================================\n",
      "KSHAPE= 0\n",
      "INS= 0\n"
     ]
    }
   ],
   "source": [
    "! cat submit_test/20171110-00020///_aiidasubmit.sh\n",
    "! ls submit_test/20171110-00020//\n",
    "! cat submit_test/20171110-00020/inputcard"
   ]
  },
  {
   "cell_type": "code",
   "execution_count": null,
   "metadata": {
    "collapsed": true
   },
   "outputs": [],
   "source": [
    "# Check with the verdi shell if everything with you calculations went right"
   ]
  },
  {
   "cell_type": "code",
   "execution_count": null,
   "metadata": {
    "collapsed": true
   },
   "outputs": [],
   "source": []
  },
  {
   "cell_type": "code",
   "execution_count": null,
   "metadata": {
    "collapsed": true,
    "deletable": true,
    "editable": true
   },
   "outputs": [],
   "source": [
    "# Voronoi parser test"
   ]
  },
  {
   "cell_type": "code",
   "execution_count": null,
   "metadata": {
    "collapsed": true,
    "deletable": true,
    "editable": true
   },
   "outputs": [],
   "source": [
    "n = load_node(79559)\n",
    "retrieved_dict = {'retrieved' : n}\n",
    "voro_parser = VoronoiParser(calc)\n",
    "suc, nodes = voro_parser.parse_with_retrieved(retrieved_dict)\n",
    "print suc\n",
    "print nodes\n",
    "print nodes[0][1].get_dict()['EMIN']"
   ]
  }
 ],
 "metadata": {
  "kernelspec": {
   "display_name": "Python 2",
   "language": "python",
   "name": "python2"
  },
  "language_info": {
   "codemirror_mode": {
    "name": "ipython",
    "version": 2
   },
   "file_extension": ".py",
   "mimetype": "text/x-python",
   "name": "python",
   "nbconvert_exporter": "python",
   "pygments_lexer": "ipython2",
   "version": "2.7.10"
  },
  "toc": {
   "colors": {
    "hover_highlight": "#DAA520",
    "navigate_num": "#000000",
    "navigate_text": "#333333",
    "running_highlight": "#FF0000",
    "selected_highlight": "#FFD700",
    "sidebar_border": "#EEEEEE",
    "wrapper_background": "#FFFFFF"
   },
   "moveMenuLeft": true,
   "nav_menu": {
    "height": "12px",
    "width": "252px"
   },
   "navigate_menu": true,
   "number_sections": true,
   "sideBar": true,
   "skip_h1_title": false,
   "threshold": 4,
   "toc_cell": false,
   "toc_section_display": "block",
   "toc_window_display": false,
   "widenNotebook": false
  },
  "varInspector": {
   "cols": {
    "lenName": 16,
    "lenType": 16,
    "lenVar": 40
   },
   "kernels_config": {
    "python": {
     "delete_cmd_postfix": "",
     "delete_cmd_prefix": "del ",
     "library": "var_list.py",
     "varRefreshCmd": "print(var_dic_list())"
    },
    "r": {
     "delete_cmd_postfix": ") ",
     "delete_cmd_prefix": "rm(",
     "library": "var_list.r",
     "varRefreshCmd": "cat(var_dic_list()) "
    }
   },
   "types_to_exclude": [
    "module",
    "function",
    "builtin_function_or_method",
    "instance",
    "_Feature"
   ],
   "window_display": false
  }
 },
 "nbformat": 4,
 "nbformat_minor": 0
}

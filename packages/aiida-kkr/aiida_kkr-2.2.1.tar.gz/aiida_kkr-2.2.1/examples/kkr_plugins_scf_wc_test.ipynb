{
 "cells": [
  {
   "cell_type": "markdown",
   "metadata": {},
   "source": [
    "# AiiDA-KKR demo"
   ]
  },
  {
   "cell_type": "markdown",
   "metadata": {},
   "source": [
    "Here is a Demo to run the Voronoi code with a follow up KKR calculation with AiiDA \n",
    "with pure python code. Also add the end we run the same with the kkr_scf workchain"
   ]
  },
  {
   "cell_type": "markdown",
   "metadata": {},
   "source": [
    "Some Comments:\n",
    "\n",
    "In oder to run the KKR and Voronoi codes you have to set them up as codes in AiiDA.\n",
    "You might source a bash rc in the pretext execution of the code for Licenzing issues.\n",
    "Also you should symbol link the ElementPotential DataBase for the Voronoi code\n",
    "    \n",
    "If you want to test, use submit test, which will save all files created before a calculation would be run in a local test_submit folder"
   ]
  },
  {
   "cell_type": "code",
   "execution_count": null,
   "metadata": {},
   "outputs": [],
   "source": [
    "%load_ext autoreload\n",
    "%autoreload 2\n",
    "%matplotlib notebook\n",
    "\n",
    "import time\n",
    "import os\n",
    "from aiida import load_dbenv, is_dbenv_loaded\n",
    "if not is_dbenv_loaded():\n",
    "    load_dbenv()\n",
    "from aiida.orm import Code, load_node\n",
    "from aiida.orm import DataFactory, CalculationFactory\n",
    "from aiida_kkr.tools.kkr_params import kkrparams\n",
    "from pprint import pprint\n",
    "from scipy import array\n",
    "from aiida_kkr.calculations.kkr import KkrCalculation\n",
    "from aiida_kkr.calculations.voro import VoronoiCalculation\n",
    "from aiida_kkr.parsers.voro import VoronoiParser\n",
    "from aiida_kkr.parsers.kkr import KkrParser\n",
    "\n",
    "ParameterData = DataFactory('parameter')\n",
    "StructureData = DataFactory('structure')"
   ]
  },
  {
   "cell_type": "code",
   "execution_count": null,
   "metadata": {},
   "outputs": [],
   "source": [
    "# Prepare and fill AiiDA StructureData as input, example Cu\n",
    "\n",
    "alat = 6.830000 # in a_Bohr\n",
    "abohr = 0.52917721067\n",
    "# number of atom positions in unit cell\n",
    "natyp = 1\n",
    "# bravais vectors\n",
    "bravais = array([[0.5, 0.5, 0.0], [0.5, 0.0, 0.5], [0.0, 0.5, 0.5]])\n",
    "\n",
    "a = 0.5*alat*abohr\n",
    "Cu = StructureData(cell=[[a, a, 0.0], [a, 0.0, a], [0.0, a, a]])\n",
    "Cu.append_atom(position=[0.0, 0.0, 0.0], symbols='Cu')\n",
    "#Cu.store()\n",
    "Cu = load_node(1)\n",
    "print(Cu)"
   ]
  },
  {
   "cell_type": "code",
   "execution_count": null,
   "metadata": {},
   "outputs": [],
   "source": [
    "# Now gernerate a ParameterData node with keyvalues needed by voronoi and KKR \n",
    "# we use a helper function for some defaults and set some values\n",
    "\n",
    "keywords = kkrparams(NATYP=natyp, NSPIN=1, LMAX=2, RCLUSTZ=1.5, INS=0)\n",
    "pprint(keywords.get_set_values())"
   ]
  },
  {
   "cell_type": "code",
   "execution_count": null,
   "metadata": {},
   "outputs": [],
   "source": [
    "# Store the node\n",
    "keyw = ParameterData(dict=keywords.get_dict())\n",
    "#keyw.store()\n",
    "keyw = load_node(2)\n",
    "print keyw"
   ]
  },
  {
   "cell_type": "code",
   "execution_count": null,
   "metadata": {},
   "outputs": [],
   "source": [
    "# Running a single Vornoi calculation\n",
    "voronoi = Code.get_from_string('voronoi@iff003')\n",
    "calc = VoronoiCalculation()\n",
    "calc.label = 'Test voronoi'\n",
    "calc.set_withmpi(False)\n",
    "calc.set_resources({\"num_machines\" : 1})\n",
    "calc.set_max_wallclock_seconds(300)\n",
    "calc.set_computer(voronoi.get_computer())\n",
    "calc.use_code(voronoi)\n",
    "calc.use_structure(Cu)\n",
    "calc.use_parameters(keyw)"
   ]
  },
  {
   "cell_type": "code",
   "execution_count": null,
   "metadata": {},
   "outputs": [],
   "source": [
    "submit_test = False\n",
    "\n",
    "if submit_test:\n",
    "    subfolder, script_filename = calc.submit_test()\n",
    "    print \"Test_submit for calculation (uuid='{}')\".format(\n",
    "        calc.uuid)\n",
    "    print \"Submit file in {}\".format(os.path.join(\n",
    "        os.path.relpath(subfolder.abspath),\n",
    "        script_filename\n",
    "    ))\n",
    "else:\n",
    "    calc.store_all()\n",
    "    print \"created calculation; calc=Calculation(uuid='{}') # ID={}\".format(\n",
    "        calc.uuid, calc.dbnode.pk)\n",
    "    calc.submit()\n",
    "    print \"submitted calculation; calc=Calculation(uuid='{}') # ID={}\".format(\n",
    "        calc.uuid, calc.dbnode.pk)"
   ]
  },
  {
   "cell_type": "code",
   "execution_count": null,
   "metadata": {},
   "outputs": [],
   "source": [
    "!cat submit_test/20181120-00001/_aiidasubmit.sh\n",
    "!ls submit_test/20181120-00001/\n",
    "!cat submit_test/20181120-00001/inputcard"
   ]
  },
  {
   "cell_type": "code",
   "execution_count": null,
   "metadata": {},
   "outputs": [],
   "source": [
    "# Ontop the voronoi calculation we want to run a KKR calculation\n",
    "# for this we have to get some things from the voronoi calculation"
   ]
  },
  {
   "cell_type": "code",
   "execution_count": null,
   "metadata": {},
   "outputs": [],
   "source": [
    "# use the calculation run before or load a voronoi calculation\n",
    "calc2 = load_node(79565)"
   ]
  },
  {
   "cell_type": "code",
   "execution_count": null,
   "metadata": {},
   "outputs": [],
   "source": [
    "# We create a new parameter node in which we store the emin extracted form the voronoi calculation\n",
    "#emin = calc1.get_outputs_dict()['output_parameters'].get_dict()['EMIN']\n",
    "emin = calc2.res.EMIN\n",
    "remote = calc2.get_outputs_dict()['remote_folder']\n",
    "keywords2 = keywords\n",
    "keywords2['EMIN'][0] = emin\n"
   ]
  },
  {
   "cell_type": "code",
   "execution_count": null,
   "metadata": {},
   "outputs": [],
   "source": [
    "keyw2 = ParameterData(dict=keywords2)\n",
    "#keyw2.store()\n",
    "keyw2 = load_node(79570)\n",
    "print keyw2"
   ]
  },
  {
   "cell_type": "code",
   "execution_count": null,
   "metadata": {},
   "outputs": [],
   "source": [
    "# Now we create and run the kkr Calculation\n",
    "kkr = Code.get_from_string('kkr1@local_mac')#'kkrimp@local_mac')\n",
    "calc1 = KkrCalculation()\n",
    "calc1.label = 'Test kkr'\n",
    "calc1.set_withmpi(False)\n",
    "calc1.set_resources({\"num_machines\" : 1})\n",
    "calc1.set_max_wallclock_seconds(300)\n",
    "calc1.set_computer('local_mac')\n",
    "calc1.use_code(kkr)\n",
    "#calc1.use_structure(Cu)\n",
    "calc1.use_parameters(keyw2)\n",
    "calc1.use_parent_folder(remote)"
   ]
  },
  {
   "cell_type": "code",
   "execution_count": null,
   "metadata": {},
   "outputs": [],
   "source": [
    "submit_test = False\n",
    "if submit_test:\n",
    "    subfolder, script_filename = calc1.submit_test()\n",
    "    print \"Test_submit for calculation (uuid='{}')\".format(\n",
    "        calc1.uuid)\n",
    "    print \"Submit file in {}\".format(os.path.join(\n",
    "        os.path.relpath(subfolder.abspath),\n",
    "        script_filename\n",
    "    ))\n",
    "else:\n",
    "    calc1.store_all()\n",
    "    print \"created calculation; calc=Calculation(uuid='{}') # ID={}\".format(\n",
    "        calc1.uuid, calc.dbnode.pk)\n",
    "    calc1.submit()\n",
    "    print \"submitted calculation; calc=Calculation(uuid='{}') # ID={}\".format(\n",
    "        calc.uuid, calc.dbnode.pk)"
   ]
  },
  {
   "cell_type": "code",
   "execution_count": null,
   "metadata": {},
   "outputs": [],
   "source": [
    "! cat submit_test/20171110-00020///_aiidasubmit.sh\n",
    "! ls submit_test/20171110-00020//\n",
    "! cat submit_test/20171110-00020/inputcard"
   ]
  },
  {
   "cell_type": "code",
   "execution_count": null,
   "metadata": {},
   "outputs": [],
   "source": [
    "# Check with the verdi shell if everything with you calculations went right"
   ]
  },
  {
   "cell_type": "code",
   "execution_count": null,
   "metadata": {},
   "outputs": [],
   "source": []
  },
  {
   "cell_type": "code",
   "execution_count": null,
   "metadata": {},
   "outputs": [],
   "source": [
    "# Voronoi parser test"
   ]
  },
  {
   "cell_type": "code",
   "execution_count": null,
   "metadata": {},
   "outputs": [],
   "source": [
    "n = load_node(79559)\n",
    "retrieved_dict = {'retrieved' : n}\n",
    "voro_parser = VoronoiParser(calc)\n",
    "suc, nodes = voro_parser.parse_with_retrieved(retrieved_dict)\n",
    "print suc\n",
    "print nodes\n",
    "print nodes[0][1].get_dict()['EMIN']"
   ]
  },
  {
   "cell_type": "code",
   "execution_count": null,
   "metadata": {},
   "outputs": [],
   "source": []
  },
  {
   "cell_type": "code",
   "execution_count": null,
   "metadata": {},
   "outputs": [],
   "source": [
    "# Test KKR parser functions"
   ]
  },
  {
   "cell_type": "code",
   "execution_count": null,
   "metadata": {},
   "outputs": [],
   "source": [
    "from aiida_kkr.parsers.kkr import KkrParser, parse_kkr_outputfile"
   ]
  },
  {
   "cell_type": "code",
   "execution_count": null,
   "metadata": {},
   "outputs": [],
   "source": [
    "outfile = '/Users/broeder/aiida/github/aiida-kkr/aiida_kkr/tests/files/kkr/outputfiles/out_kkr_Cu'"
   ]
  },
  {
   "cell_type": "code",
   "execution_count": null,
   "metadata": {},
   "outputs": [],
   "source": [
    "res = parse_kkr_outputfile(outfile)"
   ]
  },
  {
   "cell_type": "code",
   "execution_count": null,
   "metadata": {},
   "outputs": [],
   "source": [
    "print res"
   ]
  },
  {
   "cell_type": "code",
   "execution_count": null,
   "metadata": {},
   "outputs": [],
   "source": []
  },
  {
   "cell_type": "code",
   "execution_count": null,
   "metadata": {},
   "outputs": [],
   "source": [
    "# Test kkr_scf workchain"
   ]
  },
  {
   "cell_type": "code",
   "execution_count": null,
   "metadata": {},
   "outputs": [],
   "source": [
    "from aiida_kkr.workflows.kkr_scf import kkr_scf_wc\n",
    "from aiida.work import run, submit"
   ]
  },
  {
   "cell_type": "code",
   "execution_count": null,
   "metadata": {},
   "outputs": [],
   "source": [
    "# use same nodes as above\n",
    "Cu = load_node(79546)# structure\n",
    "keyw = load_node(79550)# parameterdata keywords\n",
    "wf_parameters = ParameterData(dict={})\n",
    "\n",
    "#wf_parameters.store()\n",
    "#wf_parameters = load_node()\n",
    "print(wf_parameters)\n"
   ]
  },
  {
   "cell_type": "code",
   "execution_count": null,
   "metadata": {},
   "outputs": [],
   "source": [
    "# The workflow is still very premitive, therefore we use for testing parameters that should work for both codes\n",
    "res = run(kkr_scf_wc, structure=Cu, calc_parameters=keyw2, voronoi=voronoi, kkr=kkr)#wf_parameters=wf_parameters,"
   ]
  },
  {
   "cell_type": "code",
   "execution_count": null,
   "metadata": {},
   "outputs": [],
   "source": [
    "print(res)"
   ]
  },
  {
   "cell_type": "code",
   "execution_count": null,
   "metadata": {},
   "outputs": [],
   "source": [
    "res = submit(kkr_scf_wc, structure=Cu, calc_parameters=key2w, voronoi=voronoi, kkr=kkr)# wf_parameters=wf_parameters,"
   ]
  },
  {
   "cell_type": "code",
   "execution_count": null,
   "metadata": {},
   "outputs": [],
   "source": []
  }
 ],
 "metadata": {
  "kernelspec": {
   "display_name": "Python 2",
   "language": "python",
   "name": "python2"
  },
  "language_info": {
   "codemirror_mode": {
    "name": "ipython",
    "version": 2
   },
   "file_extension": ".py",
   "mimetype": "text/x-python",
   "name": "python",
   "nbconvert_exporter": "python",
   "pygments_lexer": "ipython2",
   "version": "2.7.15"
  },
  "toc": {
   "colors": {
    "hover_highlight": "#DAA520",
    "navigate_num": "#000000",
    "navigate_text": "#333333",
    "running_highlight": "#FF0000",
    "selected_highlight": "#FFD700",
    "sidebar_border": "#EEEEEE",
    "wrapper_background": "#FFFFFF"
   },
   "moveMenuLeft": true,
   "nav_menu": {
    "height": "12px",
    "width": "252px"
   },
   "navigate_menu": true,
   "number_sections": true,
   "sideBar": true,
   "skip_h1_title": false,
   "threshold": 4,
   "toc_cell": false,
   "toc_section_display": "block",
   "toc_window_display": false,
   "widenNotebook": false
  },
  "varInspector": {
   "cols": {
    "lenName": 16,
    "lenType": 16,
    "lenVar": 40
   },
   "kernels_config": {
    "python": {
     "delete_cmd_postfix": "",
     "delete_cmd_prefix": "del ",
     "library": "var_list.py",
     "varRefreshCmd": "print(var_dic_list())"
    },
    "r": {
     "delete_cmd_postfix": ") ",
     "delete_cmd_prefix": "rm(",
     "library": "var_list.r",
     "varRefreshCmd": "cat(var_dic_list()) "
    }
   },
   "types_to_exclude": [
    "module",
    "function",
    "builtin_function_or_method",
    "instance",
    "_Feature"
   ],
   "window_display": false
  }
 },
 "nbformat": 4,
 "nbformat_minor": 1
}

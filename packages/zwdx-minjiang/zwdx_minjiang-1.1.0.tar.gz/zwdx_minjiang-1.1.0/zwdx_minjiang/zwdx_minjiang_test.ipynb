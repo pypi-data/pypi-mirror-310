{
 "cells": [
  {
   "cell_type": "markdown",
   "metadata": {},
   "source": [
    "### 0.0、初始化"
   ]
  },
  {
   "cell_type": "code",
   "execution_count": null,
   "metadata": {},
   "outputs": [],
   "source": [
    "from zwdx_minjiang import MinJiangTest\n",
    "testObj = MinJiangTest()\n",
    "test_para = {}\n",
    "trig_para = {}\n",
    "dev_para = {\n",
    "    'trig_name':'CTP100',\n",
    "    'trig_ip':'192.168.1.200',\n",
    "    'qcs_name':'QCS220',\n",
    "    'qcs_ip':'192.168.1.180:8501',  \n",
    "}\n",
    "testObj.connect_dev(dev_para) # 连接设备\n",
    "testObj.set_qcs_sampling_nyquist(sampling_mhz=8000,nyquist=1) # 设置QCS220采样率和奈奎斯特域\n",
    "testObj.data_save_path = 'data_qcs' # 设置测试数据存储目录"
   ]
  },
  {
   "cell_type": "markdown",
   "metadata": {},
   "source": [
    "### 0.1 测试参数"
   ]
  },
  {
   "cell_type": "code",
   "execution_count": null,
   "metadata": {},
   "outputs": [],
   "source": [
    "testObj.env_para = {\n",
    "    'XY_BPF_param' : \"4.5GHz-5.5GHz\",\n",
    "    'readout_BPF_param' : \"6GHz-7GHz\",\n",
    "    'readin_BPF_param' : \"6GHz-7GHz\",\n",
    "    'Z_Att_param' : \"10dBm\",\n",
    "    'XY_Att_param' : \"20dBm\",\n",
    "    'readout_Att_param' : \"40dBm\",\n",
    "    'readout_Amp_param' : \"power=12v, cur=0.1A, 50dBm\",\n",
    "    'XY_wire_num' : \"15\",\n",
    "    'Z_wire_num' : \"16\",\n",
    "    'readin_wire_num' : \"18\",\n",
    "    'readout_wire_num' : \"19\",\n",
    "    'qubit' : \"Q33\",\n",
    "}    # 设置实验环境参数"
   ]
  },
  {
   "cell_type": "code",
   "execution_count": null,
   "metadata": {},
   "outputs": [],
   "source": [
    "test_para.update({\n",
    "    \"read_out_ch\": 4, \n",
    "    \"read_in_ch\": 0,\n",
    "    \"read_in_pw\":50e-9,\n",
    "    \"read_out_pw\":400e-9,\n",
    "    \"read_out_amp\":1,\n",
    "    \"read_out_delay\":0e-9,\n",
    "    \"read_in_delay\": 0e-9,\n",
    "    \"shots\":2000,\n",
    "    \"trig_mode\":1,\n",
    "    \"trig_period\":50, ##us\n",
    "    \"trig_ch\":1,\n",
    "    \"z_ch\":14,\n",
    "})\n",
    "trig_para.update({\n",
    "    'trigger_source':0,   #触发来源，1为外部触发，0为内部触发\n",
    "    'trigger_continue':0,  #内部触发连续触发模式，1开启，0关闭\n",
    "    'trigger_block_en':1,\n",
    "    'trigger_ref':0,\n",
    "    'trigger_times':test_para['shots'],\n",
    "    'trigger_us':test_para['trig_period'],  #内部触发周期，us\n",
    "    'trigger_delay':0\n",
    "})"
   ]
  },
  {
   "cell_type": "markdown",
   "metadata": {},
   "source": [
    "### 0.2、延时标定"
   ]
  },
  {
   "cell_type": "code",
   "execution_count": null,
   "metadata": {},
   "outputs": [],
   "source": [
    "test_para.update({\n",
    "    \"read_in_delay\": {\"start\":0e-9,\"end\":800e-9,\"step\":5e-9}, ##ns \n",
    "    \"read_out_freq\": 2500 ##MHz\n",
    "})\n",
    "%matplotlib inline\n",
    "testObj.delay_test(test_para, trig_para) "
   ]
  },
  {
   "cell_type": "code",
   "execution_count": null,
   "metadata": {},
   "outputs": [],
   "source": [
    "# 测试结束后，绘制矢量图\n",
    "%matplotlib widget\n",
    "testObj.draw_finally_line('delay_test','delay/s','mod')"
   ]
  },
  {
   "cell_type": "markdown",
   "metadata": {},
   "source": [
    "### 0.3、原始数据画波形"
   ]
  },
  {
   "cell_type": "code",
   "execution_count": null,
   "metadata": {},
   "outputs": [],
   "source": [
    "test_para.update({\n",
    "    \"plot_pw\": 200e-9, ##画图长度，必须要满足条件 plot_pw <  read_in_pw \n",
    "    \"read_out_freq\": 2500 ##MHz\n",
    "})\n",
    "%matplotlib inline\n",
    "testObj.plot_raw_data(test_para, trig_para)"
   ]
  },
  {
   "cell_type": "markdown",
   "metadata": {},
   "source": [
    "### 1、扫腔频"
   ]
  },
  {
   "cell_type": "code",
   "execution_count": null,
   "metadata": {},
   "outputs": [],
   "source": [
    "test_para.update({\n",
    "    \"sweep_freq\": {\"start\":2000,\"end\":3000,\"step\":1} ##MHz\n",
    "})\n",
    "%matplotlib inline\n",
    "testObj.sweep_cavity_freq(test_para, trig_para) "
   ]
  },
  {
   "cell_type": "code",
   "execution_count": null,
   "metadata": {},
   "outputs": [],
   "source": [
    "# 测试结束后，绘制矢量图\n",
    "%matplotlib widget\n",
    "testObj.draw_finally_line('cavity_freq','MHz','mod')"
   ]
  },
  {
   "cell_type": "markdown",
   "metadata": {},
   "source": [
    "### 2、读取腔色散频移扫描"
   ]
  },
  {
   "cell_type": "code",
   "execution_count": null,
   "metadata": {},
   "outputs": [],
   "source": [
    "test_para.update({\n",
    "    \"sweep_freq\": {\"start\":2499,\"end\":2501,\"step\":0.2}, ##MHz\n",
    "    \"sweep_amp\":{\"start\":1,\"end\":0.05,\"step\":0.1}\n",
    "})\n",
    "%matplotlib inline\n",
    "testObj.sweep_qa_power_freq(test_para, trig_para)"
   ]
  },
  {
   "cell_type": "code",
   "execution_count": null,
   "metadata": {},
   "outputs": [],
   "source": [
    "# 测试结束后，绘制矢量图\n",
    "%matplotlib widget\n",
    "testObj.draw_finally_heatmap('dispersion_freqshift','freq/MHz','amp')"
   ]
  },
  {
   "cell_type": "markdown",
   "metadata": {},
   "source": [
    "### 3、能谱腔频实验"
   ]
  },
  {
   "cell_type": "code",
   "execution_count": null,
   "metadata": {},
   "outputs": [],
   "source": [
    "test_para.update({\n",
    "    \"sweep_cavity_freq\": {\"start\":2499,\"end\":2500,\"step\":0.1}, ##MHz\n",
    "    \"sweep_z_amp\":{\"start\":0.12,\"end\":0.5,\"step\":0.02}\n",
    "})\n",
    "%matplotlib inline\n",
    "testObj.sweep_z_qa_freq(test_para, trig_para)"
   ]
  },
  {
   "cell_type": "code",
   "execution_count": null,
   "metadata": {},
   "outputs": [],
   "source": [
    "# 测试结束后，绘制矢量图\n",
    "%matplotlib widget\n",
    "testObj.draw_finally_heatmap('Zbias_cavityfreq_sweep','freq/MHz','zbais')"
   ]
  },
  {
   "cell_type": "markdown",
   "metadata": {},
   "source": [
    "### 4、细扫腔频"
   ]
  },
  {
   "cell_type": "code",
   "execution_count": null,
   "metadata": {},
   "outputs": [],
   "source": [
    "test_para.update({\n",
    "    \"sweep_freq\": {\"start\":2499,\"end\":2501,\"step\":0.01}, ##MHz\n",
    "    \"zbias\":0.28\n",
    "})\n",
    "%matplotlib inline\n",
    "testObj.sweep_cavity_freq_fine(test_para, trig_para)"
   ]
  },
  {
   "cell_type": "code",
   "execution_count": null,
   "metadata": {},
   "outputs": [],
   "source": [
    "# 测试结束后，绘制矢量图\n",
    "%matplotlib widget\n",
    "testObj.draw_finally_line('cavity_freq_dine','MHz','mod')"
   ]
  },
  {
   "cell_type": "markdown",
   "metadata": {},
   "source": [
    "### 5.1、扫bit频率f01"
   ]
  },
  {
   "cell_type": "code",
   "execution_count": null,
   "metadata": {},
   "outputs": [],
   "source": [
    "test_para.update({\n",
    "    \"sweep_xy_freq\": {\"start\":2480,\"end\":2600,\"step\":0.5}, ##MHz\n",
    "    \"read_out_freq\":2500,\n",
    "    \"read_out_amp\": 0.15,\n",
    "    \"zbias\":0.28,\n",
    "    \"xy_amp\":0.5,\n",
    "    \"xy_ch\":6,\n",
    "    \"xy_pw\":47e-9,\n",
    "    \"xy_delay\":3e-9\n",
    "})\n",
    "%matplotlib inline\n",
    "testObj.sweep_xy_freq(test_para, trig_para)"
   ]
  },
  {
   "cell_type": "code",
   "execution_count": null,
   "metadata": {},
   "outputs": [],
   "source": [
    "# 测试结束后，绘制矢量图\n",
    "%matplotlib widget\n",
    "testObj.draw_finally_line('sweep_xy_freq','xy_freq','mod')"
   ]
  },
  {
   "cell_type": "markdown",
   "metadata": {},
   "source": [
    "### 5.2、找bit频率f01的z偏置 2d swiff"
   ]
  },
  {
   "cell_type": "code",
   "execution_count": null,
   "metadata": {},
   "outputs": [],
   "source": [
    "test_para.update({\n",
    "    \"sweep_xy_freq\": {\"start\":2000,\"end\":3000,\"step\":100}, ##MHz\n",
    "    \"sweep_z_amp\":{\"start\":0.05,\"end\":1,\"step\":0.1},    \n",
    "    \"read_out_freq\":2500.72,\n",
    "    \"read_out_amp\": 0.15,\n",
    "    \"zbias\":0.28,\n",
    "    \"xy_amp\":0.5,\n",
    "    \"xy_ch\":6,\n",
    "    \"xy_pw\":30e-9,\n",
    "    \"xy_delay\":0e-9\n",
    "})\n",
    "%matplotlib inline\n",
    "testObj.sweep_x_z_y_xyfreq(test_para, trig_para)"
   ]
  },
  {
   "cell_type": "code",
   "execution_count": null,
   "metadata": {},
   "outputs": [],
   "source": [
    "# 测试结束后，绘制矢量图\n",
    "%matplotlib widget\n",
    "testObj.draw_finally_heatmap('f01_z_2D_xy','zbais','freq/MHz')"
   ]
  },
  {
   "cell_type": "markdown",
   "metadata": {},
   "source": [
    "### 6、RABI幅度"
   ]
  },
  {
   "cell_type": "code",
   "execution_count": null,
   "metadata": {},
   "outputs": [],
   "source": [
    "test_para.update({\n",
    "    \"sweep_xy_amp\": {\"start\":0.01,\"end\":1,\"step\":0.01}, ##MHz\n",
    "    \"read_out_freq\":2500.72,\n",
    "    \"read_out_amp\": 0.15,\n",
    "    \"zbias\":0.28,\n",
    "    \"xy_ch\":6,\n",
    "    \"xy_pw\":40e-9,\n",
    "    \"xy_freq\":4898,\n",
    "    \"xy_delay\":0e-9\n",
    "})\n",
    "%matplotlib inline\n",
    "testObj.rabi_test(test_para, trig_para)"
   ]
  },
  {
   "cell_type": "code",
   "execution_count": null,
   "metadata": {},
   "outputs": [],
   "source": [
    "# 测试结束后，绘制矢量图\n",
    "%matplotlib widget\n",
    "testObj.draw_finally_line('rabi_amp','xy_amp','mod')"
   ]
  },
  {
   "cell_type": "markdown",
   "metadata": {},
   "source": [
    "### 7、rabi脉宽"
   ]
  },
  {
   "cell_type": "code",
   "execution_count": null,
   "metadata": {},
   "outputs": [],
   "source": [
    "test_para.update({\n",
    "    \"sweep_xy_pw\": {\"start\":10e-9,\"end\":60e-9,\"step\":1e-9}, ##MHz\n",
    "    \"read_out_freq\":2500.72,\n",
    "    \"read_out_amp\": 0.15,\n",
    "    \"zbias\":0.28,\n",
    "    \"xy_amp\":0.3,\n",
    "    \"xy_ch\":6,\n",
    "    \"xy_freq\":4898,\n",
    "    \"xy_delay\":0e-9\n",
    "})\n",
    "%matplotlib inline\n",
    "testObj.rabi_test_len(test_para, trig_para) "
   ]
  },
  {
   "cell_type": "code",
   "execution_count": null,
   "metadata": {},
   "outputs": [],
   "source": [
    "# 测试结束后，绘制矢量图\n",
    "%matplotlib widget\n",
    "testObj.draw_finally_line('rabi_duration','xy_pulse_len/ns','mod')"
   ]
  },
  {
   "cell_type": "markdown",
   "metadata": {},
   "source": [
    "### 8、T1测量"
   ]
  },
  {
   "cell_type": "code",
   "execution_count": null,
   "metadata": {},
   "outputs": [],
   "source": [
    "test_para.update({\n",
    "    \"sweep_read_delay\": {\"start\":0e-9,\"end\":50000e-9,\"step\":500e-9}, ##MHz\n",
    "    \"read_out_freq\":2500.72,\n",
    "    \"read_out_amp\": 0.15,\n",
    "    \"zbias\":0.28,\n",
    "    \"xy_amp\":0.3,\n",
    "    \"xy_ch\":6,\n",
    "    \"xy_freq\":4898,\n",
    "    \"xy_pw\":47e-9,\n",
    "    \"xy_delay\":3e-9\n",
    "})\n",
    "%matplotlib inline\n",
    "testObj.t1_test(test_para, trig_para)"
   ]
  },
  {
   "cell_type": "code",
   "execution_count": null,
   "metadata": {},
   "outputs": [],
   "source": [
    "# 测试结束后，绘制矢量图\n",
    "%matplotlib widget\n",
    "testObj.draw_finally_line('t1','tau/ns','mod')"
   ]
  },
  {
   "cell_type": "markdown",
   "metadata": {},
   "source": [
    "### 9、T2测量"
   ]
  },
  {
   "cell_type": "code",
   "execution_count": null,
   "metadata": {},
   "outputs": [],
   "source": [
    "test_para.update({\n",
    "    \"sweep_t_delay\": {\"start\":0e-9,\"end\":1000e-9,\"step\":50e-9}, ##MHz\n",
    "    \"read_out_freq\":2500.72,\n",
    "    \"read_out_amp\": 0.15,\n",
    "    \"zbias\":0.28,\n",
    "    \"xy_amp\":0.2,\n",
    "    \"xy_ch\":6,\n",
    "    \"xy_freq\":4850,\n",
    "    \"xy_freq_offset\":10,\n",
    "    \"xy_pw\":47e-9,\n",
    "    \"xy_delay\":3e-9\n",
    "})\n",
    "%matplotlib inline\n",
    "testObj.t2_test(test_para, trig_para)"
   ]
  },
  {
   "cell_type": "code",
   "execution_count": null,
   "metadata": {},
   "outputs": [],
   "source": [
    "# 测试结束后，绘制矢量图\n",
    "%matplotlib widget\n",
    "testObj.draw_finally_line('t2','t2(ns)','mod')"
   ]
  },
  {
   "cell_type": "markdown",
   "metadata": {},
   "source": [
    "### 10、01态 IQ 图"
   ]
  },
  {
   "cell_type": "code",
   "execution_count": null,
   "metadata": {},
   "outputs": [],
   "source": [
    "test_para.update({\n",
    "    \"01_state\": 0, \n",
    "    \"read_out_freq\":6836.72,\n",
    "    \"read_out_amp\": 0.15,\n",
    "    \"zbias\":0.28,\n",
    "    \"xy_ch\":6,\n",
    "    \"xy_amp_0state\":0,    \n",
    "    \"xy_amp_1state\":0.3,  \n",
    "    \"xy_amp_muxstate\":0.2,       \n",
    "    \"xy_pw\":46e-9,\n",
    "    \"xy_freq\":4898.5,\n",
    "    \"xy_delay\":4e-9\n",
    "})\n",
    "%matplotlib widget\n",
    "testObj.qubit_01_stateIQ(test_para, trig_para)"
   ]
  },
  {
   "cell_type": "markdown",
   "metadata": {},
   "source": [
    "### 11、01态扫腔频"
   ]
  },
  {
   "cell_type": "code",
   "execution_count": null,
   "metadata": {},
   "outputs": [],
   "source": [
    "test_para.update({\n",
    "    \"sweep_freq\": {\"start\":2495,\"end\":2497.5,\"step\":0.05}, ##MHz\n",
    "    \"read_out_freq\":2500.72,\n",
    "    \"read_out_amp\": 0.15,\n",
    "    \"zbias\":0.28,\n",
    "    \"xy_amp\":0.3,\n",
    "    \"xy_ch\":6,\n",
    "    \"xy_freq\":4898,\n",
    "    \"xy_pw\":47e-9,\n",
    "    \"xy_delay\":3e-9\n",
    "})\n",
    "%matplotlib widget\n",
    "testObj.sweep01_cavity_freq(test_para, trig_para)"
   ]
  }
 ],
 "metadata": {
  "kernelspec": {
   "display_name": "Python 3",
   "language": "python",
   "name": "python3"
  },
  "language_info": {
   "codemirror_mode": {
    "name": "ipython",
    "version": 3
   },
   "file_extension": ".py",
   "mimetype": "text/x-python",
   "name": "python",
   "nbconvert_exporter": "python",
   "pygments_lexer": "ipython3",
   "version": "3.10.6"
  }
 },
 "nbformat": 4,
 "nbformat_minor": 2
}

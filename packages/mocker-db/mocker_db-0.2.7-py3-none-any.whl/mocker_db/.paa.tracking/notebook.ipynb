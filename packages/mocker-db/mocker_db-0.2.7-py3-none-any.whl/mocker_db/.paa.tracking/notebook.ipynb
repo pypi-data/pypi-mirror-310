{
 "cells": [
  {
   "cell_type": "code",
   "execution_count": 1,
   "metadata": {},
   "outputs": [],
   "source": [
    "from mocker_db import MockerDB, MockerConnector, SentenceTransformerEmbedder"
   ]
  },
  {
   "cell_type": "markdown",
   "metadata": {},
   "source": [
    "### 1. Inserting values into the database"
   ]
  },
  {
   "cell_type": "markdown",
   "metadata": {},
   "source": [
    "MockerDB can be used as ephemeral database where everything is saved in memory, but also can be persisted in one file for the database and another for embeddings storage.\n",
    "\n",
    "Embedder is set to sentence_transformer by default and processed locally, custom embedders that connect to an api or use other open source models could be used as long as they have the same interface. "
   ]
  },
  {
   "cell_type": "code",
   "execution_count": 3,
   "metadata": {},
   "outputs": [],
   "source": [
    "# Initialization\n",
    "handler = MockerDB(\n",
    "    # optional\n",
    "    embedder_params = {'model_name_or_path' : 'paraphrase-multilingual-mpnet-base-v2',\n",
    "                        'processing_type' : 'batch',\n",
    "                        'tbatch_size' : 500},\n",
    "    similarity_search_type = 'linear_torch',\n",
    "    use_embedder = True,\n",
    "    embedder = SentenceTransformerEmbedder,\n",
    "    persist = True\n",
    ")\n",
    "# Initialize empty database\n",
    "handler.establish_connection(\n",
    "    # optional for persist\n",
    "    file_path = \"./mock_persist\",\n",
    "    embs_file_path = \"./mock_embs_persist\",\n",
    ")"
   ]
  },
  {
   "cell_type": "code",
   "execution_count": 4,
   "metadata": {},
   "outputs": [
    {
     "name": "stdout",
     "output_type": "stream",
     "text": [
      "Items in the database 14\n"
     ]
    }
   ],
   "source": [
    "sentences = [\n",
    "    \"The cat slept.\",\n",
    "    \"It rained today.\",\n",
    "    \"She smiled gently.\",\n",
    "    \"Books hold knowledge.\",\n",
    "    \"The sun set behind the mountains, casting a golden glow over the valley.\",\n",
    "    \"He quickly realized that time was slipping away, and he needed to act fast.\",\n",
    "    \"The concert was an unforgettable experience, filled with laughter and joy.\",\n",
    "    \"Despite the challenges, they managed to build a beautiful home together.\",\n",
    "    \"As the wind howled through the ancient trees, scattering leaves and whispering secrets of the forest, she stood there, gazing up at the endless expanse of stars, feeling both infinitely small and profoundly connected to the universe.\",\n",
    "    \"While the project seemed daunting at first, requiring countless hours of research, planning, and execution, the team worked tirelessly, motivated by their shared goal of creating something truly remarkable and innovative in their field.\",\n",
    "    \"In the bustling city streets, amidst the constant hum of traffic and chatter, he found himself contemplating life's mysteries, pondering the choices that had brought him to this very moment and wondering where the path ahead would lead.\",\n",
    "    \"The conference was a gathering of minds from around the globe, each participant bringing their unique perspectives and insights to the table, fostering a vibrant exchange of ideas that would shape the future of their respective fields for years to come.\"\n",
    "]\n",
    "\n",
    "# Insert Data\n",
    "values_list = [\n",
    "    {'text' : t, 'n_words' : len(t.split())} for t in sentences\n",
    "]\n",
    "handler.insert_values(values_list, \"text\")\n",
    "print(f\"Items in the database {len(handler.data)}\")"
   ]
  },
  {
   "cell_type": "markdown",
   "metadata": {},
   "source": [
    "### 2. Searching and retrieving values from the database"
   ]
  },
  {
   "cell_type": "markdown",
   "metadata": {},
   "source": [
    "There are multiple options for search which could be used together or separately:\n",
    "\n",
    "- simple filter\n",
    "- filter with keywords\n",
    "- llm filter\n",
    "- search based on similarity"
   ]
  },
  {
   "cell_type": "markdown",
   "metadata": {},
   "source": [
    "#### get all keys"
   ]
  },
  {
   "cell_type": "code",
   "execution_count": 5,
   "metadata": {},
   "outputs": [
    {
     "name": "stdout",
     "output_type": "stream",
     "text": [
      "[{'text': 'The cat slept....', 'n_words': '3...'}, {'text': 'She smiled gently....', 'n_words': '3...'}, {'text': 'It rained today....', 'n_words': '3...'}, {'text': 'Books hold knowledge....', 'n_words': '3...'}]\n"
     ]
    }
   ],
   "source": [
    "results = handler.search_database(\n",
    "    query = \"cat\",\n",
    "    filter_criteria = {\n",
    "        \"n_words\" : 3,\n",
    "    }\n",
    ")\n",
    "print([{k: str(v)[:30] + \"...\" for k, v in result.items()} for result in results])"
   ]
  },
  {
   "cell_type": "markdown",
   "metadata": {},
   "source": [
    "#### get all keys with keywords search"
   ]
  },
  {
   "cell_type": "code",
   "execution_count": 6,
   "metadata": {},
   "outputs": [
    {
     "name": "stdout",
     "output_type": "stream",
     "text": [
      "[{'text': 'The sun set behind the mountai...'}]\n"
     ]
    }
   ],
   "source": [
    "results = handler.search_database(\n",
    "    # when keyword key is provided filter is used to pass keywords\n",
    "    filter_criteria = {\n",
    "        \"text\" : [\"sun\"],\n",
    "    },\n",
    "    keyword_check_keys = ['text'],\n",
    "    # percentage of filter keyword allowed to be different\n",
    "    keyword_check_cutoff = 1,\n",
    "    return_keys_list=['text']\n",
    ")\n",
    "print([{k: str(v)[:30] + \"...\" for k, v in result.items()} for result in results])"
   ]
  },
  {
   "cell_type": "markdown",
   "metadata": {},
   "source": [
    "#### get all key - n_words"
   ]
  },
  {
   "cell_type": "code",
   "execution_count": 7,
   "metadata": {},
   "outputs": [
    {
     "name": "stdout",
     "output_type": "stream",
     "text": [
      "[{'text': 'The cat slept....'}, {'text': 'She smiled gently....'}, {'text': 'It rained today....'}, {'text': 'Books hold knowledge....'}]\n"
     ]
    }
   ],
   "source": [
    "results = handler.search_database(\n",
    "    query = \"cat\",\n",
    "    filter_criteria = {\n",
    "        \"n_words\" : 3,\n",
    "    },\n",
    "    return_keys_list=[\"-n_words\"])\n",
    "print([{k: str(v)[:30] + \"...\" for k, v in result.items()} for result in results])"
   ]
  },
  {
   "cell_type": "markdown",
   "metadata": {},
   "source": [
    "#### get all keys + distance"
   ]
  },
  {
   "cell_type": "code",
   "execution_count": 8,
   "metadata": {},
   "outputs": [
    {
     "name": "stdout",
     "output_type": "stream",
     "text": [
      "[{'text': 'The cat slept....', 'n_words': '3...', '&distance': '0.9757655658500587...'}, {'text': 'She smiled gently....', 'n_words': '3...', '&distance': '0.255370996400475...'}, {'text': 'It rained today....', 'n_words': '3...', '&distance': '0.049663160920329866...'}, {'text': 'Books hold knowledge....', 'n_words': '3...', '&distance': '0.011214848789777708...'}]\n"
     ]
    }
   ],
   "source": [
    "results = handler.search_database(\n",
    "    query = \"cat slept\",\n",
    "    filter_criteria = {\n",
    "        \"n_words\" : 3,\n",
    "    },\n",
    "    return_keys_list=[\"+&distance\"]\n",
    ")\n",
    "print([{k: str(v)[:30] + \"...\" for k, v in result.items()} for result in results])"
   ]
  },
  {
   "cell_type": "markdown",
   "metadata": {},
   "source": [
    "#### get distance"
   ]
  },
  {
   "cell_type": "code",
   "execution_count": 9,
   "metadata": {},
   "outputs": [
    {
     "name": "stdout",
     "output_type": "stream",
     "text": [
      "[{'&distance': '0.9757655658500587...'}, {'&distance': '0.255370996400475...'}, {'&distance': '0.049663160920329866...'}, {'&distance': '0.011214848789777708...'}]\n"
     ]
    }
   ],
   "source": [
    "results = handler.search_database(\n",
    "    query = \"cat slept\",\n",
    "    filter_criteria = {\n",
    "        \"n_words\" : 3,\n",
    "    },\n",
    "    return_keys_list=[\"&distance\"]\n",
    ")\n",
    "print([{k: str(v)[:30] + \"...\" for k, v in result.items()} for result in results])"
   ]
  },
  {
   "cell_type": "markdown",
   "metadata": {},
   "source": [
    "#### get all keys + embeddings"
   ]
  },
  {
   "cell_type": "code",
   "execution_count": 10,
   "metadata": {},
   "outputs": [
    {
     "name": "stdout",
     "output_type": "stream",
     "text": [
      "[{'text': 'The cat slept....', 'n_words': '3...', 'embedding': '[-3.86438631e-02  1.23167999e-...'}, {'text': 'She smiled gently....', 'n_words': '3...', 'embedding': '[-2.46711988e-02  2.37020120e-...'}, {'text': 'It rained today....', 'n_words': '3...', 'embedding': '[-1.35887757e-01 -2.52719939e-...'}, {'text': 'Books hold knowledge....', 'n_words': '3...', 'embedding': '[ 6.20862879e-02  1.13785893e-...'}]\n"
     ]
    }
   ],
   "source": [
    "results = handler.search_database(\n",
    "    query = \"cat slept\",\n",
    "    filter_criteria = {\n",
    "        \"n_words\" : 3,\n",
    "    },\n",
    "    return_keys_list=[\"+embedding\"]\n",
    ")\n",
    "print([{k: str(v)[:30] + \"...\" for k, v in result.items()} for result in results])"
   ]
  },
  {
   "cell_type": "markdown",
   "metadata": {},
   "source": [
    "#### get embeddings"
   ]
  },
  {
   "cell_type": "code",
   "execution_count": 11,
   "metadata": {},
   "outputs": [
    {
     "name": "stdout",
     "output_type": "stream",
     "text": [
      "[{'embedding': '[-3.86438631e-02  1.23167999e-...'}, {'embedding': '[-2.46711988e-02  2.37020120e-...'}, {'embedding': '[-1.35887757e-01 -2.52719939e-...'}, {'embedding': '[ 6.20862879e-02  1.13785893e-...'}]\n"
     ]
    }
   ],
   "source": [
    "results = handler.search_database(\n",
    "    query = \"cat slept\",\n",
    "    filter_criteria = {\n",
    "        \"n_words\" : 3,\n",
    "    },\n",
    "    return_keys_list=[\"embedding\"]\n",
    ")\n",
    "print([{k: str(v)[:30] + \"...\" for k, v in result.items()} for result in results])\n"
   ]
  },
  {
   "cell_type": "markdown",
   "metadata": {},
   "source": [
    "#### get embeddings and embedded field"
   ]
  },
  {
   "cell_type": "code",
   "execution_count": 12,
   "metadata": {},
   "outputs": [
    {
     "name": "stdout",
     "output_type": "stream",
     "text": [
      "[{'&embedded_field': 'text...', 'embedding': '[-3.86438631e-02  1.23167999e-...'}, {'&embedded_field': 'text...', 'embedding': '[-2.46711988e-02  2.37020120e-...'}, {'&embedded_field': 'text...', 'embedding': '[-1.35887757e-01 -2.52719939e-...'}, {'&embedded_field': 'text...', 'embedding': '[ 6.20862879e-02  1.13785893e-...'}]\n"
     ]
    }
   ],
   "source": [
    "results = handler.search_database(\n",
    "    query = \"cat slept\",\n",
    "    filter_criteria = {\n",
    "        \"n_words\" : 3,\n",
    "    },\n",
    "    return_keys_list=[\"embedding\", \"+&embedded_field\"]\n",
    ")\n",
    "print([{k: str(v)[:30] + \"...\" for k, v in result.items()} for result in results])\n"
   ]
  },
  {
   "cell_type": "markdown",
   "metadata": {},
   "source": [
    "#### get all keys with llm search"
   ]
  },
  {
   "cell_type": "code",
   "execution_count": 13,
   "metadata": {},
   "outputs": [
    {
     "name": "stdout",
     "output_type": "stream",
     "text": [
      "[{'text': 'The cat slept....', 'n_words': '3...'}]\n"
     ]
    }
   ],
   "source": [
    "# Initialization\n",
    "handler = MockerDB(\n",
    "    # optional\n",
    "    persist = True,\n",
    "    llm_filter_params = {\n",
    "        \"connection_string\" : \"http://127.0.0.1:8000/proompter/prompt_chat\"\n",
    "    }\n",
    ")\n",
    "# Initialize empty database\n",
    "handler.establish_connection(\n",
    "    # optional for persist\n",
    "    file_path = \"./mock_persist\",\n",
    "    embs_file_path = \"./mock_embs_persist\",\n",
    ")\n",
    "\n",
    "results = await handler.search_database_async(\n",
    "    llm_search_keys=['text'],\n",
    "    filter_criteria = {\n",
    "        \"text\" : [\"cat\"],\n",
    "    }\n",
    ")\n",
    "print([{k: str(v)[:30] + \"...\" for k, v in result.items()} for result in results])"
   ]
  },
  {
   "cell_type": "markdown",
   "metadata": {},
   "source": [
    "### 3. Removing values from the database"
   ]
  },
  {
   "cell_type": "code",
   "execution_count": 48,
   "metadata": {},
   "outputs": [
    {
     "name": "stdout",
     "output_type": "stream",
     "text": [
      "Items in the database 12\n",
      "Items left in the database 10\n"
     ]
    }
   ],
   "source": [
    "print(f\"Items in the database {len(handler.data)}\")\n",
    "handler.remove_from_database(filter_criteria = {\"n_words\" : 11})\n",
    "print(f\"Items left in the database {len(handler.data)}\")\n"
   ]
  },
  {
   "cell_type": "markdown",
   "metadata": {},
   "source": [
    "### 4 Embeding text"
   ]
  },
  {
   "cell_type": "code",
   "execution_count": 49,
   "metadata": {},
   "outputs": [
    {
     "name": "stdout",
     "output_type": "stream",
     "text": [
      "{'embeddings': [[0.04973424971103668, -0.43570247292518616, -0.014545125886797905, -0.03648979589343071, -0.04165348783135414, -0.04544278606772423, -0.07025150209665298, 0.10043243318796158, -0.20846229791641235, 0.15596869587898254, 0.11489829421043396, -0.13442179560661316, -0.02425091527402401, ...\n"
     ]
    }
   ],
   "source": [
    "results = handler.embed_texts(\n",
    "    texts = [\n",
    "    \"Short. Variation 1: Short.\",\n",
    "    \"Another medium-length example, aiming to test the variability in processing different lengths of text inputs. Variation 2: processing lengths medium-length example, in inputs. to variability aiming test of text different the Another\"\n",
    "  ]\n",
    ")\n",
    "\n",
    "print(str(results)[0:300] + \"...\")"
   ]
  },
  {
   "cell_type": "markdown",
   "metadata": {},
   "source": [
    "### 5. Using MockerDB API"
   ]
  },
  {
   "cell_type": "markdown",
   "metadata": {},
   "source": [
    "Remote Mocker can be used via very similar methods to the local one."
   ]
  },
  {
   "cell_type": "code",
   "execution_count": 2,
   "metadata": {},
   "outputs": [],
   "source": [
    "# Initialization\n",
    "handler = MockerDB(\n",
    "    skip_post_init=True\n",
    ")\n",
    "# Initialize empty database\n",
    "handler.establish_connection(\n",
    "     # optional for connecting to api\n",
    "    connection_details = {\n",
    "        'base_url' : \"http://localhost:8000/mocker-db\"\n",
    "    }\n",
    ")"
   ]
  },
  {
   "cell_type": "code",
   "execution_count": 3,
   "metadata": {},
   "outputs": [
    {
     "name": "stderr",
     "output_type": "stream",
     "text": [
      "HTTP Request: POST http://localhost:8000/mocker-db/insert \"HTTP/1.1 200 OK\"\n"
     ]
    },
    {
     "data": {
      "text/plain": [
       "{'status': 'success', 'message': ''}"
      ]
     },
     "execution_count": 3,
     "metadata": {},
     "output_type": "execute_result"
    }
   ],
   "source": [
    "sentences = [\n",
    "    \"The cat slept.\",\n",
    "    \"It rained today.\",\n",
    "    \"She smiled gently.\",\n",
    "    \"Books hold knowledge.\",\n",
    "    \"The sun set behind the mountains, casting a golden glow over the valley.\",\n",
    "    \"He quickly realized that time was slipping away, and he needed to act fast.\",\n",
    "    \"The concert was an unforgettable experience, filled with laughter and joy.\",\n",
    "    \"Despite the challenges, they managed to build a beautiful home together.\",\n",
    "    \"As the wind howled through the ancient trees, scattering leaves and whispering secrets of the forest, she stood there, gazing up at the endless expanse of stars, feeling both infinitely small and profoundly connected to the universe.\",\n",
    "    \"While the project seemed daunting at first, requiring countless hours of research, planning, and execution, the team worked tirelessly, motivated by their shared goal of creating something truly remarkable and innovative in their field.\",\n",
    "    \"In the bustling city streets, amidst the constant hum of traffic and chatter, he found himself contemplating life's mysteries, pondering the choices that had brought him to this very moment and wondering where the path ahead would lead.\",\n",
    "    \"The conference was a gathering of minds from around the globe, each participant bringing their unique perspectives and insights to the table, fostering a vibrant exchange of ideas that would shape the future of their respective fields for years to come.\"\n",
    "]\n",
    "\n",
    "# Insert Data\n",
    "values_list = [\n",
    "    {'text' : t, 'n_words' : len(t.split())} for t in sentences\n",
    "]\n",
    "handler.insert_values(values_list, \"text\")"
   ]
  },
  {
   "cell_type": "markdown",
   "metadata": {},
   "source": [
    "MockerAPI has multiple handlers stored in memory at a time, they can be displayed with number of items and memory estimate."
   ]
  },
  {
   "cell_type": "code",
   "execution_count": 4,
   "metadata": {},
   "outputs": [
    {
     "name": "stderr",
     "output_type": "stream",
     "text": [
      "HTTP Request: GET http://localhost:8000/mocker-db/active_handlers \"HTTP/1.1 200 OK\"\n"
     ]
    },
    {
     "data": {
      "text/plain": [
       "{'results': [{'handler': 'default',\n",
       "   'items': 14,\n",
       "   'memory_usage': 1.4558258056640625}],\n",
       " 'status': 'success',\n",
       " 'message': '',\n",
       " 'handlers': ['default'],\n",
       " 'items': [14],\n",
       " 'memory_usage': [1.4558258056640625]}"
      ]
     },
     "execution_count": 4,
     "metadata": {},
     "output_type": "execute_result"
    }
   ],
   "source": [
    "handler.show_handlers()"
   ]
  },
  {
   "cell_type": "code",
   "execution_count": 5,
   "metadata": {},
   "outputs": [
    {
     "name": "stderr",
     "output_type": "stream",
     "text": [
      "HTTP Request: POST http://localhost:8000/mocker-db/search \"HTTP/1.1 200 OK\"\n"
     ]
    },
    {
     "data": {
      "text/plain": [
       "{'status': 'success',\n",
       " 'message': '',\n",
       " 'handler': 'default',\n",
       " 'results': [{'text': 'The cat slept.', 'n_words': 3},\n",
       "  {'text': 'Books hold knowledge.', 'n_words': 3},\n",
       "  {'text': 'It rained today.', 'n_words': 3},\n",
       "  {'text': 'She smiled gently.', 'n_words': 3}]}"
      ]
     },
     "execution_count": 5,
     "metadata": {},
     "output_type": "execute_result"
    }
   ],
   "source": [
    "results = handler.search_database(\n",
    "    query = \"cat\",\n",
    "    filter_criteria = {\n",
    "        \"n_words\" : 3,\n",
    "    }\n",
    ")\n",
    "\n",
    "results"
   ]
  },
  {
   "cell_type": "code",
   "execution_count": 6,
   "metadata": {},
   "outputs": [
    {
     "name": "stderr",
     "output_type": "stream",
     "text": [
      "HTTP Request: POST http://localhost:8000/mocker-db/embed \"HTTP/1.1 200 OK\"\n"
     ]
    },
    {
     "name": "stdout",
     "output_type": "stream",
     "text": [
      "{'status': 'success', 'message': '', 'handler': 'cache_mocker_intfloat_multilingual-e5-base', 'embedding_model': 'intfloat/multilingual-e5-base', 'embeddings': [[-0.021023565903306007, 0.03461984172463417, -0.01310338918119669, 0.03071131743490696, 0.023395607247948647, -0.04054545238614082, -0.015805143862962723, -0.02682858146727085, 0.01583343744277954, 0.01763748936355114, 0.0008703064522705972, -0.011133715510368347, 0.11296682059764862, 0.015158131718635559, -0.0466904453933239, -0.0481428...\n"
     ]
    }
   ],
   "source": [
    "results = handler.embed_texts(\n",
    "    texts = [\n",
    "    \"Short. Variation 1: Short.\",\n",
    "    \"Another medium-length example, aiming to test the variability in processing different lengths of text inputs. Variation 2: processing lengths medium-length example, in inputs. to variability aiming test of text different the Another\"\n",
    "  ],\n",
    "    # optional\n",
    "    embedding_model = \"intfloat/multilingual-e5-base\"\n",
    ")\n",
    "\n",
    "print(str(results)[0:500] + \"...\")"
   ]
  },
  {
   "cell_type": "code",
   "execution_count": 7,
   "metadata": {},
   "outputs": [
    {
     "name": "stderr",
     "output_type": "stream",
     "text": [
      "HTTP Request: GET http://localhost:8000/mocker-db/active_handlers \"HTTP/1.1 200 OK\"\n"
     ]
    },
    {
     "data": {
      "text/plain": [
       "{'results': [{'handler': 'default',\n",
       "   'items': 14,\n",
       "   'memory_usage': 1.4564743041992188},\n",
       "  {'handler': 'cache_mocker_intfloat_multilingual-e5-base',\n",
       "   'items': 2,\n",
       "   'memory_usage': 1.3639755249023438}],\n",
       " 'status': 'success',\n",
       " 'message': '',\n",
       " 'handlers': ['default', 'cache_mocker_intfloat_multilingual-e5-base'],\n",
       " 'items': [14, 2],\n",
       " 'memory_usage': [1.4564743041992188, 1.3639755249023438]}"
      ]
     },
     "execution_count": 7,
     "metadata": {},
     "output_type": "execute_result"
    }
   ],
   "source": [
    "handler.show_handlers()"
   ]
  }
 ],
 "metadata": {
  "kernelspec": {
   "display_name": "msearch",
   "language": "python",
   "name": "python3"
  },
  "language_info": {
   "codemirror_mode": {
    "name": "ipython",
    "version": 3
   },
   "file_extension": ".py",
   "mimetype": "text/x-python",
   "name": "python",
   "nbconvert_exporter": "python",
   "pygments_lexer": "ipython3",
   "version": "3.10.14"
  },
  "orig_nbformat": 4
 },
 "nbformat": 4,
 "nbformat_minor": 2
}

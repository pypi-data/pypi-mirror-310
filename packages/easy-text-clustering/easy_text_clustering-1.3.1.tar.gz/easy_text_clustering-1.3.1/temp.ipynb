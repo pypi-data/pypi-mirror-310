{
 "cells": [
  {
   "cell_type": "code",
   "execution_count": 1,
   "metadata": {},
   "outputs": [
    {
     "name": "stdout",
     "output_type": "stream",
     "text": [
      "Requirement already satisfied: easy_text_clustering in ./.venv/lib/python3.10/site-packages (1.1.4)\n",
      "Collecting easy_text_clustering\n",
      "  Downloading easy_text_clustering-1.3.0-py3-none-any.whl.metadata (23 kB)\n",
      "Requirement already satisfied: datasets in ./.venv/lib/python3.10/site-packages (from easy_text_clustering) (3.0.1)\n",
      "Requirement already satisfied: faiss-cpu in ./.venv/lib/python3.10/site-packages (from easy_text_clustering) (1.9.0)\n",
      "Requirement already satisfied: huggingface-hub in ./.venv/lib/python3.10/site-packages (from easy_text_clustering) (0.26.0)\n",
      "Requirement already satisfied: matplotlib in ./.venv/lib/python3.10/site-packages (from easy_text_clustering) (3.9.2)\n",
      "Requirement already satisfied: numpy in ./.venv/lib/python3.10/site-packages (from easy_text_clustering) (2.0.2)\n",
      "Requirement already satisfied: optuna in ./.venv/lib/python3.10/site-packages (from easy_text_clustering) (4.1.0)\n",
      "Requirement already satisfied: pandas in ./.venv/lib/python3.10/site-packages (from easy_text_clustering) (2.2.2)\n",
      "Requirement already satisfied: plotly in ./.venv/lib/python3.10/site-packages (from easy_text_clustering) (5.24.1)\n",
      "Requirement already satisfied: scikit-learn in ./.venv/lib/python3.10/site-packages (from easy_text_clustering) (1.5.2)\n",
      "Requirement already satisfied: seaborn in ./.venv/lib/python3.10/site-packages (from easy_text_clustering) (0.13.2)\n",
      "Requirement already satisfied: sentence-transformers in ./.venv/lib/python3.10/site-packages (from easy_text_clustering) (3.2.0)\n",
      "Requirement already satisfied: tqdm in ./.venv/lib/python3.10/site-packages (from easy_text_clustering) (4.66.5)\n",
      "Requirement already satisfied: umap-learn in ./.venv/lib/python3.10/site-packages (from easy_text_clustering) (0.5.6)\n",
      "Requirement already satisfied: filelock in ./.venv/lib/python3.10/site-packages (from datasets->easy_text_clustering) (3.16.1)\n",
      "Requirement already satisfied: pyarrow>=15.0.0 in ./.venv/lib/python3.10/site-packages (from datasets->easy_text_clustering) (17.0.0)\n",
      "Requirement already satisfied: dill<0.3.9,>=0.3.0 in ./.venv/lib/python3.10/site-packages (from datasets->easy_text_clustering) (0.3.8)\n",
      "Requirement already satisfied: requests>=2.32.2 in ./.venv/lib/python3.10/site-packages (from datasets->easy_text_clustering) (2.32.3)\n",
      "Requirement already satisfied: xxhash in ./.venv/lib/python3.10/site-packages (from datasets->easy_text_clustering) (3.5.0)\n",
      "Requirement already satisfied: multiprocess in ./.venv/lib/python3.10/site-packages (from datasets->easy_text_clustering) (0.70.16)\n",
      "Requirement already satisfied: fsspec<=2024.6.1,>=2023.1.0 in ./.venv/lib/python3.10/site-packages (from fsspec[http]<=2024.6.1,>=2023.1.0->datasets->easy_text_clustering) (2024.6.1)\n",
      "Requirement already satisfied: aiohttp in ./.venv/lib/python3.10/site-packages (from datasets->easy_text_clustering) (3.10.10)\n",
      "Requirement already satisfied: packaging in ./.venv/lib/python3.10/site-packages (from datasets->easy_text_clustering) (24.1)\n",
      "Requirement already satisfied: pyyaml>=5.1 in ./.venv/lib/python3.10/site-packages (from datasets->easy_text_clustering) (6.0.2)\n",
      "Requirement already satisfied: typing-extensions>=3.7.4.3 in ./.venv/lib/python3.10/site-packages (from huggingface-hub->easy_text_clustering) (4.12.2)\n",
      "Requirement already satisfied: contourpy>=1.0.1 in ./.venv/lib/python3.10/site-packages (from matplotlib->easy_text_clustering) (1.3.0)\n",
      "Requirement already satisfied: cycler>=0.10 in ./.venv/lib/python3.10/site-packages (from matplotlib->easy_text_clustering) (0.12.1)\n",
      "Requirement already satisfied: fonttools>=4.22.0 in ./.venv/lib/python3.10/site-packages (from matplotlib->easy_text_clustering) (4.54.1)\n",
      "Requirement already satisfied: kiwisolver>=1.3.1 in ./.venv/lib/python3.10/site-packages (from matplotlib->easy_text_clustering) (1.4.7)\n",
      "Requirement already satisfied: pillow>=8 in ./.venv/lib/python3.10/site-packages (from matplotlib->easy_text_clustering) (11.0.0)\n",
      "Requirement already satisfied: pyparsing>=2.3.1 in ./.venv/lib/python3.10/site-packages (from matplotlib->easy_text_clustering) (3.2.0)\n",
      "Requirement already satisfied: python-dateutil>=2.7 in ./.venv/lib/python3.10/site-packages (from matplotlib->easy_text_clustering) (2.9.0.post0)\n",
      "Requirement already satisfied: alembic>=1.5.0 in ./.venv/lib/python3.10/site-packages (from optuna->easy_text_clustering) (1.14.0)\n",
      "Requirement already satisfied: colorlog in ./.venv/lib/python3.10/site-packages (from optuna->easy_text_clustering) (6.9.0)\n",
      "Requirement already satisfied: sqlalchemy>=1.4.2 in ./.venv/lib/python3.10/site-packages (from optuna->easy_text_clustering) (2.0.36)\n",
      "Requirement already satisfied: pytz>=2020.1 in ./.venv/lib/python3.10/site-packages (from pandas->easy_text_clustering) (2024.2)\n",
      "Requirement already satisfied: tzdata>=2022.7 in ./.venv/lib/python3.10/site-packages (from pandas->easy_text_clustering) (2024.2)\n",
      "Requirement already satisfied: tenacity>=6.2.0 in ./.venv/lib/python3.10/site-packages (from plotly->easy_text_clustering) (9.0.0)\n",
      "Requirement already satisfied: scipy>=1.6.0 in ./.venv/lib/python3.10/site-packages (from scikit-learn->easy_text_clustering) (1.14.1)\n",
      "Requirement already satisfied: joblib>=1.2.0 in ./.venv/lib/python3.10/site-packages (from scikit-learn->easy_text_clustering) (1.4.2)\n",
      "Requirement already satisfied: threadpoolctl>=3.1.0 in ./.venv/lib/python3.10/site-packages (from scikit-learn->easy_text_clustering) (3.5.0)\n",
      "Requirement already satisfied: transformers<5.0.0,>=4.41.0 in ./.venv/lib/python3.10/site-packages (from sentence-transformers->easy_text_clustering) (4.45.2)\n",
      "Requirement already satisfied: torch>=1.11.0 in ./.venv/lib/python3.10/site-packages (from sentence-transformers->easy_text_clustering) (2.5.0)\n",
      "Requirement already satisfied: numba>=0.51.2 in ./.venv/lib/python3.10/site-packages (from umap-learn->easy_text_clustering) (0.60.0)\n",
      "Requirement already satisfied: pynndescent>=0.5 in ./.venv/lib/python3.10/site-packages (from umap-learn->easy_text_clustering) (0.5.13)\n",
      "Requirement already satisfied: Mako in ./.venv/lib/python3.10/site-packages (from alembic>=1.5.0->optuna->easy_text_clustering) (1.3.6)\n",
      "Requirement already satisfied: aiohappyeyeballs>=2.3.0 in ./.venv/lib/python3.10/site-packages (from aiohttp->datasets->easy_text_clustering) (2.4.3)\n",
      "Requirement already satisfied: aiosignal>=1.1.2 in ./.venv/lib/python3.10/site-packages (from aiohttp->datasets->easy_text_clustering) (1.3.1)\n",
      "Requirement already satisfied: attrs>=17.3.0 in ./.venv/lib/python3.10/site-packages (from aiohttp->datasets->easy_text_clustering) (24.2.0)\n",
      "Requirement already satisfied: frozenlist>=1.1.1 in ./.venv/lib/python3.10/site-packages (from aiohttp->datasets->easy_text_clustering) (1.4.1)\n",
      "Requirement already satisfied: multidict<7.0,>=4.5 in ./.venv/lib/python3.10/site-packages (from aiohttp->datasets->easy_text_clustering) (6.1.0)\n",
      "Requirement already satisfied: yarl<2.0,>=1.12.0 in ./.venv/lib/python3.10/site-packages (from aiohttp->datasets->easy_text_clustering) (1.15.5)\n",
      "Requirement already satisfied: async-timeout<5.0,>=4.0 in ./.venv/lib/python3.10/site-packages (from aiohttp->datasets->easy_text_clustering) (4.0.3)\n",
      "Requirement already satisfied: llvmlite<0.44,>=0.43.0dev0 in ./.venv/lib/python3.10/site-packages (from numba>=0.51.2->umap-learn->easy_text_clustering) (0.43.0)\n",
      "Requirement already satisfied: six>=1.5 in ./.venv/lib/python3.10/site-packages (from python-dateutil>=2.7->matplotlib->easy_text_clustering) (1.16.0)\n",
      "Requirement already satisfied: charset-normalizer<4,>=2 in ./.venv/lib/python3.10/site-packages (from requests>=2.32.2->datasets->easy_text_clustering) (2.0.12)\n",
      "Requirement already satisfied: idna<4,>=2.5 in ./.venv/lib/python3.10/site-packages (from requests>=2.32.2->datasets->easy_text_clustering) (3.10)\n",
      "Requirement already satisfied: urllib3<3,>=1.21.1 in ./.venv/lib/python3.10/site-packages (from requests>=2.32.2->datasets->easy_text_clustering) (1.26.20)\n",
      "Requirement already satisfied: certifi>=2017.4.17 in ./.venv/lib/python3.10/site-packages (from requests>=2.32.2->datasets->easy_text_clustering) (2024.8.30)\n",
      "Requirement already satisfied: greenlet!=0.4.17 in ./.venv/lib/python3.10/site-packages (from sqlalchemy>=1.4.2->optuna->easy_text_clustering) (3.1.1)\n",
      "Requirement already satisfied: networkx in ./.venv/lib/python3.10/site-packages (from torch>=1.11.0->sentence-transformers->easy_text_clustering) (3.4.1)\n",
      "Requirement already satisfied: jinja2 in ./.venv/lib/python3.10/site-packages (from torch>=1.11.0->sentence-transformers->easy_text_clustering) (3.1.4)\n",
      "Requirement already satisfied: nvidia-cuda-nvrtc-cu12==12.4.127 in ./.venv/lib/python3.10/site-packages (from torch>=1.11.0->sentence-transformers->easy_text_clustering) (12.4.127)\n",
      "Requirement already satisfied: nvidia-cuda-runtime-cu12==12.4.127 in ./.venv/lib/python3.10/site-packages (from torch>=1.11.0->sentence-transformers->easy_text_clustering) (12.4.127)\n",
      "Requirement already satisfied: nvidia-cuda-cupti-cu12==12.4.127 in ./.venv/lib/python3.10/site-packages (from torch>=1.11.0->sentence-transformers->easy_text_clustering) (12.4.127)\n",
      "Requirement already satisfied: nvidia-cudnn-cu12==9.1.0.70 in ./.venv/lib/python3.10/site-packages (from torch>=1.11.0->sentence-transformers->easy_text_clustering) (9.1.0.70)\n",
      "Requirement already satisfied: nvidia-cublas-cu12==12.4.5.8 in ./.venv/lib/python3.10/site-packages (from torch>=1.11.0->sentence-transformers->easy_text_clustering) (12.4.5.8)\n",
      "Requirement already satisfied: nvidia-cufft-cu12==11.2.1.3 in ./.venv/lib/python3.10/site-packages (from torch>=1.11.0->sentence-transformers->easy_text_clustering) (11.2.1.3)\n",
      "Requirement already satisfied: nvidia-curand-cu12==10.3.5.147 in ./.venv/lib/python3.10/site-packages (from torch>=1.11.0->sentence-transformers->easy_text_clustering) (10.3.5.147)\n",
      "Requirement already satisfied: nvidia-cusolver-cu12==11.6.1.9 in ./.venv/lib/python3.10/site-packages (from torch>=1.11.0->sentence-transformers->easy_text_clustering) (11.6.1.9)\n",
      "Requirement already satisfied: nvidia-cusparse-cu12==12.3.1.170 in ./.venv/lib/python3.10/site-packages (from torch>=1.11.0->sentence-transformers->easy_text_clustering) (12.3.1.170)\n",
      "Requirement already satisfied: nvidia-nccl-cu12==2.21.5 in ./.venv/lib/python3.10/site-packages (from torch>=1.11.0->sentence-transformers->easy_text_clustering) (2.21.5)\n",
      "Requirement already satisfied: nvidia-nvtx-cu12==12.4.127 in ./.venv/lib/python3.10/site-packages (from torch>=1.11.0->sentence-transformers->easy_text_clustering) (12.4.127)\n",
      "Requirement already satisfied: nvidia-nvjitlink-cu12==12.4.127 in ./.venv/lib/python3.10/site-packages (from torch>=1.11.0->sentence-transformers->easy_text_clustering) (12.4.127)\n",
      "Requirement already satisfied: triton==3.1.0 in ./.venv/lib/python3.10/site-packages (from torch>=1.11.0->sentence-transformers->easy_text_clustering) (3.1.0)\n",
      "Requirement already satisfied: sympy==1.13.1 in ./.venv/lib/python3.10/site-packages (from torch>=1.11.0->sentence-transformers->easy_text_clustering) (1.13.1)\n",
      "Requirement already satisfied: mpmath<1.4,>=1.1.0 in ./.venv/lib/python3.10/site-packages (from sympy==1.13.1->torch>=1.11.0->sentence-transformers->easy_text_clustering) (1.3.0)\n",
      "Requirement already satisfied: regex!=2019.12.17 in ./.venv/lib/python3.10/site-packages (from transformers<5.0.0,>=4.41.0->sentence-transformers->easy_text_clustering) (2024.9.11)\n",
      "Requirement already satisfied: safetensors>=0.4.1 in ./.venv/lib/python3.10/site-packages (from transformers<5.0.0,>=4.41.0->sentence-transformers->easy_text_clustering) (0.4.5)\n",
      "Requirement already satisfied: tokenizers<0.21,>=0.20 in ./.venv/lib/python3.10/site-packages (from transformers<5.0.0,>=4.41.0->sentence-transformers->easy_text_clustering) (0.20.1)\n",
      "Requirement already satisfied: propcache>=0.2.0 in ./.venv/lib/python3.10/site-packages (from yarl<2.0,>=1.12.0->aiohttp->datasets->easy_text_clustering) (0.2.0)\n",
      "Requirement already satisfied: MarkupSafe>=2.0 in ./.venv/lib/python3.10/site-packages (from jinja2->torch>=1.11.0->sentence-transformers->easy_text_clustering) (3.0.2)\n",
      "Downloading easy_text_clustering-1.3.0-py3-none-any.whl (25 kB)\n",
      "Installing collected packages: easy_text_clustering\n",
      "  Attempting uninstall: easy_text_clustering\n",
      "    Found existing installation: easy_text_clustering 1.1.4\n",
      "    Uninstalling easy_text_clustering-1.1.4:\n",
      "      Successfully uninstalled easy_text_clustering-1.1.4\n",
      "Successfully installed easy_text_clustering-1.3.0\n"
     ]
    }
   ],
   "source": [
    "! pip install --upgrade easy_text_clustering"
   ]
  },
  {
   "cell_type": "code",
   "execution_count": 2,
   "metadata": {},
   "outputs": [
    {
     "ename": "ModuleNotFoundError",
     "evalue": "No module named 'optimizer'",
     "output_type": "error",
     "traceback": [
      "\u001b[0;31m---------------------------------------------------------------------------\u001b[0m",
      "\u001b[0;31mModuleNotFoundError\u001b[0m                       Traceback (most recent call last)",
      "Cell \u001b[0;32mIn[2], line 2\u001b[0m\n\u001b[1;32m      1\u001b[0m \u001b[38;5;28;01mfrom\u001b[39;00m \u001b[38;5;21;01mdatasets\u001b[39;00m \u001b[38;5;28;01mimport\u001b[39;00m load_dataset\n\u001b[0;32m----> 2\u001b[0m \u001b[38;5;28;01mfrom\u001b[39;00m \u001b[38;5;21;01measy_text_clustering\u001b[39;00m\u001b[38;5;21;01m.\u001b[39;00m\u001b[38;5;21;01mclusterer\u001b[39;00m \u001b[38;5;28;01mimport\u001b[39;00m ClusterClassifier\n\u001b[1;32m      4\u001b[0m SAMPLE \u001b[38;5;241m=\u001b[39m \u001b[38;5;241m100_000\u001b[39m\n\u001b[1;32m      6\u001b[0m texts \u001b[38;5;241m=\u001b[39m load_dataset(\u001b[38;5;124m'\u001b[39m\u001b[38;5;124mbillingsmoore/text-clustering-example-data\u001b[39m\u001b[38;5;124m'\u001b[39m, split\u001b[38;5;241m=\u001b[39m\u001b[38;5;124m\"\u001b[39m\u001b[38;5;124mtrain\u001b[39m\u001b[38;5;124m\"\u001b[39m)[\u001b[38;5;124m'\u001b[39m\u001b[38;5;124mtext\u001b[39m\u001b[38;5;124m'\u001b[39m]\n",
      "File \u001b[0;32m~/Documents/easy-text-clustering/.venv/lib/python3.10/site-packages/easy_text_clustering/clusterer.py:23\u001b[0m\n\u001b[1;32m     19\u001b[0m \u001b[38;5;28;01mfrom\u001b[39;00m \u001b[38;5;21;01msklearn\u001b[39;00m\u001b[38;5;21;01m.\u001b[39;00m\u001b[38;5;21;01mdecomposition\u001b[39;00m \u001b[38;5;28;01mimport\u001b[39;00m TruncatedSVD, PCA\n\u001b[1;32m     21\u001b[0m \u001b[38;5;28;01mfrom\u001b[39;00m \u001b[38;5;21;01msklearn\u001b[39;00m\u001b[38;5;21;01m.\u001b[39;00m\u001b[38;5;21;01mcluster\u001b[39;00m \u001b[38;5;28;01mimport\u001b[39;00m DBSCAN, OPTICS, KMeans, HDBSCAN\n\u001b[0;32m---> 23\u001b[0m \u001b[38;5;28;01mfrom\u001b[39;00m \u001b[38;5;21;01moptimizer\u001b[39;00m \u001b[38;5;28;01mimport\u001b[39;00m Optimizer\n\u001b[1;32m     25\u001b[0m logging\u001b[38;5;241m.\u001b[39mbasicConfig(level\u001b[38;5;241m=\u001b[39mlogging\u001b[38;5;241m.\u001b[39mINFO)\n\u001b[1;32m     28\u001b[0m DEFAULT_INSTRUCTION \u001b[38;5;241m=\u001b[39m (\n\u001b[1;32m     29\u001b[0m     instruction\n\u001b[1;32m     30\u001b[0m ) \u001b[38;5;241m=\u001b[39m \u001b[38;5;124m\"\u001b[39m\u001b[38;5;124mUse three words total (comma separated)\u001b[39m\u001b[38;5;130;01m\\\u001b[39;00m\n\u001b[1;32m     31\u001b[0m \u001b[38;5;124mto describe general topics in above texts. Under no circumstances use enumeration. \u001b[39m\u001b[38;5;130;01m\\\u001b[39;00m\n\u001b[1;32m     32\u001b[0m \u001b[38;5;124mExample format: Tree, Cat, Fireman\u001b[39m\u001b[38;5;124m\"\u001b[39m\n",
      "\u001b[0;31mModuleNotFoundError\u001b[0m: No module named 'optimizer'"
     ]
    }
   ],
   "source": [
    "from datasets import load_dataset\n",
    "from easy_text_clustering.clusterer import ClusterClassifier\n",
    "\n",
    "SAMPLE = 100_000\n",
    "\n",
    "texts = load_dataset('billingsmoore/text-clustering-example-data', split=\"train\")['text']\n",
    "\n",
    "cc = ClusterClassifier(summary_create=False)\n",
    "\n",
    "cc.optimize_fit(texts)\n",
    "\n",
    "cc.show()"
   ]
  },
  {
   "cell_type": "code",
   "execution_count": null,
   "metadata": {},
   "outputs": [],
   "source": [
    "from easy_text_clustering.optimizer import Optimizer\n",
    "\n",
    "opt = Optimizer()\n",
    "\n",
    "umap_args, hdbscan_args = opt.fit(texts)"
   ]
  }
 ],
 "metadata": {
  "kernelspec": {
   "display_name": ".venv",
   "language": "python",
   "name": "python3"
  },
  "language_info": {
   "codemirror_mode": {
    "name": "ipython",
    "version": 3
   },
   "file_extension": ".py",
   "mimetype": "text/x-python",
   "name": "python",
   "nbconvert_exporter": "python",
   "pygments_lexer": "ipython3",
   "version": "3.10.15"
  }
 },
 "nbformat": 4,
 "nbformat_minor": 2
}

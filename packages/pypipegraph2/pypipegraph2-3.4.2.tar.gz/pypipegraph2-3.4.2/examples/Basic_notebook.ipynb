{
 "cells": [
  {
   "cell_type": "code",
   "execution_count": 4,
   "metadata": {
    "scrolled": true
   },
   "outputs": [
    {
     "data": {
      "text/html": [
       "<pre style=\"white-space:pre;overflow-x:auto;line-height:normal;font-family:Menlo,'DejaVu Sans Mono',consolas,'Courier New',monospace\"><span style=\"color: #7fbfbf\">[02/02/21 16:53:52] </span><span style=\"color: #000080\">INFO    </span> Run is go <span style=\"color: #000080; font-weight: bold\">140296103049024</span> pid: <span style=\"color: #000080; font-weight: bold\">2167668</span>, run_id <span style=\"color: #000080; font-weight: bold\">0</span>    <a href=\"file:///home/finkernagel/upstream/pypipegraph2/src/pypipegraph2/graph.py\"><span style=\"color: #7f7f7f\">graph.py</span></a><span style=\"color: #7f7f7f\">:115</span>\n",
       "</pre>\n"
      ],
      "text/plain": [
       "<rich.jupyter.JupyterRenderable at 0x7f993431bfd0>"
      ]
     },
     "metadata": {},
     "output_type": "display_data"
    },
    {
     "data": {
      "text/html": [
       "<pre style=\"white-space:pre;overflow-x:auto;line-height:normal;font-family:Menlo,'DejaVu Sans Mono',consolas,'Courier New',monospace\"><span style=\"color: #7fbfbf\">                    </span><span style=\"color: #000080\">INFO    </span> Done in <span style=\"color: #000080; font-weight: bold\">0.</span>0014s <span style=\"font-weight: bold\">FI1s_0</span>                             <a href=\"file:///home/finkernagel/upstream/pypipegraph2/src/pypipegraph2/runner.py\"><span style=\"color: #7f7f7f\">runner.py</span></a><span style=\"color: #7f7f7f\">:389</span>\n",
       "</pre>\n"
      ],
      "text/plain": [
       "<rich.jupyter.JupyterRenderable at 0x7f991bde2a30>"
      ]
     },
     "metadata": {},
     "output_type": "display_data"
    },
    {
     "data": {
      "text/html": [
       "<pre style=\"white-space:pre;overflow-x:auto;line-height:normal;font-family:Menlo,'DejaVu Sans Mono',consolas,'Courier New',monospace\"><span style=\"color: #7fbfbf\">                    </span><span style=\"color: #000080\">INFO    </span> Done in <span style=\"color: #000080; font-weight: bold\">0.</span>0041s <span style=\"font-weight: bold\">FI1s_1</span>                             <a href=\"file:///home/finkernagel/upstream/pypipegraph2/src/pypipegraph2/runner.py\"><span style=\"color: #7f7f7f\">runner.py</span></a><span style=\"color: #7f7f7f\">:389</span>\n",
       "</pre>\n"
      ],
      "text/plain": [
       "<rich.jupyter.JupyterRenderable at 0x7f991bde2a00>"
      ]
     },
     "metadata": {},
     "output_type": "display_data"
    },
    {
     "data": {
      "text/html": [
       "<pre style=\"white-space:pre;overflow-x:auto;line-height:normal;font-family:Menlo,'DejaVu Sans Mono',consolas,'Courier New',monospace\"><span style=\"color: #7fbfbf\">                    </span><span style=\"color: #000080\">INFO    </span> Done in <span style=\"color: #000080; font-weight: bold\">0.</span>0048s <span style=\"font-weight: bold\">FI1s_10</span>                            <a href=\"file:///home/finkernagel/upstream/pypipegraph2/src/pypipegraph2/runner.py\"><span style=\"color: #7f7f7f\">runner.py</span></a><span style=\"color: #7f7f7f\">:389</span>\n",
       "</pre>\n"
      ],
      "text/plain": [
       "<rich.jupyter.JupyterRenderable at 0x7f991bde2be0>"
      ]
     },
     "metadata": {},
     "output_type": "display_data"
    },
    {
     "data": {
      "text/html": [
       "<pre style=\"white-space:pre;overflow-x:auto;line-height:normal;font-family:Menlo,'DejaVu Sans Mono',consolas,'Courier New',monospace\"><span style=\"color: #7fbfbf\">                    </span><span style=\"color: #000080\">INFO    </span> Done in <span style=\"color: #000080; font-weight: bold\">0.</span>0055s <span style=\"font-weight: bold\">FI1s_2</span>                             <a href=\"file:///home/finkernagel/upstream/pypipegraph2/src/pypipegraph2/runner.py\"><span style=\"color: #7f7f7f\">runner.py</span></a><span style=\"color: #7f7f7f\">:389</span>\n",
       "</pre>\n"
      ],
      "text/plain": [
       "<rich.jupyter.JupyterRenderable at 0x7f991bde2850>"
      ]
     },
     "metadata": {},
     "output_type": "display_data"
    },
    {
     "data": {
      "text/html": [
       "<pre style=\"white-space:pre;overflow-x:auto;line-height:normal;font-family:Menlo,'DejaVu Sans Mono',consolas,'Courier New',monospace\"><span style=\"color: #7fbfbf\">                    </span><span style=\"color: #000080\">INFO    </span> Done in <span style=\"color: #000080; font-weight: bold\">0.</span>0042s <span style=\"font-weight: bold\">FI1s_3</span>                             <a href=\"file:///home/finkernagel/upstream/pypipegraph2/src/pypipegraph2/runner.py\"><span style=\"color: #7f7f7f\">runner.py</span></a><span style=\"color: #7f7f7f\">:389</span>\n",
       "</pre>\n"
      ],
      "text/plain": [
       "<rich.jupyter.JupyterRenderable at 0x7f991bde2eb0>"
      ]
     },
     "metadata": {},
     "output_type": "display_data"
    },
    {
     "data": {
      "text/html": [
       "<pre style=\"white-space:pre;overflow-x:auto;line-height:normal;font-family:Menlo,'DejaVu Sans Mono',consolas,'Courier New',monospace\"><span style=\"color: #7fbfbf\">                    </span><span style=\"color: #000080\">INFO    </span> Done in <span style=\"color: #000080; font-weight: bold\">0.</span>0022s <span style=\"font-weight: bold\">FI1s_5</span>                             <a href=\"file:///home/finkernagel/upstream/pypipegraph2/src/pypipegraph2/runner.py\"><span style=\"color: #7f7f7f\">runner.py</span></a><span style=\"color: #7f7f7f\">:389</span>\n",
       "</pre>\n"
      ],
      "text/plain": [
       "<rich.jupyter.JupyterRenderable at 0x7f991bde2b80>"
      ]
     },
     "metadata": {},
     "output_type": "display_data"
    },
    {
     "data": {
      "text/html": [
       "<pre style=\"white-space:pre;overflow-x:auto;line-height:normal;font-family:Menlo,'DejaVu Sans Mono',consolas,'Courier New',monospace\"><span style=\"color: #7fbfbf\">                    </span><span style=\"color: #000080\">INFO    </span> Done in <span style=\"color: #000080; font-weight: bold\">0.</span>00077s <span style=\"font-weight: bold\">FI1s_7</span>                            <a href=\"file:///home/finkernagel/upstream/pypipegraph2/src/pypipegraph2/runner.py\"><span style=\"color: #7f7f7f\">runner.py</span></a><span style=\"color: #7f7f7f\">:389</span>\n",
       "</pre>\n"
      ],
      "text/plain": [
       "<rich.jupyter.JupyterRenderable at 0x7f991bde2850>"
      ]
     },
     "metadata": {},
     "output_type": "display_data"
    },
    {
     "data": {
      "text/html": [
       "<pre style=\"white-space:pre;overflow-x:auto;line-height:normal;font-family:Menlo,'DejaVu Sans Mono',consolas,'Courier New',monospace\"><span style=\"color: #7fbfbf\">                    </span><span style=\"color: #000080\">INFO    </span> Done in <span style=\"color: #000080; font-weight: bold\">0.</span>0063s <span style=\"font-weight: bold\">FI1s_4</span>                             <a href=\"file:///home/finkernagel/upstream/pypipegraph2/src/pypipegraph2/runner.py\"><span style=\"color: #7f7f7f\">runner.py</span></a><span style=\"color: #7f7f7f\">:389</span>\n",
       "</pre>\n"
      ],
      "text/plain": [
       "<rich.jupyter.JupyterRenderable at 0x7f991bde27f0>"
      ]
     },
     "metadata": {},
     "output_type": "display_data"
    },
    {
     "data": {
      "text/html": [
       "<pre style=\"white-space:pre;overflow-x:auto;line-height:normal;font-family:Menlo,'DejaVu Sans Mono',consolas,'Courier New',monospace\"><span style=\"color: #7fbfbf\">                    </span><span style=\"color: #000080\">INFO    </span> Done in <span style=\"color: #000080; font-weight: bold\">0.</span>0043s <span style=\"font-weight: bold\">FI1s_6</span>                             <a href=\"file:///home/finkernagel/upstream/pypipegraph2/src/pypipegraph2/runner.py\"><span style=\"color: #7f7f7f\">runner.py</span></a><span style=\"color: #7f7f7f\">:389</span>\n",
       "</pre>\n"
      ],
      "text/plain": [
       "<rich.jupyter.JupyterRenderable at 0x7f991be06df0>"
      ]
     },
     "metadata": {},
     "output_type": "display_data"
    },
    {
     "data": {
      "text/html": [
       "<pre style=\"white-space:pre;overflow-x:auto;line-height:normal;font-family:Menlo,'DejaVu Sans Mono',consolas,'Courier New',monospace\"><span style=\"color: #7fbfbf\">                    </span><span style=\"color: #000080\">INFO    </span> Done in <span style=\"color: #000080; font-weight: bold\">0.</span>0028s <span style=\"font-weight: bold\">FI1s_8</span>                             <a href=\"file:///home/finkernagel/upstream/pypipegraph2/src/pypipegraph2/runner.py\"><span style=\"color: #7f7f7f\">runner.py</span></a><span style=\"color: #7f7f7f\">:389</span>\n",
       "</pre>\n"
      ],
      "text/plain": [
       "<rich.jupyter.JupyterRenderable at 0x7f991bdce2e0>"
      ]
     },
     "metadata": {},
     "output_type": "display_data"
    },
    {
     "data": {
      "text/html": [
       "<pre style=\"white-space:pre;overflow-x:auto;line-height:normal;font-family:Menlo,'DejaVu Sans Mono',consolas,'Courier New',monospace\"><span style=\"color: #7fbfbf\">                    </span><span style=\"color: #000080\">INFO    </span> Done in <span style=\"color: #000080; font-weight: bold\">0.</span>0068s <span style=\"font-weight: bold\">FI1s_9</span>                             <a href=\"file:///home/finkernagel/upstream/pypipegraph2/src/pypipegraph2/runner.py\"><span style=\"color: #7f7f7f\">runner.py</span></a><span style=\"color: #7f7f7f\">:389</span>\n",
       "</pre>\n"
      ],
      "text/plain": [
       "<rich.jupyter.JupyterRenderable at 0x7f991bdce4f0>"
      ]
     },
     "metadata": {},
     "output_type": "display_data"
    },
    {
     "data": {
      "text/html": [
       "<pre style=\"white-space:pre;overflow-x:auto;line-height:normal;font-family:Menlo,'DejaVu Sans Mono',consolas,'Courier New',monospace\"><span style=\"color: #7fbfbf\">[02/02/21 16:53:53] </span><span style=\"color: #000080\">INFO    </span> CTRL-C received. Killing all running jobs.          <a href=\"file:///home/finkernagel/upstream/pypipegraph2/src/pypipegraph2/graph.py\"><span style=\"color: #7f7f7f\">graph.py</span></a><span style=\"color: #7f7f7f\">:362</span>\n",
       "</pre>\n"
      ],
      "text/plain": [
       "<rich.jupyter.JupyterRenderable at 0x7f991bde34f0>"
      ]
     },
     "metadata": {},
     "output_type": "display_data"
    },
    {
     "name": "stdout",
     "output_type": "stream",
     "text": [
      "calling abort\n"
     ]
    },
    {
     "data": {
      "text/html": [
       "<pre style=\"white-space:pre;overflow-x:auto;line-height:normal;font-family:Menlo,'DejaVu Sans Mono',consolas,'Courier New',monospace\"><span style=\"color: #7fbfbf\">                    </span><span style=\"color: #000080\">INFO    </span> Aborting run on external request                   <a href=\"file:///home/finkernagel/upstream/pypipegraph2/src/pypipegraph2/runner.py\"><span style=\"color: #7f7f7f\">runner.py</span></a><span style=\"color: #7f7f7f\">:286</span>\n",
       "</pre>\n"
      ],
      "text/plain": [
       "<rich.jupyter.JupyterRenderable at 0x7f991bde3520>"
      ]
     },
     "metadata": {},
     "output_type": "display_data"
    },
    {
     "data": {
      "text/html": [
       "<pre style=\"white-space:pre;overflow-x:auto;line-height:normal;font-family:Menlo,'DejaVu Sans Mono',consolas,'Courier New',monospace\"><span style=\"color: #7fbfbf\">[02/02/21 16:53:54] </span><span style=\"color: #000080\">INFO    </span> Keyboard interrupt in 1s_0 - sigbreak spawned        <a href=\"file:///home/finkernagel/upstream/pypipegraph2/src/pypipegraph2/jobs.py\"><span style=\"color: #7f7f7f\">jobs.py</span></a><span style=\"color: #7f7f7f\">:410</span>\n",
       "                             process                                                         \n",
       "</pre>\n"
      ],
      "text/plain": [
       "<rich.jupyter.JupyterRenderable at 0x7f991bde3280>"
      ]
     },
     "metadata": {},
     "output_type": "display_data"
    },
    {
     "data": {
      "text/html": [
       "<pre style=\"white-space:pre;overflow-x:auto;line-height:normal;font-family:Menlo,'DejaVu Sans Mono',consolas,'Courier New',monospace\"><span style=\"color: #7fbfbf\">                    </span><span style=\"color: #000080\">INFO    </span> Keyboard interrupt in 1s_10 - sigbreak spawned       <a href=\"file:///home/finkernagel/upstream/pypipegraph2/src/pypipegraph2/jobs.py\"><span style=\"color: #7f7f7f\">jobs.py</span></a><span style=\"color: #7f7f7f\">:410</span>\n",
       "                             process                                                         \n",
       "</pre>\n"
      ],
      "text/plain": [
       "<rich.jupyter.JupyterRenderable at 0x7f991bde3370>"
      ]
     },
     "metadata": {},
     "output_type": "display_data"
    },
    {
     "data": {
      "text/html": [
       "<pre style=\"white-space:pre;overflow-x:auto;line-height:normal;font-family:Menlo,'DejaVu Sans Mono',consolas,'Courier New',monospace\"><span style=\"color: #7fbfbf\">                    </span><span style=\"color: #000080\">INFO    </span> Keyboard interrupt in 1s_1 - sigbreak spawned        <a href=\"file:///home/finkernagel/upstream/pypipegraph2/src/pypipegraph2/jobs.py\"><span style=\"color: #7f7f7f\">jobs.py</span></a><span style=\"color: #7f7f7f\">:410</span>\n",
       "                             process                                                         \n",
       "</pre>\n"
      ],
      "text/plain": [
       "<rich.jupyter.JupyterRenderable at 0x7f991bde3190>"
      ]
     },
     "metadata": {},
     "output_type": "display_data"
    },
    {
     "data": {
      "text/html": [
       "<pre style=\"white-space:pre;overflow-x:auto;line-height:normal;font-family:Menlo,'DejaVu Sans Mono',consolas,'Courier New',monospace\"><span style=\"color: #7fbfbf\">[02/02/21 16:53:55] </span><span style=\"color: #000080\">INFO    </span> Keyboard interrupt in 1s_0 - checking spawned        <a href=\"file:///home/finkernagel/upstream/pypipegraph2/src/pypipegraph2/jobs.py\"><span style=\"color: #7f7f7f\">jobs.py</span></a><span style=\"color: #7f7f7f\">:413</span>\n",
       "                             process                                                         \n",
       "</pre>\n"
      ],
      "text/plain": [
       "<rich.jupyter.JupyterRenderable at 0x7f991bde3730>"
      ]
     },
     "metadata": {},
     "output_type": "display_data"
    },
    {
     "data": {
      "text/html": [
       "<pre style=\"white-space:pre;overflow-x:auto;line-height:normal;font-family:Menlo,'DejaVu Sans Mono',consolas,'Courier New',monospace\"><span style=\"color: #7fbfbf\">                    </span><span style=\"color: #000080\">INFO    </span> Keyboard Interrupt received <span style=\"color: #000080; font-weight: bold\">1.511512041091919</span>      <a href=\"file:///home/finkernagel/upstream/pypipegraph2/src/pypipegraph2/runner.py\"><span style=\"color: #7f7f7f\">runner.py</span></a><span style=\"color: #7f7f7f\">:827</span>\n",
       "</pre>\n"
      ],
      "text/plain": [
       "<rich.jupyter.JupyterRenderable at 0x7f991bde31c0>"
      ]
     },
     "metadata": {},
     "output_type": "display_data"
    },
    {
     "data": {
      "text/html": [
       "<pre style=\"white-space:pre;overflow-x:auto;line-height:normal;font-family:Menlo,'DejaVu Sans Mono',consolas,'Courier New',monospace\"><span style=\"color: #7fbfbf\">                    </span><span style=\"color: #000080\">INFO    </span> Keyboard interrupt in 1s_10 - checking spawned       <a href=\"file:///home/finkernagel/upstream/pypipegraph2/src/pypipegraph2/jobs.py\"><span style=\"color: #7f7f7f\">jobs.py</span></a><span style=\"color: #7f7f7f\">:413</span>\n",
       "                             process                                                         \n",
       "</pre>\n"
      ],
      "text/plain": [
       "<rich.jupyter.JupyterRenderable at 0x7f991bde3880>"
      ]
     },
     "metadata": {},
     "output_type": "display_data"
    },
    {
     "data": {
      "text/html": [
       "<pre style=\"white-space:pre;overflow-x:auto;line-height:normal;font-family:Menlo,'DejaVu Sans Mono',consolas,'Courier New',monospace\"><span style=\"color: #7fbfbf\">                    </span><span style=\"color: #000080\">INFO    </span> Keyboard interrupt in 1s_1 - checking spawned        <a href=\"file:///home/finkernagel/upstream/pypipegraph2/src/pypipegraph2/jobs.py\"><span style=\"color: #7f7f7f\">jobs.py</span></a><span style=\"color: #7f7f7f\">:413</span>\n",
       "                             process                                                         \n",
       "</pre>\n"
      ],
      "text/plain": [
       "<rich.jupyter.JupyterRenderable at 0x7f991be06ca0>"
      ]
     },
     "metadata": {},
     "output_type": "display_data"
    },
    {
     "data": {
      "text/html": [
       "<pre style=\"white-space:pre;overflow-x:auto;line-height:normal;font-family:Menlo,'DejaVu Sans Mono',consolas,'Courier New',monospace\"><span style=\"color: #7fbfbf\">                    </span><span style=\"color: #000080\">INFO    </span> Keyboard Interrupt received <span style=\"color: #000080; font-weight: bold\">1.5293242931365967</span>     <a href=\"file:///home/finkernagel/upstream/pypipegraph2/src/pypipegraph2/runner.py\"><span style=\"color: #7f7f7f\">runner.py</span></a><span style=\"color: #7f7f7f\">:827</span>\n",
       "</pre>\n"
      ],
      "text/plain": [
       "<rich.jupyter.JupyterRenderable at 0x7f991bde29a0>"
      ]
     },
     "metadata": {},
     "output_type": "display_data"
    },
    {
     "data": {
      "text/html": [
       "<pre style=\"white-space:pre;overflow-x:auto;line-height:normal;font-family:Menlo,'DejaVu Sans Mono',consolas,'Courier New',monospace\"><span style=\"color: #7fbfbf\">                    </span><span style=\"color: #000080\">INFO    </span> Keyboard Interrupt received <span style=\"color: #000080; font-weight: bold\">1.5358963012695312</span>     <a href=\"file:///home/finkernagel/upstream/pypipegraph2/src/pypipegraph2/runner.py\"><span style=\"color: #7f7f7f\">runner.py</span></a><span style=\"color: #7f7f7f\">:827</span>\n",
       "</pre>\n"
      ],
      "text/plain": [
       "<rich.jupyter.JupyterRenderable at 0x7f991bdce2e0>"
      ]
     },
     "metadata": {},
     "output_type": "display_data"
    },
    {
     "data": {
      "text/html": [
       "<pre style=\"white-space:pre;overflow-x:auto;line-height:normal;font-family:Menlo,'DejaVu Sans Mono',consolas,'Courier New',monospace\"><span style=\"color: #7fbfbf\">                    </span><span style=\"color: #000080\">INFO    </span> Run is done                                         <a href=\"file:///home/finkernagel/upstream/pypipegraph2/src/pypipegraph2/graph.py\"><span style=\"color: #7f7f7f\">graph.py</span></a><span style=\"color: #7f7f7f\">:157</span>\n",
       "</pre>\n"
      ],
      "text/plain": [
       "<rich.jupyter.JupyterRenderable at 0x7f991be063d0>"
      ]
     },
     "metadata": {},
     "output_type": "display_data"
    }
   ],
   "source": [
    "# demonstrate runtime logging\n",
    "import pypipegraph2 as ppg\n",
    "import time\n",
    "from pathlib import Path\n",
    "import os\n",
    "import shutil\n",
    "\n",
    "p = Path(\"run/long_running_notebook\")\n",
    "if p.exists():\n",
    "    shutil.rmtree(p)\n",
    "p.mkdir(exist_ok=True, parents=True)\n",
    "os.chdir(p)\n",
    "\n",
    "\n",
    "total_runtime = 10\n",
    "\n",
    "ppg.new(cores=3, run_mode =ppg.RunMode.NOTEBOOK)\n",
    "\n",
    "\n",
    "def gen_jobs_stack(name, runtime):\n",
    "    def inner(of, runtime=runtime):\n",
    "        for ii in range(runtime):\n",
    "            time.sleep(1)\n",
    "        if '_10' in of.name:\n",
    "            raise ValueError('expected')\n",
    "        of.write_text(str(of) + '_' + str(runtime))\n",
    "\n",
    "    out_jobs = []\n",
    "    for ii in range(0, total_runtime+1, runtime):\n",
    "        j = ppg.FileGeneratingJob(f\"{name}_{ii}\", inner, resources=ppg.Resources.SingleCore)\n",
    "        if out_jobs:\n",
    "            out_jobs[-1].depends_on(ii)\n",
    "    return out_jobs\n",
    "\n",
    "gen_jobs_stack('1s', 1)\n",
    "#gen_jobs_stack('30s', 10)\n",
    "#gen_jobs_stack('60s', 60)\n",
    "\n",
    "try:\n",
    "    ppg.run()\n",
    "except ppg.RunFailed:\n",
    "    pass"
   ]
  },
  {
   "cell_type": "code",
   "execution_count": null,
   "metadata": {},
   "outputs": [],
   "source": []
  }
 ],
 "metadata": {
  "kernelspec": {
   "display_name": "Python 3",
   "language": "python",
   "name": "python3"
  },
  "language_info": {
   "codemirror_mode": {
    "name": "ipython",
    "version": 3
   },
   "file_extension": ".py",
   "mimetype": "text/x-python",
   "name": "python",
   "nbconvert_exporter": "python",
   "pygments_lexer": "ipython3",
   "version": "3.8.6"
  }
 },
 "nbformat": 4,
 "nbformat_minor": 4
}

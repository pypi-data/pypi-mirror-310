{
 "cells": [
  {
   "cell_type": "code",
   "execution_count": 1,
   "metadata": {},
   "outputs": [],
   "source": [
    "%load_ext autoreload\n",
    "%autoreload 3\n",
    "\n",
    "from src.feature_centric_dashboards import OfflineFeatureCentricDashboard\n",
    "from transformers import AutoTokenizer\n",
    "from collections import defaultdict"
   ]
  },
  {
   "cell_type": "code",
   "execution_count": 3,
   "metadata": {},
   "outputs": [
    {
     "data": {
      "application/vnd.jupyter.widget-view+json": {
       "model_id": "b089c6caf175442d8ece61fb19e7827b",
       "version_major": 2,
       "version_minor": 0
      },
      "text/plain": [
       "VBox(children=(Text(value='', continuous_update=False, description='Feature:', placeholder='Type a feature num…"
      ]
     },
     "metadata": {},
     "output_type": "display_data"
    }
   ],
   "source": [
    "tokenizer = AutoTokenizer.from_pretrained(\"gpt2\")\n",
    "test_texts = [\n",
    "    \"Hello, how are you?\",\n",
    "    \"The quick brown fox jumps over the lazy dog.\" * 20,\n",
    "    \"I love programming in Python.\"* 100,\n",
    "    \"zaedazzazaaz\" * 100,\n",
    "]\n",
    "max_activation_examples: dict[int, list[tuple[float, list[str], list[float]]]] = defaultdict(list)\n",
    "for i in range(0, 100, 10):\n",
    "    for j, text in enumerate(test_texts):\n",
    "        toks = tokenizer.tokenize(text)\n",
    "        acts = [0] * len(toks)\n",
    "        acts[i % len(acts)] = j \n",
    "        max_activation_examples[i].append((j, toks, acts))\n",
    "\n",
    "dashboards = OfflineFeatureCentricDashboard(max_activation_examples, tokenizer)\n",
    "dashboards.display()"
   ]
  },
  {
   "cell_type": "code",
   "execution_count": 4,
   "metadata": {},
   "outputs": [],
   "source": [
    "dashboards.export_to_html(\"test.html\", 10)"
   ]
  },
  {
   "cell_type": "code",
   "execution_count": 5,
   "metadata": {},
   "outputs": [
    {
     "data": {
      "application/vnd.jupyter.widget-view+json": {
       "model_id": "615469eb73344047a12080fd7c54b9dd",
       "version_major": 2,
       "version_minor": 0
      },
      "text/plain": [
       "VBox(children=(Textarea(value='', description='Text:', layout=Layout(height='auto', width='100%'), placeholder…"
      ]
     },
     "metadata": {},
     "output_type": "display_data"
    }
   ],
   "source": [
    "from src.feature_centric_dashboards import AbstractOnlineFeatureCentricDashboard\n",
    "import torch as th\n",
    "\n",
    "\n",
    "class DummyOnlineFeatureCentricDashboard(AbstractOnlineFeatureCentricDashboard):\n",
    "    \"\"\"Dummy implementation of AbstractOnlineFeatureCentricDashboard\"\"\"\n",
    "\n",
    "    def generate_model_response(self, text: str) -> str:\n",
    "        return text + \"Dummy response\"\n",
    "\n",
    "    def get_feature_activation(\n",
    "        self, text: str, feature_indicies: tuple[int, ...]\n",
    "    ) -> th.Tensor:\n",
    "        tok_len = len(self.tokenizer.encode(text))\n",
    "        activations = th.randn((tok_len, len(feature_indicies))).exp()\n",
    "        activations[activations < 3] = 0\n",
    "        return activations\n",
    "\n",
    "\n",
    "online_dashboards = DummyOnlineFeatureCentricDashboard(tokenizer)\n",
    "online_dashboards.display()"
   ]
  },
  {
   "cell_type": "markdown",
   "metadata": {},
   "source": [
    "If you hate classes, you can use the functions directly"
   ]
  },
  {
   "cell_type": "code",
   "execution_count": 4,
   "metadata": {},
   "outputs": [
    {
     "data": {
      "application/vnd.jupyter.widget-view+json": {
       "model_id": "c0b6fff88a214492a083effd23379832",
       "version_major": 2,
       "version_minor": 0
      },
      "text/plain": [
       "VBox(children=(Textarea(value='', description='Text:', layout=Layout(height='auto', width='100%'), placeholder…"
      ]
     },
     "metadata": {},
     "output_type": "display_data"
    }
   ],
   "source": [
    "from src.feature_centric_dashboards import OnlineFeatureCentricDashboard\n",
    "\n",
    "\n",
    "def get_feature_activation(text, feature_indicies):\n",
    "    return th.randn((len(tokenizer.encode(text)), len(feature_indicies))).exp()\n",
    "\n",
    "\n",
    "def generate_model_response(text):\n",
    "    return text + \"Dummy response\"\n",
    "\n",
    "\n",
    "online_dashboards_2 = OnlineFeatureCentricDashboard(\n",
    "    get_feature_activation, generate_model_response, tokenizer\n",
    ")\n",
    "online_dashboards_2.display()"
   ]
  },
  {
   "cell_type": "code",
   "execution_count": null,
   "metadata": {},
   "outputs": [],
   "source": []
  }
 ],
 "metadata": {
  "kernelspec": {
   "display_name": "Python 3 (ipykernel)",
   "language": "python",
   "name": "python3"
  },
  "language_info": {
   "codemirror_mode": {
    "name": "ipython",
    "version": 3
   },
   "file_extension": ".py",
   "mimetype": "text/x-python",
   "name": "python",
   "nbconvert_exporter": "python",
   "pygments_lexer": "ipython3",
   "version": "3.12.4"
  }
 },
 "nbformat": 4,
 "nbformat_minor": 4
}

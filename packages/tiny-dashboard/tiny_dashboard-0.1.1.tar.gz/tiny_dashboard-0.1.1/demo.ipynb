{
 "cells": [
  {
   "cell_type": "code",
   "execution_count": 1,
   "metadata": {},
   "outputs": [],
   "source": [
    "%load_ext autoreload\n",
    "%autoreload 3\n",
    "\n",
    "from tiny_dashboard.feature_centric_dashboards import OfflineFeatureCentricDashboard\n",
    "from transformers import AutoTokenizer\n",
    "from collections import defaultdict"
   ]
  },
  {
   "cell_type": "code",
   "execution_count": 2,
   "metadata": {},
   "outputs": [
    {
     "data": {
      "application/vnd.jupyter.widget-view+json": {
       "model_id": "4e1e6099b6f143958fbec00c7905fbc6",
       "version_major": 2,
       "version_minor": 0
      },
      "text/plain": [
       "VBox(children=(Text(value='', continuous_update=False, description='Feature:', placeholder='Type a feature num…"
      ]
     },
     "metadata": {},
     "output_type": "display_data"
    }
   ],
   "source": [
    "tokenizer = AutoTokenizer.from_pretrained(\"gpt2\")\n",
    "test_texts = [\n",
    "    \"Hello, how are you?\",\n",
    "    \"The quick brown fox jumps over the lazy dog.\\n\" * 20,\n",
    "    \"I love programming in Python.\\n\\n\" * 100,\n",
    "    \"zaedazzazaaz\" * 100,\n",
    "    \"a\\na\"\n",
    "]\n",
    "max_activation_examples: dict[int, list[tuple[float, list[str], list[float]]]] = defaultdict(list)\n",
    "for i in range(0, 100, 10):\n",
    "    for j, text in enumerate(test_texts):\n",
    "        toks = tokenizer.tokenize(text)\n",
    "        acts = [0] * len(toks)\n",
    "        acts[i % len(acts)] = j \n",
    "        max_activation_examples[i].append((j, toks, acts))\n",
    "\n",
    "dashboards = OfflineFeatureCentricDashboard(max_activation_examples, tokenizer)\n",
    "dashboards.display()"
   ]
  },
  {
   "cell_type": "code",
   "execution_count": 3,
   "metadata": {},
   "outputs": [],
   "source": [
    "dashboards.export_to_html(\"test.html\", 10)"
   ]
  },
  {
   "cell_type": "code",
   "execution_count": 4,
   "metadata": {},
   "outputs": [
    {
     "name": "stdout",
     "output_type": "stream",
     "text": [
      "Model is not set, disabling generate response checkbox\n"
     ]
    },
    {
     "data": {
      "application/vnd.jupyter.widget-view+json": {
       "model_id": "cfe96511923543efb25ff10417524c99",
       "version_major": 2,
       "version_minor": 0
      },
      "text/plain": [
       "VBox(children=(Textarea(value='', description='Text:', layout=Layout(height='auto', width='100%'), placeholder…"
      ]
     },
     "metadata": {},
     "output_type": "display_data"
    }
   ],
   "source": [
    "from tiny_dashboard.feature_centric_dashboards import AbstractOnlineFeatureCentricDashboard\n",
    "import torch as th\n",
    "\n",
    "\n",
    "class DummyOnlineFeatureCentricDashboard(AbstractOnlineFeatureCentricDashboard):\n",
    "    \"\"\"Dummy implementation of AbstractOnlineFeatureCentricDashboard\"\"\"\n",
    "\n",
    "    def generate_model_response(self, text: str) -> str:\n",
    "        return text + \"Dummy response\"\n",
    "\n",
    "    def get_feature_activation(\n",
    "        self, text: str, feature_indicies: tuple[int, ...]\n",
    "    ) -> th.Tensor:\n",
    "        tok_len = len(self.tokenizer.encode(text))\n",
    "        activations = th.randn((tok_len, len(feature_indicies))).exp()\n",
    "        activations[activations < 3] = 0\n",
    "        return activations\n",
    "\n",
    "\n",
    "online_dashboards = DummyOnlineFeatureCentricDashboard(AutoTokenizer.from_pretrained(\"google/gemma-2-2b-it\"))\n",
    "online_dashboards.display()"
   ]
  },
  {
   "cell_type": "markdown",
   "metadata": {},
   "source": [
    "If you hate classes, you can use the functions directly"
   ]
  },
  {
   "cell_type": "code",
   "execution_count": 6,
   "metadata": {},
   "outputs": [
    {
     "name": "stderr",
     "output_type": "stream",
     "text": [
      "c:\\Users\\Travail\\Documents\\repos\\tiny-activation-dashboard\\tiny_dashboard\\feature_centric_dashboards.py:550: UserWarning: Model is not set, using DummyModel as a placeholder to allow for response generation using your custom function\n",
      "  warnings.warn(\n"
     ]
    },
    {
     "data": {
      "application/vnd.jupyter.widget-view+json": {
       "model_id": "8711114953b7411bb5f8c0aee2248adc",
       "version_major": 2,
       "version_minor": 0
      },
      "text/plain": [
       "VBox(children=(Textarea(value='', description='Text:', layout=Layout(height='auto', width='100%'), placeholder…"
      ]
     },
     "metadata": {},
     "output_type": "display_data"
    }
   ],
   "source": [
    "from tiny_dashboard.feature_centric_dashboards import OnlineFeatureCentricDashboard\n",
    "\n",
    "\n",
    "def get_feature_activation(text, feature_indicies):\n",
    "    return th.randn((len(tokenizer.encode(text)), len(feature_indicies))).exp()\n",
    "\n",
    "\n",
    "def generate_model_response(text):\n",
    "    return text + \"Dummy response\"\n",
    "\n",
    "\n",
    "online_dashboards_2 = OnlineFeatureCentricDashboard(\n",
    "    get_feature_activation, generate_model_response, tokenizer\n",
    ")\n",
    "online_dashboards_2.display()"
   ]
  },
  {
   "cell_type": "code",
   "execution_count": null,
   "metadata": {},
   "outputs": [],
   "source": []
  }
 ],
 "metadata": {
  "kernelspec": {
   "display_name": "Python 3 (ipykernel)",
   "language": "python",
   "name": "python3"
  },
  "language_info": {
   "codemirror_mode": {
    "name": "ipython",
    "version": 3
   },
   "file_extension": ".py",
   "mimetype": "text/x-python",
   "name": "python",
   "nbconvert_exporter": "python",
   "pygments_lexer": "ipython3",
   "version": "3.12.4"
  }
 },
 "nbformat": 4,
 "nbformat_minor": 4
}

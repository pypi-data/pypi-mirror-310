{
  "cells": [
    {
      "cell_type": "markdown",
      "metadata": {
        "id": "wBYSuraxoKJy"
      },
      "source": [
        "# Model training 🏋\n",
        "[![Open In Colab](https://colab.research.google.com/assets/colab-badge.svg)](https://colab.research.google.com/github/nasaharvest/openmapflow/blob/main/openmapflow/notebooks/train.ipynb)\n",
        "\n",
        "Example notebook for training models."
      ]
    },
    {
      "cell_type": "markdown",
      "metadata": {
        "id": "UdI-wLrbxHZn"
      },
      "source": [
        "# 1. Load project\n",
        "\n",
        "If you don't already have one, obtain a Github Personal Access Token using the steps [here](https://docs.github.com/en/authentication/keeping-your-account-and-data-secure/creating-a-personal-access-token). Save this token somewhere private."
      ]
    },
    {
      "cell_type": "code",
      "execution_count": null,
      "metadata": {},
      "outputs": [],
      "source": [
        "!pip install \"ipywidgets>=7,<8\" -q # https://github.com/googlecolab/colabtools/issues/3020"
      ]
    },
    {
      "cell_type": "code",
      "execution_count": null,
      "metadata": {
        "id": "79qMigfRgf6Y"
      },
      "outputs": [],
      "source": [
        "from ipywidgets import Password, Text, VBox\n",
        "inputs = [\n",
        "      Password(description=\"Github Token:\"),\n",
        "      Text(description='Github Email:'),\n",
        "      Text(description='Github User:'),\n",
        "      Text(description='Github URL:'),\n",
        "]\n",
        "VBox(inputs)"
      ]
    },
    {
      "cell_type": "code",
      "execution_count": null,
      "metadata": {
        "id": "CROaekGEgqsK"
      },
      "outputs": [],
      "source": [
        "token = inputs[0].value\n",
        "email = inputs[1].value\n",
        "username = inputs[2].value\n",
        "github_url = inputs[3].value\n",
        "\n",
        "!git config --global user.email $username\n",
        "!git config --global user.name $email\n",
        "!git clone {github_url.replace(\"https://\", f\"https://{username}:{token}@\")}"
      ]
    },
    {
      "cell_type": "code",
      "execution_count": null,
      "metadata": {
        "id": "XbW89ktDl6ku"
      },
      "outputs": [],
      "source": [
        "from pathlib import Path\n",
        "import os\n",
        "openmapflow_yaml_path = input(\"Path to openmapflow.yaml: \")\n",
        "%cd {Path(openmapflow_yaml_path).parent}\n",
        "\n",
        "!pip install -r requirements.txt -q\n",
        "!pip install pyyaml==5.4.1 -q"
      ]
    },
    {
      "cell_type": "markdown",
      "metadata": {
        "id": "xZvnFP0Ox6W3"
      },
      "source": [
        "# 2. Pull in latest data"
      ]
    },
    {
      "cell_type": "code",
      "execution_count": null,
      "metadata": {
        "id": "xwb2HeCPRH8K"
      },
      "outputs": [],
      "source": [
        "!dvc pull -q"
      ]
    },
    {
      "cell_type": "code",
      "execution_count": null,
      "metadata": {
        "id": "Ex8RkDRiQaxo"
      },
      "outputs": [],
      "source": [
        "!openmapflow datasets"
      ]
    },
    {
      "cell_type": "markdown",
      "metadata": {
        "id": "089P0fn5x9RE"
      },
      "source": [
        "# 3. Train model"
      ]
    },
    {
      "cell_type": "code",
      "execution_count": null,
      "metadata": {
        "id": "rdTU3Vy-n_XP"
      },
      "outputs": [],
      "source": [
        "os.environ[\"MODEL_NAME\"] = input(\"MODEL_NAME=\")"
      ]
    },
    {
      "cell_type": "code",
      "execution_count": null,
      "metadata": {
        "id": "xLCRdvEUdCNm"
      },
      "outputs": [],
      "source": [
        "!python train.py --model_name $MODEL_NAME --epoch 2"
      ]
    },
    {
      "cell_type": "markdown",
      "metadata": {
        "id": "XFUAYQ48yA1M"
      },
      "source": [
        "# 4. Push model to dvc and git"
      ]
    },
    {
      "cell_type": "code",
      "execution_count": null,
      "metadata": {
        "id": "s0jEkz2-dCNm"
      },
      "outputs": [],
      "source": [
        "# Record test metrics\n",
        "!python evaluate.py --model_name $MODEL_NAME"
      ]
    },
    {
      "cell_type": "code",
      "execution_count": null,
      "metadata": {
        "id": "Fbv1fwFNzrnS"
      },
      "outputs": [],
      "source": [
        "!dvc commit -q\n",
        "!dvc push -q"
      ]
    },
    {
      "cell_type": "code",
      "execution_count": null,
      "metadata": {
        "id": "9EywOpWv8JDV"
      },
      "outputs": [],
      "source": [
        "# Push changes to github\n",
        "!git checkout -b\"$MODEL_NAME\"\n",
        "!git add .\n",
        "!git commit -m \"$MODEL_NAME\"\n",
        "!git push --set-upstream origin \"$MODEL_NAME\""
      ]
    },
    {
      "cell_type": "markdown",
      "metadata": {
        "id": "YENWoPX_1AJC"
      },
      "source": [
        "Create a Pull Request so the model can be merged into the main branch."
      ]
    }
  ],
  "metadata": {
    "colab": {
      "name": "train.ipynb",
      "provenance": []
    },
    "kernelspec": {
      "display_name": "Python 3.9.12 ('venv': venv)",
      "language": "python",
      "name": "python3"
    },
    "language_info": {
      "codemirror_mode": {
        "name": "ipython",
        "version": 3
      },
      "file_extension": ".py",
      "mimetype": "text/x-python",
      "name": "python",
      "nbconvert_exporter": "python",
      "pygments_lexer": "ipython3",
      "version": "3.9.12"
    },
    "vscode": {
      "interpreter": {
        "hash": "bd96feeca8c75643d28e6472f2b0778c141660d21a3db17f7d03cb9dc5057e55"
      }
    }
  },
  "nbformat": 4,
  "nbformat_minor": 0
}

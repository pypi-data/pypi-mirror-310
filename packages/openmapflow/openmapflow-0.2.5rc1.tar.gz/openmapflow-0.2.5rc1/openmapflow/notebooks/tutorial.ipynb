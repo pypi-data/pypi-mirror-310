{
  "cells": [
    {
      "cell_type": "markdown",
      "metadata": {
        "id": "ZJ2Sgm2z9Opu"
      },
      "source": [
        "# OpenMapFlow Tutorial\n",
        "\n",
        "<img src=\"https://raw.githubusercontent.com/nasaharvest/openmapflow/main/assets/quick-map3.gif\" width=\"80%\"/>\n",
        "\n",
        "### Sections\n",
        "1. Installing OpenMapFlow\n",
        "2. Exploring labeled earth observation data\n",
        "3. Training a model\n",
        "4. Doing inference over small region\n",
        "5. Deploying of best model\n",
        "\n",
        "### Prerequisites:\n",
        "- Github account\n",
        "- Github access token (obtained [here](https://docs.github.com/en/authentication/keeping-your-account-and-data-secure/creating-a-personal-access-token))\n",
        "- Forked OpenMapFlow repository\n",
        "- Basic Python knowledge  \n",
        "\n",
        "### Editable Google Doc for Q&A:\n",
        "https://docs.google.com/document/d/1Kp6MphER1G5tdLYeAzl4n19S10TweIxiYT64rXsjKm4/edit?usp=sharing"
      ]
    },
    {
      "cell_type": "markdown",
      "metadata": {
        "id": "Bnb3NmfxSQyo"
      },
      "source": [
        "## 1. Clone Github repo and install OpenMapFlow\n",
        "\n",
        "<img src=\"https://storage.googleapis.com/harvest-public-assets/openmapflow/title.png\" width=\"70%\"/>"
      ]
    },
    {
      "cell_type": "code",
      "execution_count": null,
      "metadata": {
        "id": "Ug7hI6g7Wu3f"
      },
      "outputs": [],
      "source": [
        "!pip install \"ipywidgets>=7,<8\" -q # https://github.com/googlecolab/colabtools/issues/3020"
      ]
    },
    {
      "cell_type": "code",
      "execution_count": null,
      "metadata": {
        "id": "zxD8Zbzr8lyu"
      },
      "outputs": [],
      "source": [
        "from ipywidgets import HTML, Password, Text, Textarea, VBox\n",
        "inputs = [\n",
        "      Password(description=\"Github Token:\"),\n",
        "      Text(description='Github Email:'),\n",
        "      Text(description='Github User:'),\n",
        "]\n",
        "VBox(inputs)"
      ]
    },
    {
      "cell_type": "markdown",
      "metadata": {
        "id": "FPx50syXx0aP"
      },
      "source": [
        "The OpenMapFlow repository will be cloned to allow access to already available data.\n",
        "\n",
        "Ensure you have created a fork of the repository."
      ]
    },
    {
      "cell_type": "code",
      "execution_count": null,
      "metadata": {
        "id": "16CaMAzNxokf"
      },
      "outputs": [],
      "source": [
        "token = inputs[0].value\n",
        "email = inputs[1].value\n",
        "username = inputs[2].value\n",
        "\n",
        "github_url_input = Textarea(value=f'https://github.com/{username}/openmapflow.git')\n",
        "VBox([HTML(value=\"<b>Github Clone URL</b>\"), github_url_input])"
      ]
    },
    {
      "cell_type": "code",
      "execution_count": null,
      "metadata": {
        "id": "CdFlxgOX9Mit",
        "collapsed": true
      },
      "outputs": [],
      "source": [
        "from pathlib import Path\n",
        "\n",
        "github_url = github_url_input.value\n",
        "project_name = \"crop-mask-example\" # maize-example\n",
        "country_name = \"Togo\" # Kenya\n",
        "\n",
        "for input_value in [token, email, username, github_url]:\n",
        "  if input_value.strip() == \"\":\n",
        "    raise ValueError(\"Found input with blank value.\")\n",
        "\n",
        "path_to_project = f\"{Path(github_url).stem}/{project_name}\"\n",
        "\n",
        "!git config --global user.email $username\n",
        "!git config --global user.name $email\n",
        "!git clone {github_url.replace(\"https://\", f\"https://{username}:{token}@\")}\n",
        "\n",
        "%cd {path_to_project}"
      ]
    },
    {
      "cell_type": "code",
      "source": [
        "!pip install openmapflow[all] -q\n",
        "!pip install dvc[gs] cmocean -q"
      ],
      "metadata": {
        "id": "AK7eXnZEXb4_"
      },
      "execution_count": null,
      "outputs": []
    },
    {
      "cell_type": "code",
      "source": [
        "# Download GDAL\n",
        "%%shell\n",
        "GDAL_VERSION=\"3.6.4+dfsg-1~jammy0\"\n",
        "add-apt-repository -y ppa:ubuntugis/ubuntugis-unstable\n",
        "apt-get -qq update\n",
        "apt-get -qq install python3-gdal=$GDAL_VERSION gdal-bin=$GDAL_VERSION libgdal-dev=$GDAL_VERSION"
      ],
      "metadata": {
        "id": "NGv4CE0zXLxj"
      },
      "execution_count": null,
      "outputs": []
    },
    {
      "cell_type": "code",
      "execution_count": null,
      "metadata": {
        "id": "ckKKdRZW-06Q"
      },
      "outputs": [],
      "source": [
        "# CLI\n",
        "!openmapflow"
      ]
    },
    {
      "cell_type": "markdown",
      "metadata": {
        "id": "vT5oQHkeBDIg"
      },
      "source": [
        "## 2. Exploring labeled earth observation data 🛰️\n",
        "\n",
        "<img src=\"https://storage.googleapis.com/harvest-public-assets/openmapflow/step1.png\" width=\"70%\"/>"
      ]
    },
    {
      "cell_type": "code",
      "execution_count": null,
      "metadata": {
        "id": "FhzRYzMNOiNV"
      },
      "outputs": [],
      "source": [
        "# A Google Cloud Account is required to access the data\n",
        "!gcloud auth application-default login"
      ]
    },
    {
      "cell_type": "code",
      "execution_count": null,
      "metadata": {
        "id": "rR9cC92EIKC6"
      },
      "outputs": [],
      "source": [
        "# Pull in data already available\n",
        "!dvc pull"
      ]
    },
    {
      "cell_type": "code",
      "execution_count": null,
      "metadata": {
        "id": "1tc1Hblc-7vf"
      },
      "outputs": [],
      "source": [
        "# See report of data already available\n",
        "!openmapflow datasets"
      ]
    },
    {
      "cell_type": "markdown",
      "metadata": {
        "id": "IzHcMQV1S0pS"
      },
      "source": [
        "### Exploring labels"
      ]
    },
    {
      "cell_type": "code",
      "execution_count": null,
      "metadata": {
        "id": "swxLRI8B_4iY"
      },
      "outputs": [],
      "source": [
        "import pandas as pd\n",
        "import geopandas as gpd\n",
        "from shapely.geometry import Point\n",
        "from datasets import datasets, label_col\n",
        "from openmapflow.constants import LAT, LON, DATASET, SUBSET"
      ]
    },
    {
      "cell_type": "code",
      "execution_count": null,
      "metadata": {
        "collapsed": true,
        "id": "bXff9QLi_8DZ"
      },
      "outputs": [],
      "source": [
        "# Load data as csv\n",
        "df = pd.concat([d.load_df(to_np=True) for d in datasets])\n",
        "df.head()"
      ]
    },
    {
      "cell_type": "code",
      "execution_count": null,
      "metadata": {
        "id": "dipJRY6MZUqf"
      },
      "outputs": [],
      "source": [
        "# Plot map where labels should go\n",
        "world = gpd.read_file(gpd.datasets.get_path('naturalearth_lowres'))\n",
        "world.plot(facecolor=\"lightgray\", figsize=(15, 15));"
      ]
    },
    {
      "cell_type": "code",
      "execution_count": null,
      "metadata": {
        "id": "umWD778JQ4Jf"
      },
      "outputs": [],
      "source": [
        "world"
      ]
    },
    {
      "cell_type": "code",
      "execution_count": null,
      "metadata": {
        "id": "Zoi8t0A0YfsM"
      },
      "outputs": [],
      "source": [
        "# Convert pandas dataframe to geopandas dataframe\n",
        "gdf = gpd.GeoDataFrame(df)\n",
        "gdf[\"geometry\"] = [Point(xy) for xy in zip(gdf[LON], gdf[LAT])]"
      ]
    },
    {
      "cell_type": "code",
      "execution_count": null,
      "metadata": {
        "id": "KLd5xf29ZHdm"
      },
      "outputs": [],
      "source": [
        "ax = world.plot(figsize=(20,20), facecolor=\"lightgray\")\n",
        "ax.set_title(\"Label Locations\")\n",
        "ax.axis('off')\n",
        "gdf.plot(\n",
        "    ax=ax,\n",
        "    marker='o',\n",
        "    categorical=True,\n",
        "    markersize=1,\n",
        "    column=DATASET,\n",
        "    legend=True,\n",
        "    legend_kwds={'loc': 'lower left'});"
      ]
    },
    {
      "cell_type": "code",
      "execution_count": null,
      "metadata": {
        "id": "lSzLeUIxPp1i"
      },
      "outputs": [],
      "source": [
        "country = world[world[\"name\"] == country_name]\n",
        "ax = country.plot(figsize=(10,10), facecolor=\"lightgray\")\n",
        "ax.set_title(\"Label Locations by subset\")\n",
        "ax.axis('off')\n",
        "\n",
        "points = gdf[gdf[\"country\"] == country_name]\n",
        "points.plot(\n",
        "    ax=ax,\n",
        "    marker='o',\n",
        "    categorical=True,\n",
        "    markersize=1,\n",
        "    column=\"subset\",\n",
        "    legend=True,\n",
        "    legend_kwds={'loc': 'lower left'});"
      ]
    },
    {
      "cell_type": "markdown",
      "metadata": {
        "id": "ImE0eM9vS7aD"
      },
      "source": [
        "### Exploring earth observation data"
      ]
    },
    {
      "cell_type": "code",
      "execution_count": null,
      "metadata": {
        "id": "TEf-aqU3dEOu"
      },
      "outputs": [],
      "source": [
        "import matplotlib.pyplot as plt\n",
        "from openmapflow.constants import MONTHS, EO_DATA\n",
        "from openmapflow.bands import BANDS"
      ]
    },
    {
      "cell_type": "code",
      "execution_count": null,
      "metadata": {
        "id": "nL_G7Mu6dNv_"
      },
      "outputs": [],
      "source": [
        "# Get a label with postive class\n",
        "positive_example = df[(df[label_col] == 1.0) & (df[SUBSET] == \"validation\")].iloc[0]\n",
        "positive_example"
      ]
    },
    {
      "cell_type": "code",
      "execution_count": null,
      "metadata": {
        "id": "xevZ-AWgdbM-"
      },
      "outputs": [],
      "source": [
        "# Load earth observation data for label\n",
        "positive_example[EO_DATA].shape"
      ]
    },
    {
      "cell_type": "markdown",
      "metadata": {
        "id": "LlIVJNUEfV1a"
      },
      "source": [
        "**Available earth observation bands**\n",
        "\n",
        "<img src=\"https://storage.googleapis.com/harvest-public-assets/openmapflow/cropharvest_bands.png\" width=\"80%\"/>"
      ]
    },
    {
      "cell_type": "code",
      "execution_count": null,
      "metadata": {
        "id": "xhjsbD0NbhS9"
      },
      "outputs": [],
      "source": [
        "fig, ax = plt.subplots(1,1, figsize=(15,5))\n",
        "ax.bar(x=BANDS, height=positive_example[EO_DATA][10])\n",
        "ax.set_title(\"Earth observation bands\")\n",
        "plt.xticks(rotation=45);"
      ]
    },
    {
      "cell_type": "markdown",
      "metadata": {
        "id": "s6IcaAx8nCZJ"
      },
      "source": [
        "### ❗**Challenge**❗\n",
        "\n",
        "Plot the NDVI (normalized difference vegetation index) for positive and negative example data over a one year period."
      ]
    },
    {
      "cell_type": "code",
      "execution_count": null,
      "metadata": {
        "id": "EygEo2fehJwF"
      },
      "outputs": [],
      "source": [
        "fig, ax = plt.subplots(1,1, figsize=(10,5))\n",
        "ax.set_title(\"NDVI\")\n",
        "plt.xticks(rotation=45)\n",
        "\n",
        "positive_class_ndvi = positive_example[EO_DATA][:12, -1]\n",
        "ax.plot(MONTHS, positive_class_ndvi, label=\"Positive class\")\n",
        "\n",
        "##########################################\n",
        "negative_example = df[(df[label_col] == 0.0) & (df[SUBSET] == \"validation\")].iloc[0]\n",
        "##########################################\n",
        "negative_example_ndvi = negative_example[EO_DATA][:12, -1]\n",
        "ax.plot(MONTHS, negative_example_ndvi, label=\"Negative class\")\n",
        "\n",
        "ax.legend()\n",
        "\n",
        "gmap_url = \"http://maps.google.com/maps?z=12&t=k&q=loc:\"\n",
        "print(f\"Positive class: {gmap_url}{positive_example[LAT]}+{positive_example[LON]}\")\n",
        "print(f\"Negative class: {gmap_url}{negative_example[LAT]}+{negative_example[LON]}\")"
      ]
    },
    {
      "cell_type": "markdown",
      "metadata": {
        "id": "dTxkzHh6BreD"
      },
      "source": [
        "## 3. Train a model 🏋️‍♂️\n",
        "\n",
        "<img src=\"https://storage.googleapis.com/harvest-public-assets/openmapflow/step2.png\" width=\"80%\"/>\n",
        "\n",
        "<img src=\"https://storage.googleapis.com/harvest-public-assets/openmapflow/train_model.png\" width=\"80%\" />"
      ]
    },
    {
      "cell_type": "code",
      "execution_count": null,
      "metadata": {
        "id": "pFIPcPwSITk-"
      },
      "outputs": [],
      "source": [
        "import os\n",
        "os.environ[\"MODEL_NAME\"] = input(\"MODEL_NAME=\")"
      ]
    },
    {
      "cell_type": "markdown",
      "metadata": {
        "id": "-dg5JA8OlB0u"
      },
      "source": [
        "`train.py` can be opened in Colab directly using the sidebar."
      ]
    },
    {
      "cell_type": "code",
      "execution_count": null,
      "metadata": {
        "id": "xFHpDEu2Bs3f"
      },
      "outputs": [],
      "source": [
        "!python train.py --model_name $MODEL_NAME --epoch 3"
      ]
    },
    {
      "cell_type": "markdown",
      "metadata": {
        "id": "M_BtHmwRql11"
      },
      "source": [
        "### ❗**Optional Challenge**❗\n",
        "\n",
        "Try to improve the model by modifying `{project_name}/train.py` in Colab directly"
      ]
    },
    {
      "cell_type": "markdown",
      "metadata": {
        "id": "HaMZaR_5IavT"
      },
      "source": [
        "## 4. Inference over small region 🗺️"
      ]
    },
    {
      "cell_type": "code",
      "execution_count": null,
      "metadata": {
        "id": "U6jmxzTLr5tE"
      },
      "outputs": [],
      "source": [
        "from openmapflow.train_utils import model_path_from_name\n",
        "from openmapflow.config import PROJECT\n",
        "from openmapflow.inference import Inference\n",
        "from openmapflow.bands import DYNAMIC_BANDS\n",
        "from tqdm.notebook import tqdm\n",
        "from pathlib import Path\n",
        "from datetime import date\n",
        "import cmocean\n",
        "import numpy as np\n",
        "import rasterio as rio\n",
        "import torch"
      ]
    },
    {
      "cell_type": "code",
      "execution_count": null,
      "metadata": {
        "id": "TOSsu9Q3tiBX"
      },
      "outputs": [],
      "source": [
        "tifs_dir = Path(f\"/content/tifs\")\n",
        "preds_dir = Path(f\"/content/preds\")\n",
        "tifs_dir.mkdir(exist_ok=True)\n",
        "preds_dir.mkdir(exist_ok=True)"
      ]
    },
    {
      "cell_type": "markdown",
      "metadata": {
        "id": "pd9Xtn_7xFUz"
      },
      "source": [
        "### Download example inference data"
      ]
    },
    {
      "cell_type": "code",
      "execution_count": null,
      "metadata": {
        "id": "ZlzUJDPdL_TY"
      },
      "outputs": [],
      "source": [
        "prefix = \"gs://harvest-public-assets/openmapflow/Togo_2019_demo_2019-02-01_2020-02-01\"\n",
        "paths = [\n",
        "  f\"{prefix}/00000000000-0000000000.tif\",\n",
        "  f\"{prefix}/00000000000-0000000256.tif\",\n",
        "  f\"{prefix}/00000000256-0000000000.tif\",\n",
        "  f\"{prefix}/00000000256-0000000256.tif\"\n",
        "]\n",
        "\n",
        "for p in tqdm(paths):\n",
        "  !gsutil -m cp {p} {tifs_dir}/{Path(p).name}"
      ]
    },
    {
      "cell_type": "code",
      "execution_count": null,
      "metadata": {
        "id": "1QNJ3jSRxgHn"
      },
      "outputs": [],
      "source": [
        "!gdalbuildvrt {tifs_dir}.vrt {tifs_dir}/*.tif\n",
        "!gdal_translate -a_srs EPSG:4326 -of GTiff {tifs_dir}.vrt {tifs_dir}.tif"
      ]
    },
    {
      "cell_type": "code",
      "execution_count": null,
      "metadata": {
        "id": "4dRU1zyqxeUD"
      },
      "outputs": [],
      "source": [
        "def normalize(array):\n",
        "    array_min, array_max = array.min(), array.max()*0.5\n",
        "    return ((array - array_min)/(array_max - array_min))\n",
        "\n",
        "month = 2\n",
        "rgb_indexes = [DYNAMIC_BANDS.index(b) for b in [\"B4\", \"B3\", \"B2\"]]\n",
        "eo_data = rio.open(f\"{tifs_dir}.tif\")\n",
        "colors = [eo_data.read(i + month*len(DYNAMIC_BANDS)) for i in rgb_indexes]\n",
        "normalized_colors = [normalize(c) for c in colors]\n",
        "rgb = np.dstack(normalized_colors)\n",
        "plt.figure(figsize=(10,10))\n",
        "plt.title(\"Earth Observation data for one month\")\n",
        "plt.axis('off')\n",
        "plt.imshow(rgb);"
      ]
    },
    {
      "cell_type": "markdown",
      "metadata": {
        "id": "Q2PQhuDixJ40"
      },
      "source": [
        "### Make predictions with model"
      ]
    },
    {
      "cell_type": "code",
      "execution_count": null,
      "metadata": {
        "id": "yUBiDZUWMBpX"
      },
      "outputs": [],
      "source": [
        "model = torch.jit.load(model_path_from_name(os.environ[\"MODEL_NAME\"]))\n",
        "inference = Inference(model=model, normalizing_dict=None)\n",
        "local_pred_paths = []\n",
        "tifs = list(Path(tifs_dir).glob(\"*.tif\"))\n",
        "for local_tif_path in tqdm(tifs, desc=\"Making predictions\"):\n",
        "  local_pred_path = Path(f\"{preds_dir}/pred_{local_tif_path.stem}.nc\")\n",
        "  inference.run(\n",
        "      local_path=local_tif_path,\n",
        "      dest_path=local_pred_path\n",
        "  )\n",
        "  local_pred_paths.append(local_pred_path)"
      ]
    },
    {
      "cell_type": "markdown",
      "metadata": {
        "id": "QrSlVoi0vp_R"
      },
      "source": [
        "### Merge predictions into map\n",
        "\n",
        "<img src=\"https://storage.googleapis.com/harvest-public-assets/openmapflow/merging_predictions.png\" width=\"50%\"/>"
      ]
    },
    {
      "cell_type": "code",
      "source": [
        "!gdalbuildvrt {preds_dir}.vrt {preds_dir}/*.nc\n",
        "!gdal_translate -a_srs EPSG:4326 -of GTiff {preds_dir}.vrt {preds_dir}.tif"
      ],
      "metadata": {
        "id": "XTb8nMmvUh3B"
      },
      "execution_count": null,
      "outputs": []
    },
    {
      "cell_type": "markdown",
      "metadata": {
        "id": "mL7Z3UdCxkSa"
      },
      "source": [
        "### Visualize predictions"
      ]
    },
    {
      "cell_type": "code",
      "execution_count": null,
      "metadata": {
        "id": "TlC_bZLrMT5y"
      },
      "outputs": [],
      "source": [
        "# Visualize\n",
        "predictions_map = rio.open(f\"{preds_dir}.tif\")\n",
        "if \"maize\" in PROJECT:\n",
        "  cmap = cmocean.cm.solar\n",
        "elif \"crop\" in PROJECT:\n",
        "  cmap = cmocean.cm.speed\n",
        "else:\n",
        "  cmap = cmocean.cm.thermal\n",
        "\n",
        "plt.figure(figsize=(10,10))\n",
        "plt.imshow(predictions_map.read(1).clip(0,1), cmap=cmap)\n",
        "plt.title(f\"Map Preview: {PROJECT}\")\n",
        "plt.colorbar(fraction=0.03, pad=0.04)\n",
        "plt.axis(\"off\");"
      ]
    },
    {
      "cell_type": "markdown",
      "metadata": {
        "id": "5PUBalhgMdKf"
      },
      "source": [
        "## 5. [OPTIONAL] Deployment - Push to dvc and git"
      ]
    },
    {
      "cell_type": "code",
      "execution_count": null,
      "metadata": {
        "id": "rKFsB8eGsfkG"
      },
      "outputs": [],
      "source": [
        "# Generate test metrics\n",
        "!python evaluate.py --model_name $MODEL_NAME"
      ]
    },
    {
      "cell_type": "code",
      "execution_count": null,
      "metadata": {
        "id": "rUJSD5MGMaUM"
      },
      "outputs": [],
      "source": [
        "# This will only work if you have been granted write bucket permissions.\n",
        "!dvc commit -q\n",
        "!dvc push"
      ]
    },
    {
      "cell_type": "code",
      "execution_count": null,
      "metadata": {
        "id": "DoubM_2tMhWO"
      },
      "outputs": [],
      "source": [
        "!git checkout -b\"$MODEL_NAME\"\n",
        "!git add .\n",
        "!git commit -m \"$MODEL_NAME\"\n",
        "!git push --set-upstream origin \"$MODEL_NAME\""
      ]
    },
    {
      "cell_type": "markdown",
      "metadata": {
        "id": "ks-N5PD8u8zz"
      },
      "source": [
        "Once Pull Request is merged model will be deployed for map creation.\n",
        "\n",
        "<img src=\"https://storage.googleapis.com/harvest-public-assets/openmapflow/step3.png\" width=\"80%\"/>"
      ]
    }
  ],
  "metadata": {
    "colab": {
      "name": "tutorial.ipynb",
      "provenance": []
    },
    "kernelspec": {
      "display_name": "Python 3.9.12 ('venv': venv)",
      "language": "python",
      "name": "python3"
    },
    "language_info": {
      "name": "python",
      "version": "3.9.12"
    },
    "vscode": {
      "interpreter": {
        "hash": "bd96feeca8c75643d28e6472f2b0778c141660d21a3db17f7d03cb9dc5057e55"
      }
    }
  },
  "nbformat": 4,
  "nbformat_minor": 0
}
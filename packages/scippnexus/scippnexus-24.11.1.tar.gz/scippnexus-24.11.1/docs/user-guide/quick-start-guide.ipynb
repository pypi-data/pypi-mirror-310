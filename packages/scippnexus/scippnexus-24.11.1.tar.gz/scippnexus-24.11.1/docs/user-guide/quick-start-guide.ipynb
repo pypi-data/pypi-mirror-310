{
 "cells": [
  {
   "cell_type": "markdown",
   "id": "2ef2c9d0-d72f-4072-aba7-121633cf4bce",
   "metadata": {},
   "source": [
    "# Quick Start Guide"
   ]
  },
  {
   "cell_type": "markdown",
   "id": "efc07f74-8dc7-4268-8618-8b1aea3e1b71",
   "metadata": {},
   "source": [
    "## Overview\n",
    "\n",
    "The [NeXus Data Format](https://www.nexusformat.org/) is typically used to structure HDF5 files.\n",
    "An HDF5 file is a container for *datasets* and *groups*.\n",
    "Groups are folder-like and work like Python dictionaries.\n",
    "Datasets work like NumPy arrays.\n",
    "In addition, groups and datasets have a dictionary of *attributes*.\n",
    "\n",
    "NeXus extends this with the following:\n",
    "\n",
    "- Definitions for attributes for datasets, in particular a `units` attribute.\n",
    "  In NeXus, datasets are referred to as *field*.\n",
    "- Definitions for attributes and structure of groups.\n",
    "  This includes:\n",
    "  - An `NX_class` attribute, identifying a group as an instance of a particular NeXus class such as [NXdata](https://manual.nexusformat.org/classes/base_classes/NXdata.html) or [NXlog](https://manual.nexusformat.org/classes/base_classes/NXlog.html).\n",
    "  - Attributes that identify which fields contained in the group hold signal values, and which hold axis labels.\n",
    "  \n",
    "In the following we use a file from the [POWGEN](https://neutrons.ornl.gov/powgen) instrument at SNS.\n",
    "It is bundled with ScippNexus and will be downloaded automatically using [pooch](https://pypi.org/project/pooch/) if it is not cached already:"
   ]
  },
  {
   "cell_type": "code",
   "execution_count": null,
   "id": "4fc6055c-000f-4ad3-bd51-b74cd86e2a50",
   "metadata": {},
   "outputs": [],
   "source": [
    "from scippnexus import data\n",
    "\n",
    "filename = data.get_path('PG3_4844_event.nxs')"
   ]
  },
  {
   "cell_type": "markdown",
   "id": "dc5c3080-fcca-4118-8fd2-f22f108b1ee6",
   "metadata": {},
   "source": [
    "## Loading files\n",
    "\n",
    "Given such a NeXus file, we can load the entire file using [snx.load](../generated/functions/scippnexus.load.rst):"
   ]
  },
  {
   "cell_type": "code",
   "execution_count": null,
   "id": "9eac3b09-3b36-464b-821a-4d2617d9fdae",
   "metadata": {},
   "outputs": [],
   "source": [
    "import scippnexus as snx\n",
    "\n",
    "data = snx.load(filename)\n",
    "data"
   ]
  },
  {
   "cell_type": "markdown",
   "id": "8fc979f9-92fc-44d3-b77c-14efc9b2de34",
   "metadata": {},
   "source": [
    "[snx.load](../generated/functions/scippnexus.load.rst) supports selecting part of a file to load:"
   ]
  },
  {
   "cell_type": "code",
   "execution_count": null,
   "id": "05389cfd-2870-413f-a3a7-5ca791d82281",
   "metadata": {},
   "outputs": [],
   "source": [
    "bank102 = snx.load(filename, root='entry/bank102')\n",
    "bank102"
   ]
  },
  {
   "cell_type": "markdown",
   "id": "e0161b14-8313-4da6-878d-0ed79a3d23a4",
   "metadata": {},
   "source": [
    "This is a simpler and less powerful version of the interface described below."
   ]
  },
  {
   "cell_type": "markdown",
   "id": "4425ba02-9f53-4783-bdf0-3e966672e3d6",
   "metadata": {},
   "source": [
    "## Opening files\n",
    "\n",
    "It is often useful to only load part of a file or inspecting the file structure without loading any data.\n",
    "ScippNexus provides an interface that is similar to [h5py](https://docs.h5py.org/en/stable/) for this purpose.\n",
    "\n",
    "We first need to open the file using [snx.File](../generated/classes/scippnexus.File.rst).\n",
    "Wherever possible this should be done using a context manager as follows:"
   ]
  },
  {
   "cell_type": "code",
   "execution_count": null,
   "id": "cbbeaf94-fc7b-4043-9583-0df33c879f39",
   "metadata": {},
   "outputs": [],
   "source": [
    "import scippnexus as snx\n",
    "\n",
    "with snx.File(filename) as f:\n",
    "    print(list(f.keys()))"
   ]
  },
  {
   "cell_type": "markdown",
   "id": "f53b78ac-df4e-4411-9267-3341e15a2ec0",
   "metadata": {},
   "source": [
    "Unfortunately working with a context manager in a Jupyter Notebook is cumbersome, so for the following we open the file directly instead:"
   ]
  },
  {
   "cell_type": "code",
   "execution_count": null,
   "id": "116781c3-9f44-4aff-b312-42ccb4f9248c",
   "metadata": {},
   "outputs": [],
   "source": [
    "f = snx.File(filename)"
   ]
  },
  {
   "cell_type": "markdown",
   "id": "7aabe649-56f3-417d-8234-f7a670afadc2",
   "metadata": {},
   "source": [
    "## Navigating files"
   ]
  },
  {
   "cell_type": "markdown",
   "id": "a14fa902-5eae-4530-a8b4-3648da9ffea0",
   "metadata": {},
   "source": [
    "### Name-based access\n",
    "\n",
    "If there are multiple children with a specific `NX_class` attribute then the aforementioned properties cannot be used.\n",
    "Above we saw that the file contains a single key, `'entry'` (the name could be anything, it just happens to match the class name here).\n",
    "When we access it we can see that it belongs to the class [NXentry](https://manual.nexusformat.org/classes/base_classes/NXentry.html) which is found on the top level in any NeXus file:"
   ]
  },
  {
   "cell_type": "code",
   "execution_count": null,
   "id": "62b99b27-0f80-4217-a41f-ba40bef7e877",
   "metadata": {},
   "outputs": [],
   "source": [
    "entry = f['entry']\n",
    "entry"
   ]
  },
  {
   "cell_type": "markdown",
   "id": "9ff94b4a-490e-42d6-a9b9-07f372de5be0",
   "metadata": {},
   "source": [
    "We could continue inspecting keys, until we find a group we are interested in.\n",
    "For this example we use the `'proton_charge'` log found within `'DASlogs'`:"
   ]
  },
  {
   "cell_type": "code",
   "execution_count": null,
   "id": "fc09c271-ca12-4fd4-b219-2f382a6c3b6a",
   "metadata": {},
   "outputs": [],
   "source": [
    "proton_charge = entry['DASlogs']['proton_charge']\n",
    "proton_charge"
   ]
  },
  {
   "cell_type": "markdown",
   "id": "3eacbcc7-fcbc-4017-bbb8-da5d55c12828",
   "metadata": {},
   "source": [
    "### Getting all children of a specific `NX_class`\n",
    "\n",
    "The `__getitem__` method can be used with a class imported from `scippnexus` to obtain a dict of all children with a matching `NX_class` attribute.\n",
    "For example, we can get all detectors within the `NXintrument` using:"
   ]
  },
  {
   "cell_type": "code",
   "execution_count": null,
   "id": "32c0f1f4-84ee-4258-8cb1-999b06f00ba0",
   "metadata": {},
   "outputs": [],
   "source": [
    "f['entry/instrument'][snx.NXdetector]"
   ]
  },
  {
   "cell_type": "markdown",
   "id": "134beaeb-eee6-4c04-a05c-318974aec1a9",
   "metadata": {},
   "source": [
    "## Loading groups and datasets"
   ]
  },
  {
   "cell_type": "markdown",
   "id": "d50c9d5e-52a6-43dc-afcd-f168276e5734",
   "metadata": {},
   "source": [
    "This `proton_charge` group we \"navigated\" to above is an [NXlog](https://manual.nexusformat.org/classes/base_classes/NXlog.html), which typically contains 1-D data with a time axis.\n",
    "Since ScippNexus knows about NXlog, it knows how to identify its shape:"
   ]
  },
  {
   "cell_type": "code",
   "execution_count": null,
   "id": "1cf5c691-a686-4399-854e-9d8659c9ac5e",
   "metadata": {},
   "outputs": [],
   "source": [
    "proton_charge.shape"
   ]
  },
  {
   "cell_type": "markdown",
   "id": "1e657e02-e536-4283-9546-1ddc2290f9f5",
   "metadata": {},
   "source": [
    "<div class=\"alert alert-info\">\n",
    "    <b>Note:</b>\n",
    "\n",
    "This is in contrast to plain HDF5 where groups do *not* have a shape.\n",
    "Note that not all NeXus classes have a defined shape.\n",
    "\n",
    "</div>"
   ]
  },
  {
   "cell_type": "markdown",
   "id": "2699736a-d818-4dcf-9a16-06af7ff11bde",
   "metadata": {},
   "source": [
    "We read the NXlog from the file using the slicing notation.\n",
    "To read the entire group, use ellipses (or an empty tuple):"
   ]
  },
  {
   "cell_type": "code",
   "execution_count": null,
   "id": "7ba6e370-25a6-40a4-bff0-80233828b987",
   "metadata": {},
   "outputs": [],
   "source": [
    "proton_charge[...]"
   ]
  },
  {
   "cell_type": "markdown",
   "id": "deca471d-35ab-4617-a1d7-9dbadd6ecfad",
   "metadata": {},
   "source": [
    "Above, ScippNexus automatically dealt with:\n",
    "\n",
    "- Loading the data field (signal value dataset and its `'units'` attribute).\n",
    "- Identifying the dimension labels (here: `'time'`).\n",
    "- Other fields in the group were loaded as coordinates, including:\n",
    "  - Units of the fields.\n",
    "  - Uncertainties of the fields (here for `'average_value'`).\n",
    "  \n",
    "This structure is compatible with a `scipp.DataArray` and is returned as such.\n",
    "\n",
    "We may also load an individual field instead of an entire group.\n",
    "A field corresponds to a `scipp.Variable`, i.e., similar to how h5py represents datasets as NumPy arrays but with an added unit and dimension labels (if applicable).\n",
    "For example, we may load only the `'value'` dataset:"
   ]
  },
  {
   "cell_type": "code",
   "execution_count": null,
   "id": "ee3231a6-d0f4-4a08-8890-cdc014ae47b3",
   "metadata": {},
   "outputs": [],
   "source": [
    "proton_charge['value'][...]"
   ]
  },
  {
   "cell_type": "markdown",
   "id": "7b7d5e06-2702-4896-8114-2b4a2fc6b5ee",
   "metadata": {},
   "source": [
    "Attributes of datasets or groups are accessed just like in h5py:"
   ]
  },
  {
   "cell_type": "code",
   "execution_count": null,
   "id": "3ccdd788-a852-4cc9-a5f0-4ca7b8321a4e",
   "metadata": {},
   "outputs": [],
   "source": [
    "proton_charge['value'].attrs['units']"
   ]
  },
  {
   "cell_type": "markdown",
   "id": "d75fa4b1-8490-49c6-809b-fdc930960886",
   "metadata": {},
   "source": [
    "A subset of the group (and its datasets) can be loaded by selecting only a slice.\n",
    "We can also plot this directly using the `plot` method of `scipp.DataArray`:"
   ]
  },
  {
   "cell_type": "code",
   "execution_count": null,
   "id": "757dec63-5a3f-4add-b52c-1d6c81c4ec1b",
   "metadata": {},
   "outputs": [],
   "source": [
    "proton_charge['time', 193000:197000].plot()"
   ]
  },
  {
   "cell_type": "markdown",
   "id": "4247c000-9a31-4936-9b76-b67ea7b37abf",
   "metadata": {},
   "source": [
    "As another example, consider the following [NXdata](https://manual.nexusformat.org/classes/base_classes/NXdata.html) group:"
   ]
  },
  {
   "cell_type": "code",
   "execution_count": null,
   "id": "151a10d8-8b43-4cf9-ae5e-58e7c8cac81a",
   "metadata": {},
   "outputs": [],
   "source": [
    "bank = f['entry/bank103']\n",
    "print(bank.shape, bank.dims)"
   ]
  },
  {
   "cell_type": "markdown",
   "id": "9368b372-04ff-4fcf-bd33-cd0b5f23b2db",
   "metadata": {},
   "source": [
    "This can be loaded and plotted as above.\n",
    "In this case the resulting data array is 2-D:"
   ]
  },
  {
   "cell_type": "code",
   "execution_count": null,
   "id": "5da71bec-64ef-49d8-898d-6440ce595228",
   "metadata": {},
   "outputs": [],
   "source": [
    "da = bank[...]\n",
    "da"
   ]
  },
  {
   "cell_type": "code",
   "execution_count": null,
   "id": "1e91764b-9f69-48b3-9284-0122dccc9742",
   "metadata": {},
   "outputs": [],
   "source": [
    "da.plot()"
   ]
  },
  {
   "cell_type": "markdown",
   "id": "5314d3b1-bb0c-4c64-adce-2a20abd0a43d",
   "metadata": {},
   "source": [
    "## Writing to files\n",
    "\n",
    "See [application definitions](application-definitions.ipynb#Writing-files) section for documentation about how to write to Nexus files."
   ]
  }
 ],
 "metadata": {
  "kernelspec": {
   "display_name": "Python 3 (ipykernel)",
   "language": "python",
   "name": "python3"
  },
  "language_info": {
   "codemirror_mode": {
    "name": "ipython",
    "version": 3
   },
   "file_extension": ".py",
   "mimetype": "text/x-python",
   "name": "python",
   "nbconvert_exporter": "python",
   "pygments_lexer": "ipython3",
   "version": "3.10.14"
  }
 },
 "nbformat": 4,
 "nbformat_minor": 5
}

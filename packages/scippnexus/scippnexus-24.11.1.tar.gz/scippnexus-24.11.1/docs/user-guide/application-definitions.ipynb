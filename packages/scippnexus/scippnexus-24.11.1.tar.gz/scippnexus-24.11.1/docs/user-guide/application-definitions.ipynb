{
 "cells": [
  {
   "cell_type": "markdown",
   "id": "1057e968-0ea0-4343-9c7c-bcbe417ae1fd",
   "metadata": {},
   "source": [
    "# Application Definitions"
   ]
  },
  {
   "cell_type": "markdown",
   "id": "f1dbfbe6-9605-4f1a-b8c9-a31768df60f5",
   "metadata": {},
   "source": [
    "## Overview\n",
    "\n",
    "[NeXus Application Definitions](https://manual.nexusformat.org/classes/applications/index.html) define mandatory and optional class contents for specific applications.\n",
    "ScippNexus' approach to application definitions is to consider them as a guide, without performing full validation.\n",
    "This is to avoid getting in the way of the library user, e.g., when working with incomplete or partially broken files.\n",
    "For example, ScippNexus will generally not validate that the tree structure conforms to a given application definition."
   ]
  },
  {
   "cell_type": "markdown",
   "id": "6f738b1d-d090-4b9d-9980-38cfbc1244ba",
   "metadata": {},
   "source": [
    "<div class=\"alert alert-warning\">\n",
    "    <b>Warning:</b>\n",
    "\n",
    "ScippNexus' support for application definitions is currently experimental and the API is still subject to changes.\n",
    "\n",
    "</div>"
   ]
  },
  {
   "cell_type": "markdown",
   "id": "7fc1d425-4a31-4b75-87d4-f0398b88c090",
   "metadata": {},
   "source": [
    "Definitions provide customization points, e.g., for how ScippNexus can find required information in the HDF5 group, and how contents are mapped to aspects of the returned data (typically a `scipp.DataArray` or `scipp.DataGroup`).\n",
    "\n",
    "Definitions in ScippNexus are subclasses of [NXobject](../generated/classes/scippnexus.NXobject.html#scippnexus.NXobject).\n",
    "A `definitions` mapping passed to `snx.File` serves as a repository of definitions that `snx.Group` will use when opening a group in a file.\n",
    "`snx.base_definitions()` is used by default.\n",
    "The `NX_class` attribute of the HDF5 group is used as a key into the `definitions` mapping.\n",
    "It provides subclasses such as `NXlog`, `NXdata`, and `NXdetector`.\n",
    "\n",
    "Users can implement their application definition (or any definition) by subclassing `NXobject`, or one of the existing base-class definitions."
   ]
  },
  {
   "cell_type": "markdown",
   "id": "c4164b2f-6e64-4a9f-8204-daf6ef8025fc",
   "metadata": {},
   "source": [
    "## Writing files\n",
    "\n",
    "Skip ahead to [Reading files](#Reading-files) if you simply want to customize how data is read from existing files.\n",
    "ScippNexus provides a customization point for writing content to NeXus files with `__setitem__`.\n",
    "The requirements are that the value\n",
    "\n",
    "1. provides an `nx_class` attribute that returns a valid NeXus class name such as `'NXdata'` or `scippnexus.NXdata` and\n",
    "2. defines the `__write_to_nexus_group__` method that takes a `h5py.Group`, i.e., an open HDF5 group, as its single argument.\n",
    "\n",
    "`__write_to_nexus_group__` may then write its content to this group.\n",
    "This can (and should) make use of ScippNexus features for writing Nexus fields (HDF5 datasets) from a `scipp.Variable` via `snx.create_field`, such as automatic writing of the `units` attribute, or writing `datetime64` data.\n",
    "Consider the following example:"
   ]
  },
  {
   "cell_type": "code",
   "execution_count": null,
   "id": "3da8519f-4295-4c94-9850-92020a37ebfd",
   "metadata": {},
   "outputs": [],
   "source": [
    "import h5py\n",
    "import scipp as sc\n",
    "import scippnexus as snx\n",
    "\n",
    "\n",
    "class MyData:\n",
    "    nx_class = snx.NXdata  # required\n",
    "\n",
    "    def __init__(self, data: sc.DataArray):\n",
    "        self._data = data\n",
    "\n",
    "    def __write_to_nexus_group__(self, group: h5py.Group):  # required\n",
    "        group.attrs['axes'] = self._data.dims  # NeXus way of defining dim labels\n",
    "        snx.create_field(group, 'mysignal', self._data.data)"
   ]
  },
  {
   "cell_type": "markdown",
   "id": "11c5073d-7231-429c-a461-61b31a03c284",
   "metadata": {},
   "source": [
    "Note that above we use a custom \"signal\" name and do not to set the \"signal\" attribute on the group and as such deviate from the NeXus specification.\n",
    "We can then write our data using:"
   ]
  },
  {
   "cell_type": "code",
   "execution_count": null,
   "id": "908cb5e5-8255-4623-aec0-83e59999a3d8",
   "metadata": {},
   "outputs": [],
   "source": [
    "mydata = sc.DataArray(sc.arange('x', 5, unit='s'))\n",
    "\n",
    "with snx.File('test.nxs', 'w') as f:\n",
    "    f['data'] = MyData(mydata)"
   ]
  },
  {
   "cell_type": "markdown",
   "id": "8bbfb3a7-bd7b-4fab-8c7e-501bec86e0fd",
   "metadata": {},
   "source": [
    "You can also manually write nexus classes to a hdf5 dataset with `snx.create_class`: "
   ]
  },
  {
   "cell_type": "code",
   "execution_count": null,
   "id": "732f931f-5259-4aa4-aa09-b414ec8b5ac8",
   "metadata": {},
   "outputs": [],
   "source": [
    "with h5py.File('test2.nxs', mode='w') as f:\n",
    "    nxdata = snx.create_class(f, 'data', nx_class=snx.NXdata)\n",
    "    nxdata.attrs['axes'] = mydata.dims\n",
    "    snx.create_field(nxdata, 'mysignal', mydata.data)"
   ]
  },
  {
   "cell_type": "code",
   "execution_count": null,
   "id": "f08df666-58f5-4f3b-af4d-5ae08abfed07",
   "metadata": {},
   "outputs": [],
   "source": [
    "%%bash\n",
    "# The files created above are identical\n",
    "cmp -s test.nxs test2.nxs"
   ]
  },
  {
   "cell_type": "markdown",
   "id": "e04a29d3-2f8d-4874-86e7-9b1a26458d0e",
   "metadata": {
    "tags": []
   },
   "source": [
    "## Reading files\n",
    "\n",
    "### Overview\n",
    "\n",
    "For some application definitions &mdash; or classes within application definitions &mdash; the default ScippNexus mechanisms for reading are sufficient.\n",
    "This is the case when the application definition follows the NeXus standard and, e.g., introduces no new attributes.\n",
    "\n",
    "In other cases we require customization of how ScippNexus reads class contents.\n",
    "This is handled using *definitions* that can be passed to `snx.File` or `snx.Group`.\n",
    "\n",
    "As an example, consider the following simple definition for loading data with a custom signal name, which the file failed to specify.\n",
    "In this particular case we subclass `snx.NXdata`, and pass a custom argument to its `__init__`.\n",
    "In general this is rarely sufficient, and in practice a definition may need to implement other parts of the `snx.NXobject` interface:"
   ]
  },
  {
   "cell_type": "code",
   "execution_count": null,
   "id": "ac9ad742-ea04-4ebf-9f5d-ee68f98983d6",
   "metadata": {},
   "outputs": [],
   "source": [
    "class MyDataDefinition(snx.NXdata):\n",
    "    def __init__(self, attrs, children):\n",
    "        super().__init__(\n",
    "            attrs=attrs, children=children, fallback_signal_name='mysignal'\n",
    "        )\n",
    "\n",
    "\n",
    "my_definitions = snx.base_definitions()\n",
    "my_definitions['NXdata'] = MyDataDefinition"
   ]
  },
  {
   "cell_type": "markdown",
   "id": "ef933561-9e32-4549-acd1-1b574b585742",
   "metadata": {},
   "source": [
    "We can then load our file (created above in [Writing files](#Writing-files)) by our custom definitions to `snx.File`:"
   ]
  },
  {
   "cell_type": "code",
   "execution_count": null,
   "id": "460c1f65-623e-4129-b5dc-50811681d3aa",
   "metadata": {},
   "outputs": [],
   "source": [
    "with snx.File('test.nxs', 'r', definitions=my_definitions) as f:\n",
    "    loaded = f['data'][...]\n",
    "loaded"
   ]
  },
  {
   "cell_type": "markdown",
   "id": "f5d55a73-53ce-412a-90d2-18a826ec3c95",
   "metadata": {},
   "source": [
    "ScippNexus does currently not ship with a library of application definitions.\n",
    "Custom definitions can be provided by a user as outlined above."
   ]
  },
  {
   "cell_type": "markdown",
   "id": "2371d6ef-8ad3-4a2c-bc63-939d1a29950f",
   "metadata": {},
   "source": [
    "### Using definitions for filtering\n",
    "\n",
    "The application-definition mechanism can be used for filtering or selecting which children from a group should be loaded.\n",
    "For example, we may wish to exclude certain NeXus classes from loading.\n",
    "We define a custom definition as follows:"
   ]
  },
  {
   "cell_type": "code",
   "execution_count": null,
   "id": "a73b4dc8-98a3-40b6-bb03-d1efd666d3aa",
   "metadata": {},
   "outputs": [],
   "source": [
    "import scippnexus as snx\n",
    "\n",
    "\n",
    "def skip(name, obj):\n",
    "    skip_classes = (snx.NXevent_data, snx.NXinstrument)\n",
    "    return isinstance(obj, snx.Group) and (\n",
    "        (obj.nx_class in skip_classes) or (name == 'DASlogs')\n",
    "    )\n",
    "\n",
    "\n",
    "class FilteredEntry(snx.NXobject):\n",
    "    def __init__(self, attrs, children):\n",
    "        children = {\n",
    "            name: child for name, child in children.items() if not skip(name, child)\n",
    "        }\n",
    "        super().__init__(attrs=attrs, children=children)\n",
    "\n",
    "\n",
    "my_definitions = snx.base_definitions()\n",
    "my_definitions['NXentry'] = FilteredEntry"
   ]
  },
  {
   "cell_type": "markdown",
   "id": "b95829c7-8d32-4731-9a99-361cdf8017cc",
   "metadata": {},
   "source": [
    "We can use these definitions as follows:"
   ]
  },
  {
   "cell_type": "code",
   "execution_count": null,
   "id": "91614592-0c2f-4575-a07f-aa2fba00ce7c",
   "metadata": {},
   "outputs": [],
   "source": [
    "from scippnexus import data\n",
    "\n",
    "filename = data.get_path('PG3_4844_event.nxs')\n",
    "f = snx.File(filename, definitions=my_definitions)\n",
    "f['entry'][...]"
   ]
  }
 ],
 "metadata": {
  "kernelspec": {
   "display_name": "Python 3 (ipykernel)",
   "language": "python",
   "name": "python3"
  },
  "language_info": {
   "codemirror_mode": {
    "name": "ipython",
    "version": 3
   },
   "file_extension": ".py",
   "mimetype": "text/x-python",
   "name": "python",
   "nbconvert_exporter": "python",
   "pygments_lexer": "ipython3",
   "version": "3.10.14"
  }
 },
 "nbformat": 4,
 "nbformat_minor": 5
}

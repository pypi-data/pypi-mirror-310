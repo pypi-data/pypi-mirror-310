{
 "cells": [
  {
   "cell_type": "raw",
   "id": "49fe51c2",
   "metadata": {
    "raw_mimetype": "text/restructuredtext",
    "tags": []
   },
   "source": [
    ".. _snn:"
   ]
  },
  {
   "cell_type": "markdown",
   "id": "6a85da34",
   "metadata": {
    "tags": []
   },
   "source": [
    "## Synthetic Nearest Neighbor (SNN)"
   ]
  },
  {
   "cell_type": "raw",
   "id": "e5f99480-9a2f-4b68-aeea-02740a5bc83c",
   "metadata": {
    "tags": []
   },
   "source": [
    "Please find more details in :cite:p:`snn`."
   ]
  },
  {
   "cell_type": "code",
   "execution_count": null,
   "id": "a4d1e4d1-6f8e-41ab-957d-c6a15c927deb",
   "metadata": {
    "tags": []
   },
   "outputs": [],
   "source": [
    "from azcausal.core.error import Bootstrap\n",
    "from azcausal.core.parallelize import Joblib\n",
    "from azcausal.data import CaliforniaProp99\n",
    "from azcausal.estimators.panel.snn import SNN\n",
    "\n",
    "# create the panel to be fed into the estimator\n",
    "panel = CaliforniaProp99().panel()\n",
    "\n",
    "# initialize an estimator object\n",
    "estimator = SNN()\n",
    "\n",
    "# run the SNN\n",
    "result = estimator.fit(panel)\n",
    "\n",
    "# estimate the standard error\n",
    "estimator.error(result, Bootstrap(n_samples=31), parallelize=Joblib(progress=True))\n",
    "\n",
    "# print out information about the estimate\n",
    "print(result.summary(title=\"CaliforniaProp99\"))"
   ]
  }
 ],
 "metadata": {
  "kernelspec": {
   "display_name": "Python 3 (ipykernel)",
   "language": "python",
   "name": "python3"
  },
  "language_info": {
   "codemirror_mode": {
    "name": "ipython",
    "version": 3
   },
   "file_extension": ".py",
   "mimetype": "text/x-python",
   "name": "python",
   "nbconvert_exporter": "python",
   "pygments_lexer": "ipython3"
  },
  "papermill": {
   "default_parameters": {},
   "duration": 5.584983,
   "end_time": "2023-12-08T00:23:49.278266",
   "environment_variables": {},
   "exception": null,
   "input_path": "/Users/blankjul/workspace/azcausal/docs/source/estimators/snn.ipynb",
   "output_path": "/Users/blankjul/workspace/azcausal/docs/source/estimators/snn.ipynb",
   "parameters": {},
   "start_time": "2023-12-08T00:23:43.693283",
   "version": "2.4.0"
  }
 },
 "nbformat": 4,
 "nbformat_minor": 5
}

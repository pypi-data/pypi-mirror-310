{
 "cells": [
  {
   "cell_type": "markdown",
   "id": "23d7558f-9be7-4738-9471-1a90b4410e96",
   "metadata": {
    "tags": []
   },
   "source": [
    "# Estimators"
   ]
  },
  {
   "cell_type": "raw",
   "id": "c67be05b",
   "metadata": {
    "raw_mimetype": "text/restructuredtext",
    "tags": []
   },
   "source": [
    "\n",
    "\n",
    ".. toctree::\n",
    "   :maxdepth: 2\n",
    "   :hidden:\n",
    "\n",
    "   did\n",
    "   sdid\n",
    "   snn\n"
   ]
  },
  {
   "cell_type": "raw",
   "id": "b56d816f-874c-42f2-aa68-18b4ea32eaae",
   "metadata": {
    "raw_mimetype": "text/restructuredtext",
    "tags": []
   },
   "source": [
    "\n",
    ".. list-table:: \n",
    "    :widths: 20 10\n",
    "    :header-rows: 1\n",
    "\n",
    "    * - Estimator\n",
    "      - Reference\n",
    "    * - :ref:`Difference in Difference (DID)<did>` \n",
    "      - \n",
    "    * - :ref:`Synthetic Difference in Difference (SDID)<sdid>` \n",
    "      - :cite:p:`sdid`\n",
    "    * - :ref:`Synthetic Nearest Neighbor (SNN)<snn>`\n",
    "      - :cite:p:`snn`\n",
    "\n"
   ]
  }
 ],
 "metadata": {
  "kernelspec": {
   "display_name": "Python 3 (ipykernel)",
   "language": "python",
   "name": "python3"
  },
  "language_info": {
   "codemirror_mode": {
    "name": "ipython",
    "version": 3
   },
   "file_extension": ".py",
   "mimetype": "text/x-python",
   "name": "python",
   "nbconvert_exporter": "python",
   "pygments_lexer": "ipython3"
  },
  "papermill": {
   "default_parameters": {},
   "duration": 1.322218,
   "end_time": "2023-12-08T00:23:43.690739",
   "environment_variables": {},
   "exception": null,
   "input_path": "/Users/blankjul/workspace/azcausal/docs/source/estimators/estimators.ipynb",
   "output_path": "/Users/blankjul/workspace/azcausal/docs/source/estimators/estimators.ipynb",
   "parameters": {},
   "start_time": "2023-12-08T00:23:42.368521",
   "version": "2.4.0"
  }
 },
 "nbformat": 4,
 "nbformat_minor": 5
}

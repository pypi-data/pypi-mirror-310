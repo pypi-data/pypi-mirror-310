{
 "cells": [
  {
   "cell_type": "markdown",
   "id": "c5579eee",
   "metadata": {
    "tags": []
   },
   "source": [
    "# Getting Started"
   ]
  },
  {
   "cell_type": "markdown",
   "id": "da38288e-7beb-4a9f-9fbf-7b07e77a1ffb",
   "metadata": {
    "tags": []
   },
   "source": [
    "This guide covers the steps to get started with **azcausal**. \n",
    "We have split this introduction into several parts:"
   ]
  },
  {
   "cell_type": "markdown",
   "id": "57764f30-7fa8-4686-ba9c-3dc86f017849",
   "metadata": {
    "tags": []
   },
   "source": [
    "- Part I : **The Panel**\n",
    "- Part II: **The Treatment Effect**\n",
    "- Part III: **Analysis & Visualization**"
   ]
  },
  {
   "cell_type": "markdown",
   "id": "b06e1e39-814c-4fc4-825b-a30bf1afa3a8",
   "metadata": {
    "tags": []
   },
   "source": [
    "### Part I: Causal Panel"
   ]
  },
  {
   "cell_type": "markdown",
   "id": "3b49040e-0a2b-4113-8897-ef9103794bf2",
   "metadata": {
    "tags": []
   },
   "source": [
    "The very first step before doing any causal inference is get loading the data and tranforming them in the right format. Most estimators in this framework require the data to be in form of a `Panel` object. \n",
    "\n",
    "Assuming we have the following data frame representing the `CaliforniaProp99` information:"
   ]
  },
  {
   "cell_type": "code",
   "execution_count": null,
   "id": "11b31c83-3403-4223-a9dc-4ebf5fb25b3d",
   "metadata": {
    "tags": []
   },
   "outputs": [],
   "source": [
    "from azcausal.data import CaliforniaProp99\n",
    "\n",
    "df = CaliforniaProp99().df()\n",
    "\n",
    "df"
   ]
  },
  {
   "cell_type": "markdown",
   "id": "d08ef0b7-e0f2-443b-b207-9720ecca5cd5",
   "metadata": {
    "tags": []
   },
   "source": [
    "In this example, the columns represent the following:\n",
    "\n",
    "+ The **units**: are given by each state (`State`)\n",
    "+ The **time**: is represented in years (`Year`)\n",
    "+ The **outcome** is the number of packs sold (`PacksPerCapita`)\n",
    "+ The **intervention** is indicated by the binary treatment column (`treated`)"
   ]
  },
  {
   "cell_type": "markdown",
   "id": "92fa9eff-5019-42e3-8d1d-0d43d90446dd",
   "metadata": {
    "tags": []
   },
   "source": [
    "We define a `Panel` as a data frame where the index represents `time` and each column a `unit`. We can extract the `outcome` from the data frame by:"
   ]
  },
  {
   "cell_type": "code",
   "execution_count": null,
   "id": "80f46a22-55ce-4f78-af2b-2ba10f851dbc",
   "metadata": {
    "tags": []
   },
   "outputs": [],
   "source": [
    "from azcausal.util import to_panel\n",
    "\n",
    "outcome = to_panel(df, \"Year\", \"State\", \"PacksPerCapita\")\n",
    "\n",
    "outcome.head(3)"
   ]
  },
  {
   "cell_type": "markdown",
   "id": "5095bb12-819b-418c-bc35-976f17e4e655",
   "metadata": {
    "tags": []
   },
   "source": [
    "To check whether the panel data are in fact balanced (we have an entry during each time step for each unit), we can check for `NaN` values in the data frame:"
   ]
  },
  {
   "cell_type": "code",
   "execution_count": null,
   "id": "5fb62ec0-134a-4cd0-83d2-c307dd9b303b",
   "metadata": {
    "tags": []
   },
   "outputs": [],
   "source": [
    "print(\"Is Balanced:\", (~outcome.isna()).all(axis=None))"
   ]
  },
  {
   "cell_type": "markdown",
   "id": "6a18b2a9-0167-44ff-b38d-56a44964c219",
   "metadata": {
    "tags": []
   },
   "source": [
    "Let us simulated some data would be missing"
   ]
  },
  {
   "cell_type": "code",
   "execution_count": null,
   "id": "4b5c4bfb-9db2-442e-bf4e-047e06330238",
   "metadata": {
    "tags": []
   },
   "outputs": [],
   "source": [
    "not_balanced = to_panel(df.head(80), \"Year\", \"State\", \"PacksPerCapita\")\n",
    "print(\"Is Balanced:\", (~not_balanced.isna()).all(axis=None))\n",
    "\n",
    "not_balanced.head(3)"
   ]
  },
  {
   "cell_type": "markdown",
   "id": "f83b7973-e05c-4a79-8d98-2c1cf1f48b5d",
   "metadata": {
    "tags": []
   },
   "source": [
    "Instead of extacting only one value at a time, we can also extract multiple directly by "
   ]
  },
  {
   "cell_type": "code",
   "execution_count": null,
   "id": "5050c0b5-3c4f-4bb8-865f-af45e98c08d8",
   "metadata": {
    "tags": []
   },
   "outputs": [],
   "source": [
    "from azcausal.util import to_panels\n",
    "\n",
    "data = to_panels(df, \"Year\", \"State\", [\"PacksPerCapita\", \"treated\"])\n",
    "\n",
    "data.keys()"
   ]
  },
  {
   "cell_type": "markdown",
   "id": "4c26f061-7b8d-416d-9696-9e135753ed75",
   "metadata": {
    "tags": []
   },
   "source": [
    "The reason why we have introduced an object called `Panel` is to combine multiple data frames into one and to have convinient access to information about the time pre and post experiment, as well as control and treatment units. A Panel can be created by passing the *outcome* and *intervention* directly as `pd.DataFrame`:"
   ]
  },
  {
   "cell_type": "code",
   "execution_count": null,
   "id": "d5c481e7-4fb8-439b-91ca-883aa325b61a",
   "metadata": {
    "tags": []
   },
   "outputs": [],
   "source": [
    "from azcausal.core.panel import CausalPanel\n",
    "\n",
    "panel = CausalPanel(data=data).setup(outcome='PacksPerCapita', intervention='treated')\n",
    "\n",
    "print(panel.summary())"
   ]
  },
  {
   "cell_type": "markdown",
   "id": "1259c0f7-8006-4325-98d3-8dc273cf66fa",
   "metadata": {
    "tags": []
   },
   "source": [
    "The panel allows accessing `outcome` and `intervention` directly trough properties:"
   ]
  },
  {
   "cell_type": "code",
   "execution_count": null,
   "id": "ed87e5c6-db29-4f20-9cdc-f772a7448247",
   "metadata": {
    "tags": []
   },
   "outputs": [],
   "source": [
    "panel.outcome.head(3)"
   ]
  },
  {
   "cell_type": "markdown",
   "id": "a910c189-8577-440e-af7a-960f2ac72e46",
   "metadata": {
    "tags": []
   },
   "source": [
    "or using the index function by"
   ]
  },
  {
   "cell_type": "code",
   "execution_count": null,
   "id": "701077cd-1835-4b54-94e1-c6faefc29ed9",
   "metadata": {
    "tags": []
   },
   "outputs": [],
   "source": [
    "panel['outcome'].head(3)"
   ]
  },
  {
   "cell_type": "code",
   "execution_count": null,
   "id": "f1d1821c-b095-4179-8628-0ed95c4edfac",
   "metadata": {
    "tags": []
   },
   "outputs": [],
   "source": [
    "panel.intervention.tail(3)"
   ]
  },
  {
   "cell_type": "markdown",
   "id": "75911b9d-696c-4128-aef6-5ca086dd5b47",
   "metadata": {
    "tags": []
   },
   "source": [
    "Moreover, the method also allows to use the most common `pandas` functions on ALL DATA at once:"
   ]
  },
  {
   "cell_type": "code",
   "execution_count": null,
   "id": "4c62b0d1-74c4-463b-b99c-c6bf31638cfa",
   "metadata": {
    "tags": []
   },
   "outputs": [],
   "source": [
    "new_panel = panel.iloc[:, :3]\n",
    "\n",
    "new_panel.outcome.head(3)"
   ]
  },
  {
   "cell_type": "markdown",
   "id": "fe25f4f2-a620-4092-95f9-d85410e3c9a7",
   "metadata": {
    "tags": []
   },
   "source": [
    "Also, we can use the `get` method with key word arguments. \n",
    "\n",
    "* if `contr == True` then only control units are returned.\n",
    "* if `treat == True` then units which have been treated at least once are returned.\n",
    "* if `pre == True` then time steps where no unit is treated is returned.\n",
    "* if `post == True` then the time steps where at least one unit is treated.\n",
    "\n",
    ", for example:"
   ]
  },
  {
   "cell_type": "code",
   "execution_count": null,
   "id": "d1343088-0239-4f3d-a366-e81fd2288e21",
   "metadata": {
    "tags": []
   },
   "outputs": [],
   "source": [
    "panel.filter(target='outcome', post=True, treat=True).head(3)"
   ]
  },
  {
   "cell_type": "markdown",
   "id": "1de8e2c2-96fa-4de5-b40c-9c45b15ab480",
   "metadata": {
    "tags": []
   },
   "source": [
    "For more methods please check the `Panel` immplementation directly."
   ]
  },
  {
   "cell_type": "markdown",
   "id": "f3dfa728-97bb-4323-93bd-5e8d9a07eb56",
   "metadata": {
    "tags": []
   },
   "source": [
    "Using the `CausalPanel` it is also relatively easy to plot the average control versus treatment by:"
   ]
  },
  {
   "cell_type": "code",
   "execution_count": null,
   "id": "e1c51b3c-5270-44e7-b13c-f059c2619bec",
   "metadata": {
    "tags": []
   },
   "outputs": [],
   "source": [
    "import seaborn as sns\n",
    "sns.set(rc={'figure.figsize':(12,4)})\n",
    "\n",
    "import matplotlib.pyplot as plt\n",
    "\n",
    "avg_control = panel.filter(target='outcome', contr=True).mean(axis=1).to_frame('C')\n",
    "avg_treat = panel.filter(target='outcome', treat=True).mean(axis=1).to_frame('T')\n",
    "\n",
    "plt.subplots(1, 1, figsize=(12, 4))\n",
    "sns.lineplot(avg_control.join(avg_treat))\n",
    "plt.axvline(panel.filter(target=\"intervention\", pre=True).index.max(), color='black', label='intervention')"
   ]
  },
  {
   "cell_type": "markdown",
   "id": "641ebeeb-d0dc-435e-88b4-92aab3346a08",
   "metadata": {
    "tags": []
   },
   "source": [
    "### Part II: The Treatment Effect"
   ]
  },
  {
   "cell_type": "markdown",
   "id": "778a4249-e435-48c6-aad1-a60ea6231182",
   "metadata": {
    "tags": []
   },
   "source": [
    "After bringing the data into the right format, we can use an `Estimator` to make predictions of the treatment effect. "
   ]
  },
  {
   "cell_type": "markdown",
   "id": "8b7f8574-9b70-4834-8aea-0d1d3841ce6a",
   "metadata": {
    "tags": []
   },
   "source": [
    "Like commonly done for time series it is always a good idea to quickly spot check the time series:"
   ]
  },
  {
   "cell_type": "code",
   "execution_count": null,
   "id": "37ed69c1-d7cc-4e2b-a42e-8f97001ba208",
   "metadata": {
    "tags": []
   },
   "outputs": [],
   "source": [
    "print(panel.summary())\n",
    "\n",
    "panel.outcome.mean(axis=1).plot(figsize=(12, 4))"
   ]
  },
  {
   "cell_type": "markdown",
   "id": "b3aa51e1-241c-458c-89c2-d31f02b559e7",
   "metadata": {
    "tags": []
   },
   "source": [
    "For example, let us use the popular `DID` estimator to estimate the *Average Treatment Effect on the Treated (ATT)* for the panel data."
   ]
  },
  {
   "cell_type": "code",
   "execution_count": null,
   "id": "b1a08910-e0ee-4416-a2b0-827635281080",
   "metadata": {
    "tags": []
   },
   "outputs": [],
   "source": [
    "from azcausal.estimators.panel.did import DID\n",
    "\n",
    "# initialize an estimator object\n",
    "estimator = DID()\n",
    "\n",
    "# estimate the treatment effect\n",
    "result = estimator.fit(panel)\n",
    "\n",
    "# print the treatment effect summary\n",
    "print(result.summary(percentage=True, cumulative=True))"
   ]
  },
  {
   "cell_type": "markdown",
   "id": "827d36bd-b1db-47a2-9c8b-1908a43fdfbe",
   "metadata": {
    "tags": []
   },
   "source": [
    "Now, the treatment effect without any confidence intervals is often not that helpful. Some estimators come with error estimates out of the box and will directly provide them (e.g. `DIDRegression`). For others, we can use an `Error` estimator to attach an error and calculate confidence intervals along with it. \n",
    "\n",
    "The following error estimators are available:\n",
    "\n",
    "- **Bootstrap**: Randomly sample units (with replacement) from the panel data and estimate the effect.\n",
    "- **Placebo**: Only sample from control units as use them as placebo.\n",
    "- **JackKnife**: Leave one out crossvalidation but removing one unit at a time.\n",
    "\n",
    "Each error estimate requires a treatment estimated on a new panel derived from the original data set by the corresponding method."
   ]
  },
  {
   "cell_type": "markdown",
   "id": "1d38e512-7ae3-4728-bb5d-c03d2e18add1",
   "metadata": {
    "tags": []
   },
   "source": [
    "Each estimator has a method called `estimator.error(result, method)` which takes the original `Result` object returned before and the `Error` estimation method that should be used."
   ]
  },
  {
   "cell_type": "code",
   "execution_count": null,
   "id": "326b096a-65ee-4bab-b059-a52b81b3cfda",
   "metadata": {
    "tags": []
   },
   "outputs": [],
   "source": [
    "from azcausal.core.error import Bootstrap\n",
    "\n",
    "se, runs = estimator.error(result, Bootstrap(n_samples=500))\n",
    "\n",
    "print(result.summary(conf=90))"
   ]
  },
  {
   "cell_type": "markdown",
   "id": "b009fcde-3f3a-4999-ac75-97ae8976e892",
   "metadata": {
    "tags": []
   },
   "source": [
    "Similarly, we can use `SDID` as an estimator"
   ]
  },
  {
   "cell_type": "code",
   "execution_count": null,
   "id": "b7ca16f9-6688-4c6a-9a29-40ea3b29d28f",
   "metadata": {
    "tags": []
   },
   "outputs": [],
   "source": [
    "from azcausal.estimators.panel.sdid import SDID\n",
    "from azcausal.core.error import JackKnife\n",
    "\n",
    "# initialize an estimator object\n",
    "estimator = SDID()\n",
    "\n",
    "# estimate the treatment effect\n",
    "result = estimator.fit(panel)\n",
    "\n",
    "# here we use JackKnife which is optmized to be run with SDID\n",
    "estimator.error(result, JackKnife())\n",
    "\n",
    "# print the treatment effect summary\n",
    "print(result.summary(percentage=True, cumulative=True))"
   ]
  },
  {
   "cell_type": "markdown",
   "id": "da94a466-0933-4204-8101-76cfb12e31ad",
   "metadata": {
    "tags": []
   },
   "source": [
    "### Part III: Analysis & Visualization"
   ]
  },
  {
   "cell_type": "markdown",
   "id": "d5dd7d35-a04f-4fe8-8808-ea1d42d5e873",
   "metadata": {
    "tags": []
   },
   "source": [
    "Lastly, we want to give some idea on how to visualize results. "
   ]
  },
  {
   "cell_type": "markdown",
   "id": "e409ddd5-4f8a-42f7-8e50-0a146d94978b",
   "metadata": {
    "tags": []
   },
   "source": [
    "To learn more about how the error estimation was originally derived, we can check the corresponding distribution by plotting the estimates of each of the runs:"
   ]
  },
  {
   "cell_type": "code",
   "execution_count": null,
   "id": "0cfab88a-c937-49c5-9bff-c90c11e0dfd4",
   "metadata": {
    "tags": []
   },
   "outputs": [],
   "source": [
    "vv = [run.effect.value for run in runs]\n",
    "sns.histplot(vv, kde=True)"
   ]
  },
  {
   "cell_type": "markdown",
   "id": "0b71c77d-ea2c-451f-b63c-27d31af7d46e",
   "metadata": {
    "tags": []
   },
   "source": [
    "Each post-analysis will be different depending on the estimator. We would like a give an example of `SDID` here. The available additional information stored by the estimator are:"
   ]
  },
  {
   "cell_type": "code",
   "execution_count": null,
   "id": "6f618940-a493-4751-b886-57bbcea1d752",
   "metadata": {
    "tags": []
   },
   "outputs": [],
   "source": [
    "effect = result.effect\n",
    "\n",
    "effect.data.keys()"
   ]
  },
  {
   "cell_type": "markdown",
   "id": "73bf58c7-3c17-4a38-be70-3d769d923fa7",
   "metadata": {
    "tags": []
   },
   "source": [
    "The DID results give us additional information about how the ATT is actually calculated:"
   ]
  },
  {
   "cell_type": "code",
   "execution_count": null,
   "id": "92282a5c-4c12-4bc7-8d60-6e3a6ea6af81",
   "metadata": {
    "tags": []
   },
   "outputs": [],
   "source": [
    "effect['did']"
   ]
  },
  {
   "cell_type": "markdown",
   "id": "243215de-0972-45bf-922f-ab72a27ceca3",
   "metadata": {
    "tags": []
   },
   "source": [
    "The unit weights (`omega`) with at least 1% contribution"
   ]
  },
  {
   "cell_type": "code",
   "execution_count": null,
   "id": "f0119bda-c9e9-4ca3-b66c-796b3e822025",
   "metadata": {
    "tags": []
   },
   "outputs": [],
   "source": [
    "effect['omega'].sort_values(ascending=False).loc[lambda x: x >= 0.01]"
   ]
  },
  {
   "cell_type": "markdown",
   "id": "fe06f796-dbc5-4740-bad2-317091b84964",
   "metadata": {
    "tags": []
   },
   "source": [
    "Similarly, the time weights"
   ]
  },
  {
   "cell_type": "code",
   "execution_count": null,
   "id": "6b1e5085-f098-4df6-81bc-0073222b6f40",
   "metadata": {
    "tags": []
   },
   "outputs": [],
   "source": [
    "effect['lambd'].sort_values(ascending=False).loc[lambda x: x >= 0.01]"
   ]
  },
  {
   "cell_type": "markdown",
   "id": "8fa6a33e-4e59-49d7-8e66-d3283d6163c3",
   "metadata": {
    "tags": []
   },
   "source": [
    "Or in general the treatment effect over time:"
   ]
  },
  {
   "cell_type": "code",
   "execution_count": null,
   "id": "57924b8d-d6f7-4ce2-9c8a-bdc146b03db2",
   "metadata": {
    "tags": []
   },
   "outputs": [],
   "source": [
    "# Control (C), Treatment (T), Time Weights (lambd), Intervention (W), Average Treatment Effect on the Treated (att), Counter Factual (CF)\n",
    "effect.by_time.tail(5)"
   ]
  },
  {
   "cell_type": "code",
   "execution_count": null,
   "id": "27ff5466-4011-48d1-8ee8-cbf842f05c26",
   "metadata": {
    "tags": []
   },
   "outputs": [],
   "source": [
    "effect.by_time[['C', 'CF', 'T']].head(3)"
   ]
  },
  {
   "cell_type": "markdown",
   "id": "6a974214-45a8-4c24-89ee-9880546bbec2",
   "metadata": {
    "tags": []
   },
   "source": [
    "Some estimators will have directly a plotting method for the result:"
   ]
  },
  {
   "cell_type": "code",
   "execution_count": null,
   "id": "abaa2162-362c-4313-a095-75107e6303df",
   "metadata": {
    "tags": []
   },
   "outputs": [],
   "source": [
    "estimator.plot(result, show=False, CF=True)\n",
    "None"
   ]
  }
 ],
 "metadata": {
  "kernelspec": {
   "display_name": "Python 3 (ipykernel)",
   "language": "python",
   "name": "python3"
  },
  "language_info": {
   "codemirror_mode": {
    "name": "ipython",
    "version": 3
   },
   "file_extension": ".py",
   "mimetype": "text/x-python",
   "name": "python",
   "nbconvert_exporter": "python",
   "pygments_lexer": "ipython3"
  },
  "papermill": {
   "default_parameters": {},
   "duration": 6.026458,
   "end_time": "2023-12-08T00:23:10.649838",
   "environment_variables": {},
   "exception": null,
   "input_path": "/Users/blankjul/workspace/azcausal/docs/source/getting_started.ipynb",
   "output_path": "/Users/blankjul/workspace/azcausal/docs/source/getting_started.ipynb",
   "parameters": {},
   "start_time": "2023-12-08T00:23:04.623380",
   "version": "2.4.0"
  }
 },
 "nbformat": 4,
 "nbformat_minor": 5
}

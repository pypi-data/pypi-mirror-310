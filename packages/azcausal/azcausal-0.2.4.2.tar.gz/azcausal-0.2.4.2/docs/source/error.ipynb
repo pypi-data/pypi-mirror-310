{
 "cells": [
  {
   "cell_type": "markdown",
   "id": "401d28a6",
   "metadata": {
    "tags": []
   },
   "source": [
    "## Error"
   ]
  },
  {
   "cell_type": "markdown",
   "id": "ecd6c81b-e305-4cd9-acfa-61d9b12ee252",
   "metadata": {
    "tags": []
   },
   "source": [
    "Out of the books different ways of measearing the estimation error of an estimator are supported."
   ]
  },
  {
   "cell_type": "code",
   "execution_count": null,
   "id": "7d1fa6c3-ed94-4b8c-9309-64628e60be42",
   "metadata": {
    "tags": []
   },
   "outputs": [],
   "source": [
    "from azcausal.core.parallelize import Joblib\n",
    "from azcausal.data import CaliforniaProp99\n",
    "from azcausal.estimators.panel.did import DID\n",
    "\n",
    "panel = CaliforniaProp99().panel()\n",
    "\n",
    "# initialize an estimator object, here difference in difference (did)\n",
    "estimator = DID()\n",
    "\n",
    "# run the estimator\n",
    "result = estimator.fit(panel)\n",
    "\n",
    "print(result.summary(percentage=False))"
   ]
  },
  {
   "cell_type": "code",
   "execution_count": null,
   "id": "81c05cad-4416-4b8e-ac60-c8e6519ad804",
   "metadata": {
    "tags": []
   },
   "outputs": [],
   "source": [
    "import matplotlib.pyplot as plt\n",
    "import numpy as np\n",
    "\n",
    "def plot_error_distribution(runs):\n",
    "\n",
    "    plt.subplots(1, 1, figsize=(12,2))\n",
    "    x = np.array([result.effect.value for result in runs])\n",
    "    plt.hist(x, bins=31, color='blue')\n",
    "    plt.axvline(x.mean(), color='red')\n",
    "\n",
    "    return x.mean(), x.std()"
   ]
  },
  {
   "cell_type": "markdown",
   "id": "a0575219",
   "metadata": {
    "tags": []
   },
   "source": [
    "### Bootstrap"
   ]
  },
  {
   "cell_type": "code",
   "execution_count": null,
   "id": "56f037b9-e389-4604-b703-f802664e4584",
   "metadata": {
    "tags": []
   },
   "outputs": [],
   "source": [
    "from azcausal.core.error import Bootstrap\n",
    "\n",
    "method = Bootstrap(n_samples=500)\n",
    "se, runs = method.run(result)\n",
    "\n",
    "# print out information about the estimate\n",
    "print(result.summary(percentage=False))\n",
    "\n",
    "plot_error_distribution(runs)"
   ]
  },
  {
   "cell_type": "markdown",
   "id": "3c78d751",
   "metadata": {
    "tags": []
   },
   "source": [
    "### Placebo"
   ]
  },
  {
   "cell_type": "code",
   "execution_count": null,
   "id": "178819ae-c528-4d81-8d4c-0eaef7538f76",
   "metadata": {
    "tags": []
   },
   "outputs": [],
   "source": [
    "from azcausal.core.error import Placebo\n",
    "\n",
    "method = Placebo(n_samples=500)\n",
    "se, runs = method.run(result)\n",
    "\n",
    "# print out information about the estimate\n",
    "print(result.summary(percentage=False))\n",
    "\n",
    "plot_error_distribution(runs)"
   ]
  },
  {
   "cell_type": "markdown",
   "id": "5952186b",
   "metadata": {
    "tags": []
   },
   "source": [
    "### JackKnife"
   ]
  },
  {
   "cell_type": "code",
   "execution_count": null,
   "id": "d69bb968-8991-49e3-ad49-112933eddee6",
   "metadata": {
    "tags": []
   },
   "outputs": [],
   "source": [
    "from azcausal.core.error import JackKnife\n",
    "\n",
    "method = JackKnife()\n",
    "se, runs = method.run(result)\n",
    "\n",
    "# print out information about the estimate\n",
    "print(result.summary(percentage=False))\n",
    "\n",
    "plot_error_distribution(runs)"
   ]
  }
 ],
 "metadata": {
  "kernelspec": {
   "display_name": "Python 3 (ipykernel)",
   "language": "python",
   "name": "python3"
  },
  "language_info": {
   "codemirror_mode": {
    "name": "ipython",
    "version": 3
   },
   "file_extension": ".py",
   "mimetype": "text/x-python",
   "name": "python",
   "nbconvert_exporter": "python",
   "pygments_lexer": "ipython3"
  },
  "papermill": {
   "default_parameters": {},
   "duration": 6.186468,
   "end_time": "2023-12-08T00:23:39.252803",
   "environment_variables": {},
   "exception": null,
   "input_path": "/Users/blankjul/workspace/azcausal/docs/source/error.ipynb",
   "output_path": "/Users/blankjul/workspace/azcausal/docs/source/error.ipynb",
   "parameters": {},
   "start_time": "2023-12-08T00:23:33.066335",
   "version": "2.4.0"
  }
 },
 "nbformat": 4,
 "nbformat_minor": 5
}

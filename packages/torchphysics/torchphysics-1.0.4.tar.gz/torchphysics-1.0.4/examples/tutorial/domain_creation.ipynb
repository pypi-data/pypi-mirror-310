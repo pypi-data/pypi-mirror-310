{
 "cells": [
  {
   "cell_type": "markdown",
   "metadata": {},
   "source": [
    "Domain Basics\n",
    "=============\n",
    "In this file, we will explain the usage of the domain classes. \n",
    "Every domain is a child of the main class *Domain* and implements the following\n",
    "methods and properties:\n",
    "\n",
    "- **__contains__**: to check if a point lays inside this domain\n",
    "- **volume**, **set_volume**: to compute or set the volume of the domain\n",
    "- **bounding_box**: to get a bounding box of the given domain\n",
    "- **boundary**: returns the boundary of the domain, this object itself is a domain and \n",
    "                implements the same methods. The boundary also knows the normal \n",
    "                vectors. But a boundary itself has **no** boundary!\n",
    "\n",
    "For explicit documentation of each method and all implemented domains, \n",
    "see the docs. Some pre implemented domains are: *Point, Interval, Parallelogram, Circle...*\n",
    "\n",
    "Here we focus now on the creation of different domains.\n",
    "To create a domain, we need a space to which the domain belongs. \n",
    "The definition of spaces were part of the previous tutorial."
   ]
  },
  {
   "cell_type": "markdown",
   "metadata": {},
   "source": [
    "To create the interval [0, 5]:"
   ]
  },
  {
   "cell_type": "code",
   "execution_count": null,
   "metadata": {},
   "outputs": [],
   "source": [
    "import torchphysics as tp\n",
    "T = tp.spaces.R1('t') # we need a one dimensional space\n",
    "I = tp.domains.Interval(T, 0, 5)"
   ]
  },
  {
   "cell_type": "markdown",
   "metadata": {},
   "source": [
    "To create the unit square or circle:"
   ]
  },
  {
   "cell_type": "code",
   "execution_count": null,
   "metadata": {},
   "outputs": [],
   "source": [
    "X = tp.spaces.R2('x') # we need a two dimensional space\n",
    "R = tp.domains.Parallelogram(X, [0, 0], [1, 0], [0, 1])\n",
    "C = tp.domains.Circle(X, [0, 0], 1)\n",
    "# boundaries:\n",
    "R_bound = R.boundary\n",
    "C_bound = C.boundary"
   ]
  },
  {
   "cell_type": "markdown",
   "metadata": {},
   "source": [
    "Now it would be nice to look at the domains directly. "
   ]
  },
  {
   "cell_type": "code",
   "execution_count": null,
   "metadata": {},
   "outputs": [],
   "source": [
    "R_sampler = tp.samplers.GridSampler(R, n_points=100) + tp.samplers.GridSampler(R.boundary, n_points=100)\n",
    "C_sampler = tp.samplers.GridSampler(C, n_points=100) + tp.samplers.GridSampler(C.boundary, n_points=100)\n",
    "\n",
    "tp.utils.scatter(X, R_sampler)\n",
    "tp.utils.scatter(X, C_sampler)"
   ]
  },
  {
   "cell_type": "markdown",
   "metadata": {},
   "source": [
    "The definition of other basic domains, follow the same way.\n",
    "\n",
    "Domain Operations\n",
    "-----------------\n",
    "\n",
    "Until now we only created simple geometries. For complex domains\n",
    " the following operations are implemented:\n",
    "\n",
    "- **Union** $A \\cup B$, implemented with: **'+'**\n",
    "- **Intersection** $A \\cap B$, implemented with: **'&'**\n",
    "- **Cut** $A \\setminus B$, implemented with: **'-'**\n",
    "- **Cartesian product** $A \\times B$, implemented with: **'$\\cdot$'**\n",
    "\n",
    "The only important aspect is that for union, intersection and cut the \n",
    "domains have to belong to the same space. The returning object is a child of\n",
    " *Domains* and implements all previously mentioned methods. \n",
    " The operation can be used for an arbitrary number of times, \n",
    " but for complex domains, the creation of training points will possibly become costly and slow. "
   ]
  },
  {
   "cell_type": "code",
   "execution_count": null,
   "metadata": {},
   "outputs": [],
   "source": [
    "union_domain = R + C\n",
    "intersection_domain = R & C\n",
    "cut_domain = R - C"
   ]
  },
  {
   "cell_type": "markdown",
   "metadata": {},
   "source": [
    "The boundary can be again called with **.boundary**. Since the operation can create \n",
    "complex domains the voluem can not always be computed. If a exact value is needed, \n",
    "one has to set it over the **set_volume** methode.\n",
    "\n",
    "Again we can have a look at the corresponding geometries: "
   ]
  },
  {
   "cell_type": "code",
   "execution_count": null,
   "metadata": {},
   "outputs": [],
   "source": [
    "union_sampler = tp.samplers.GridSampler(union_domain, n_points=100) \\\n",
    "                 + tp.samplers.GridSampler(union_domain.boundary, n_points=100)\n",
    "inter_sampler = tp.samplers.GridSampler(intersection_domain, n_points=100) \\\n",
    "                 + tp.samplers.GridSampler(intersection_domain.boundary, n_points=100)\n",
    "cut_sampler = tp.samplers.GridSampler(cut_domain, n_points=142) \\\n",
    "               + tp.samplers.GridSampler(cut_domain.boundary, n_points=100)\n",
    "\n",
    "tp.utils.scatter(X, union_sampler)\n",
    "tp.utils.scatter(X, inter_sampler)\n",
    "tp.utils.scatter(X, cut_sampler)"
   ]
  },
  {
   "cell_type": "markdown",
   "metadata": {},
   "source": [
    "For the product, we create the Cartesian product of an interval and circle to get a cylinder:"
   ]
  },
  {
   "cell_type": "code",
   "execution_count": null,
   "metadata": {},
   "outputs": [],
   "source": [
    "cylinder = C * I"
   ]
  },
  {
   "cell_type": "markdown",
   "metadata": {},
   "source": [
    "The product domain will lay in the product of the spaces.\n",
    "For example, the above cylinder lays now in the space $X \\cdot T$"
   ]
  },
  {
   "cell_type": "code",
   "execution_count": null,
   "metadata": {},
   "outputs": [],
   "source": [
    "product_sampler = tp.samplers.GridSampler(C.boundary, n_points=50) * tp.samplers.GridSampler(I, n_points=20)\n",
    "tp.utils.scatter(X*T, product_sampler)"
   ]
  },
  {
   "cell_type": "markdown",
   "metadata": {},
   "source": [
    "Changing Domains\n",
    "----------------\n",
    "The last aspect, is the possibility of variable domains. E.g. a domain that grows in time or \n",
    "a rotating circle. To this end, all parameters that to define a domain can also be function.\n",
    "For example, the radius of the circle or the origin of a parallelogram.\n",
    "\n",
    "Right now, a domain can only depend on the variables of another domain. So a domain that should\n",
    "change with the trained solution is not possible, for now.\n",
    "\n",
    "The creation of the domains stays the same, one has to only replace the desired parameters."
   ]
  },
  {
   "cell_type": "code",
   "execution_count": null,
   "metadata": {},
   "outputs": [],
   "source": [
    "C = tp.domains.Circle(X, [0, 0], lambda t: t/5)"
   ]
  },
  {
   "cell_type": "markdown",
   "metadata": {},
   "source": [
    "These domains can be used like all the other domains to create a product domain or apply an operation."
   ]
  },
  {
   "cell_type": "code",
   "execution_count": null,
   "metadata": {},
   "outputs": [],
   "source": [
    "new_domain = R - C\n",
    "product_sampler = tp.samplers.GridSampler(new_domain.boundary, density=30) \\\n",
    "                    * tp.samplers.GridSampler(I, n_points=20)\n",
    "tp.utils.scatter(X*T, product_sampler)"
   ]
  }
 ],
 "metadata": {
  "interpreter": {
   "hash": "fb770cb910411e790a99fd848f827dc995ac53be5098d939fbaa56bcec3c9277"
  },
  "kernelspec": {
   "display_name": "Python 3.9.4 64-bit ('bosch': conda)",
   "language": "python",
   "name": "python3"
  },
  "language_info": {
   "codemirror_mode": {
    "name": "ipython",
    "version": 3
   },
   "file_extension": ".py",
   "mimetype": "text/x-python",
   "name": "python",
   "nbconvert_exporter": "python",
   "pygments_lexer": "ipython3",
   "version": "3.10.4"
  },
  "orig_nbformat": 4
 },
 "nbformat": 4,
 "nbformat_minor": 2
}

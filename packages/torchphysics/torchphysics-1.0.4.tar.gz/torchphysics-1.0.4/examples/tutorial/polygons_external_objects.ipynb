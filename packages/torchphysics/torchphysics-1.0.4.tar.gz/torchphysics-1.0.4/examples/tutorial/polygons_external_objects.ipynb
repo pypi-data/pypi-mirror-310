{
 "cells": [
  {
   "cell_type": "markdown",
   "metadata": {},
   "source": [
    "Polygons and External Objects\n",
    "=============================\n",
    "Thanks to a soft dependency on Shapely and Trimesh polygons and polyhedrons can be\n",
    "created. For this, two additional domains exist: *ShapelyPolygon* and *TrimeshPolyhedron*. \n",
    "They combine the properties of the previously explained domains with the feature of the packages. \n",
    "This means you can:\n",
    "\n",
    "- Call the boundary with **.boundary**\n",
    "- Compute volume, bounding boxes and normal vectors\n",
    "- Create points inside and on the boundary\n",
    "- Use the operations *+*, *-* and *&* to create complex domains\n",
    "\n",
    "But what is **not** possible, is the creation of variable/changing polygons. \n",
    "The vertices have to stay always the same.\n",
    "\n",
    "Polygons\n",
    "--------\n",
    "If you have the package Shapely installed, you can find the class *ShapelyPolygon* under:\n"
   ]
  },
  {
   "cell_type": "code",
   "execution_count": null,
   "metadata": {},
   "outputs": [],
   "source": [
    "import torchphysics as tp\n",
    "from torchphysics.problem.domains.domain2D.shapely_polygon import ShapelyPolygon"
   ]
  },
  {
   "cell_type": "markdown",
   "metadata": {},
   "source": [
    "This class can be constructed through two different ways, either you create your own \n",
    "shapely-polygon yourself, or you pass all vertices of the polygon to the constructor:"
   ]
  },
  {
   "cell_type": "code",
   "execution_count": null,
   "metadata": {},
   "outputs": [],
   "source": [
    "X = tp.spaces.R2('x')\n",
    "P = ShapelyPolygon(X, vertices=[[0, 0], [1, 0], [1, 2], [0, 1]])"
   ]
  },
  {
   "cell_type": "markdown",
   "metadata": {},
   "source": [
    "Like mentioned before, all properties of the pre implemented domains work also for these domains. Therefore, we can have a look at the polygon we created. Again we need \n",
    "the *PointSamplers* which are part of the next tutorial. "
   ]
  },
  {
   "cell_type": "code",
   "execution_count": null,
   "metadata": {},
   "outputs": [],
   "source": [
    "P_sampler = tp.samplers.GridSampler(P, n_points=100) + tp.samplers.GridSampler(P.boundary, n_points=100)\n",
    "\n",
    "tp.utils.scatter(X, P_sampler)"
   ]
  },
  {
   "cell_type": "markdown",
   "metadata": {},
   "source": [
    "If you have the package Trimesh installed, you can find the class *TrimeshPolyhedron* under:"
   ]
  },
  {
   "cell_type": "code",
   "execution_count": null,
   "metadata": {},
   "outputs": [],
   "source": [
    "from torchphysics.problem.domains.domain3D.trimesh_polyhedron import TrimeshPolyhedron"
   ]
  },
  {
   "cell_type": "markdown",
   "metadata": {},
   "source": [
    "For this class, there are also two different ways to create a polyhedron. The first one is to define the vertices and say which vertices create a side of the object. For example, a simplex is created with:"
   ]
  },
  {
   "cell_type": "code",
   "execution_count": null,
   "metadata": {},
   "outputs": [],
   "source": [
    "X = tp.spaces.R3('x')\n",
    "vertices = [[0, 0, 0], [1, 0, 0], [0, 1, 0], [0, 0, 1], [0.5, 0.5, -1]]\n",
    "faces = [[0, 1, 3], [0, 2, 3], [1, 2, 3], [0, 2, 4], [0, 1, 4], [1, 2, 4]]\n",
    "P = TrimeshPolyhedron(X, vertices=vertices, faces=faces)"
   ]
  },
  {
   "cell_type": "code",
   "execution_count": null,
   "metadata": {},
   "outputs": [],
   "source": [
    "P_sampler = tp.samplers.GridSampler(P.boundary, n_points=100) # only show the boundary\n",
    "\n",
    "tp.utils.scatter(X, P_sampler)"
   ]
  },
  {
   "cell_type": "markdown",
   "metadata": {},
   "source": [
    "External Objects\n",
    "----------------\n",
    "The other way is to import an externally created 3D-Object, on which a PDE should be \n",
    "trained. This is already implemented in Trimesh and supports STL, ASCII, OBJ and many \n",
    "more. \n",
    "\n",
    "To do this one has to only specify the path to the object and the type of the file,\n",
    "in the constructor of the *TrimeshPolyhedron*:"
   ]
  },
  {
   "cell_type": "code",
   "execution_count": null,
   "metadata": {},
   "outputs": [],
   "source": [
    "X = tp.spaces.R3('x')\n",
    "P = TrimeshPolyhedron(X, file_name='L_plate.stl', file_type='stl')"
   ]
  },
  {
   "cell_type": "markdown",
   "metadata": {},
   "source": [
    "Where we now have used an L-shaped domain, again all previously mentioned methods are useable:"
   ]
  },
  {
   "cell_type": "code",
   "execution_count": null,
   "metadata": {},
   "outputs": [],
   "source": [
    "P_sampler = tp.samplers.GridSampler(P, density=0.2)\n",
    "\n",
    "tp.utils.scatter(X, P_sampler)"
   ]
  },
  {
   "cell_type": "markdown",
   "metadata": {},
   "source": [
    "The last point of this tutorial is the possibility to transform a *TrimeshPolyhedron* to a *ShapelyPolygon*, by either projecting or slicing with a plane. This is also a functionality implemented in Trimesh. \n",
    "\n",
    "This may be useful, if the problem should first be researched in 2D, which most of the time is less expensive. For this, only have to choose how we want to create the 2D-representation. Here we use slicing, the projection works the same:"
   ]
  },
  {
   "cell_type": "code",
   "execution_count": null,
   "metadata": {},
   "outputs": [],
   "source": [
    "new_space = tp.spaces.R2('x') # the new object is 2D\n",
    "p = P.slice_with_plane(new_space=new_space, plane_origin=[0, 0, 0], \n",
    "                       plane_normal=[0, 0, 1])"
   ]
  },
  {
   "cell_type": "markdown",
   "metadata": {},
   "source": [
    "The created object *p* is a *ShapelyPolygon*, that can be used like before:"
   ]
  },
  {
   "cell_type": "code",
   "execution_count": null,
   "metadata": {},
   "outputs": [],
   "source": [
    "p_sampler = tp.samplers.RandomUniformSampler(p, n_points=100) \\\n",
    "           + tp.samplers.RandomUniformSampler(p.boundary, n_points=100)\n",
    "\n",
    "tp.utils.scatter(new_space, p_sampler)"
   ]
  }
 ],
 "metadata": {
  "interpreter": {
   "hash": "fb770cb910411e790a99fd848f827dc995ac53be5098d939fbaa56bcec3c9277"
  },
  "kernelspec": {
   "display_name": "Python 3.9.4 64-bit ('bosch': conda)",
   "language": "python",
   "name": "python3"
  },
  "language_info": {
   "codemirror_mode": {
    "name": "ipython",
    "version": 3
   },
   "file_extension": ".py",
   "mimetype": "text/x-python",
   "name": "python",
   "nbconvert_exporter": "python",
   "pygments_lexer": "ipython3",
   "version": "3.10.4"
  },
  "orig_nbformat": 4
 },
 "nbformat": 4,
 "nbformat_minor": 2
}

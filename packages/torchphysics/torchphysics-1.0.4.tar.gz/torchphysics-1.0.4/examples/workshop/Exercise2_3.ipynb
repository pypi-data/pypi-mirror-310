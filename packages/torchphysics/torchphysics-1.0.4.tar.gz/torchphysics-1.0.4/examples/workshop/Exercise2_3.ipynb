{
 "cells": [
  {
   "attachments": {},
   "cell_type": "markdown",
   "metadata": {},
   "source": [
    "### Exercise Sheet 2\n",
    "\n",
    "#### 2.3 Solving an inverse Problem with TorchPhysics\n",
    "We consider now the wave equation\n",
    "\n",
    "\\begin{align*}\n",
    "    \\partial_t^2 u &= c \\, \\partial_x^2 u, &&\\text{ in } I_x \\times I_t, \\\\\n",
    "    u &= 0 , &&\\text{ on } \\partial I_x \\times I_t, \\\\\n",
    "    \\partial_t u &= 0 , &&\\text{ on } \\partial I_x \\times I_t, \\\\\n",
    "    u(\\cdot, 0) &= \\sin(x) , &&\\text{ in } I_x,\n",
    "\\end{align*}\n",
    "\n",
    "with $I_x = [0, 2\\pi]$ and $I_t = [0, 20]$. We are given a noisy dataset $\\{(u_i, x_i, t_i)\\}_{i=1}^N$ and aim to determine the corresponding value of $c$."
   ]
  },
  {
   "cell_type": "code",
   "execution_count": null,
   "metadata": {},
   "outputs": [],
   "source": [
    "!pip install torchphysics"
   ]
  },
  {
   "cell_type": "code",
   "execution_count": 1,
   "metadata": {},
   "outputs": [],
   "source": [
    "import torchphysics as tp\n",
    "import pytorch_lightning as pl\n",
    "import torch\n",
    "import math\n",
    "\n",
    "# Here all parameters are defined:\n",
    "t_min, t_max = 0.0, 20.0\n",
    "width = 2 * math.pi \n",
    "\n",
    "# Number of training points \n",
    "N_pde = 20000\n",
    "\n",
    "# Training parameters\n",
    "train_iterations = 5000\n",
    "learning_rate = 1.e-3"
   ]
  },
  {
   "cell_type": "code",
   "execution_count": 2,
   "metadata": {},
   "outputs": [],
   "source": [
    "### TODO: Implement the spaces\n",
    "\n",
    "\n",
    "### TODO: Define the domain omega and time interval \n",
    "I_x = ...\n",
    "I_t = ...\n",
    "\n",
    "### TODO: Create sampler for the PDE condition inside I_x x I_t\n",
    "pde_sampler = ..."
   ]
  },
  {
   "cell_type": "code",
   "execution_count": 3,
   "metadata": {},
   "outputs": [],
   "source": [
    "### TODO: Create the neural networks for the solution u and the learnable parameter c.\n",
    "###       The model of u should contain 3 hidden layers with 50 neurons each and should have\n",
    "###       X*T as an input space (order is important for the following cells).\n",
    "###       For the parameter c use `tp.models.Parameter` and the initial value 1.0\n",
    "model_u = ...\n",
    "param_C = ..."
   ]
  },
  {
   "cell_type": "code",
   "execution_count": 4,
   "metadata": {},
   "outputs": [],
   "source": [
    "### TODO: Define condition for the wave equation. Parameters can be passed to the condition\n",
    "###       with the `parameter` keyword.\n",
    "def pde_residual():\n",
    "    pass\n",
    "\n",
    "pde_condition = ..."
   ]
  },
  {
   "cell_type": "code",
   "execution_count": null,
   "metadata": {},
   "outputs": [],
   "source": [
    "### Here, we load the data. First download it from GitHub and then read it with\n",
    "### PyTorch. `in_data` contains combinations of X*T points and 'out_data' the \n",
    "### coressponding ampltidue of the wave.\n",
    "\n",
    "!wget https://github.com/TomF98/torchphysics/raw/main/examples/workshop/FEMData/Data2_3/time_points.pt\n",
    "!wget https://github.com/TomF98/torchphysics/raw/main/examples/workshop/FEMData/Data2_3/space_coords.pt\n",
    "!wget https://github.com/TomF98/torchphysics/raw/main/examples/workshop/FEMData/Data2_3/wave_data.pt"
   ]
  },
  {
   "cell_type": "code",
   "execution_count": null,
   "metadata": {},
   "outputs": [],
   "source": [
    "fe_time = torch.load(\"time_points.pt\")\n",
    "fe_space = torch.load(\"space_coords.pt\")\n",
    "out_data = torch.load(\"wave_data.pt\")\n",
    "\n",
    "in_data = torch.zeros((len(fe_time), len(fe_space), 2))\n",
    "in_data[:, :, :1] = fe_space\n",
    "in_data[:, :, 1] = fe_time\n",
    "\n",
    "in_data = in_data.reshape(-1, 2)\n",
    "\n",
    "print(\"Data has the shape:\")\n",
    "print(in_data.shape, out_data.shape)"
   ]
  },
  {
   "cell_type": "code",
   "execution_count": 6,
   "metadata": {},
   "outputs": [],
   "source": [
    "### TODO: Randomly shuffle the data from the previous cell, add 1% of articfical noise to the `out_data`\n",
    "###       and then select for the training only the first half of the data batch.\n",
    "###       Hint: for the random shuffle `torch.randperm` is useful and for constructing noise \n",
    "###       use: `0.01 * torch.randn_like(out_data) * out_data`\n",
    "\n"
   ]
  },
  {
   "cell_type": "code",
   "execution_count": 7,
   "metadata": {},
   "outputs": [],
   "source": [
    "### TODO: Transform the data from the previous cell into `tp.spaces.Points` objects, to\n",
    "###       assign them a space and enable TorchPhysics to work with them:\n",
    "in_data_points = ...\n",
    "out_data_points = ...\n",
    "\n",
    "### Here we create a DataLoader, that passes the above data to the conditions and\n",
    "### also controls the batch size, the device (CPU or GPU) and more...\n",
    "### And also the condition, that fits the given model to the data\n",
    "data_loader = tp.utils.PointsDataLoader((in_data_points, out_data_points), batch_size=len(in_data))"
   ]
  },
  {
   "cell_type": "code",
   "execution_count": 8,
   "metadata": {},
   "outputs": [],
   "source": [
    "### Data condition, that fits the model to the given data:\n",
    "data_condition = tp.conditions.DataCondition(module=model_u,\n",
    "                                             dataloader=data_loader,\n",
    "                                             norm=2, use_full_dataset=True,\n",
    "                                             weight=100) "
   ]
  },
  {
   "cell_type": "code",
   "execution_count": null,
   "metadata": {},
   "outputs": [],
   "source": [
    "### Start training with Adam:\n",
    "optim = tp.OptimizerSetting(optimizer_class=torch.optim.Adam, lr=learning_rate)\n",
    "solver = tp.solver.Solver(train_conditions=[data_condition, pde_condition], optimizer_setting=optim)\n",
    "\n",
    "\n",
    "trainer = pl.Trainer(gpus=1,\n",
    "                     max_steps=train_iterations,\n",
    "                     logger=False,\n",
    "                     benchmark=True)\n",
    "                     \n",
    "trainer.fit(solver)"
   ]
  },
  {
   "cell_type": "code",
   "execution_count": null,
   "metadata": {},
   "outputs": [],
   "source": [
    "### For better results in the inverse problem, switching to LBFGS is useful:\n",
    "optim = tp.OptimizerSetting(optimizer_class=torch.optim.LBFGS, lr=0.5, optimizer_args={'max_iter': 2})\n",
    "pde_condition.sampler = pde_condition.sampler.make_static()\n",
    "solver = tp.solver.Solver([pde_condition, data_condition], optimizer_setting=optim)\n",
    "\n",
    "trainer = pl.Trainer(devices=1, accelerator=\"gpu\",\n",
    "                     num_sanity_val_steps=0,\n",
    "                     benchmark=True,\n",
    "                     max_steps=2500, \n",
    "                     logger=False, \n",
    "                     enable_checkpointing=False)\n",
    "trainer.fit(solver)"
   ]
  },
  {
   "cell_type": "code",
   "execution_count": null,
   "metadata": {},
   "outputs": [],
   "source": [
    "print(\"Correct value of c is: 0.742\")\n",
    "print(\"With PINNs we computed the value:\", param_C.as_tensor.item())\n",
    "print(\"Relative difference is:\", abs(0.742 - param_C.as_tensor.item()) / 0.742)"
   ]
  },
  {
   "cell_type": "code",
   "execution_count": null,
   "metadata": {},
   "outputs": [],
   "source": [
    "### We can also plot the solution that we learned\n",
    "plot_domain = tp.domains.Parallelogram(X*T, [0, 0], [width, 0], [0, t_max])\n",
    "plot_sampler = tp.samplers.PlotSampler(plot_domain, 1000)\n",
    "fig = tp.utils.plot(model_u, lambda u: u, plot_sampler, plot_type=\"contour_surface\")"
   ]
  },
  {
   "cell_type": "code",
   "execution_count": null,
   "metadata": {},
   "outputs": [],
   "source": [
    "# Or an animation:\n",
    "anim_sampler = tp.samplers.AnimationSampler(I_x, I_t, 200, n_points=250)\n",
    "fig, anim = tp.utils.animate(model_u, lambda u: u, anim_sampler, ani_speed=40)\n",
    "anim.save('wave-eq.gif')\n",
    "# On Google colab you have at the left side a tab with a folder. There you should find the gif and can watch it."
   ]
  }
 ],
 "metadata": {
  "kernelspec": {
   "display_name": "bosch",
   "language": "python",
   "name": "python3"
  },
  "language_info": {
   "codemirror_mode": {
    "name": "ipython",
    "version": 3
   },
   "file_extension": ".py",
   "mimetype": "text/x-python",
   "name": "python",
   "nbconvert_exporter": "python",
   "pygments_lexer": "ipython3",
   "version": "3.9.15"
  },
  "orig_nbformat": 4
 },
 "nbformat": 4,
 "nbformat_minor": 2
}

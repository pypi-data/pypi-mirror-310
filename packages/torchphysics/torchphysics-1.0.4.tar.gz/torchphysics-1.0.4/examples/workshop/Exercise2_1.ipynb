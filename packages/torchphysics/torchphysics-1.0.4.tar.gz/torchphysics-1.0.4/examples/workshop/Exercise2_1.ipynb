{
 "cells": [
  {
   "attachments": {},
   "cell_type": "markdown",
   "metadata": {},
   "source": [
    "### Exercise Sheet 2\n",
    "\n",
    "#### 2.1 Solving a ODE with TorchPhysics\n",
    "Use TorchPhysics to solve the ODE for falling with a parachute:\n",
    "\\begin{align*}\n",
    "    \\partial_t^2 u(t) &= D(\\partial_t u(t))^2 - g \\\\\n",
    "    u(0) &= H \\\\\n",
    "    \\partial_t u(0) &= 0\n",
    "\\end{align*}\n",
    "If you are using Google Colab, you first have to install TorchPhysics with the following cell. We recommend first enabling the GPU and then running the cell."
   ]
  },
  {
   "cell_type": "code",
   "execution_count": 3,
   "metadata": {},
   "outputs": [
    {
     "name": "stderr",
     "output_type": "stream",
     "text": [
      "UsageError: Line magic function `%` not found.\n"
     ]
    }
   ],
   "source": [
    "!pip install torchphysics"
   ]
  },
  {
   "cell_type": "code",
   "execution_count": 4,
   "metadata": {},
   "outputs": [],
   "source": [
    "import torch\n",
    "import torchphysics as tp\n",
    "import pytorch_lightning as pl\n",
    "\n",
    "# Here all parameters are defined:\n",
    "t_min, t_max = 0.0, 3.0\n",
    "D = 0.02\n",
    "g, H = 9.81, 50.0\n",
    "\n",
    "# number of time points \n",
    "N_t = 50\n",
    "N_initial = 1\n",
    "\n",
    "train_iterations = 5000\n",
    "learning_rate = 1.e-3"
   ]
  },
  {
   "attachments": {},
   "cell_type": "markdown",
   "metadata": {},
   "source": [
    "Using the [lecture example](https://github.com/TomF98/torchphysics/blob/main/examples/workshop/Lecture_Example.py) gives a good guide for working with TorchPhysics."
   ]
  },
  {
   "cell_type": "code",
   "execution_count": 5,
   "metadata": {},
   "outputs": [],
   "source": [
    "### TODO: Implement the spaces\n",
    "\n",
    "\n",
    "### TODO: Define the time interval \n",
    "int_t = ...\n",
    "\n",
    "### TODO: Create sampler for points inside and at the left boundary\n",
    "\n"
   ]
  },
  {
   "cell_type": "code",
   "execution_count": 6,
   "metadata": {},
   "outputs": [],
   "source": [
    "### TODO: Create the neural network with 2 hidden layers and 20 neurons each.\n",
    "model = ..."
   ]
  },
  {
   "cell_type": "code",
   "execution_count": 7,
   "metadata": {},
   "outputs": [],
   "source": [
    "### TODO: Define condition for the ODE:\n",
    "def ode_residual(u, t):\n",
    "    pass\n",
    "\n",
    "ode_condition = ..."
   ]
  },
  {
   "cell_type": "code",
   "execution_count": 8,
   "metadata": {},
   "outputs": [],
   "source": [
    "### TODO: Define condition for the initial position:\n",
    "def position_residual(u):\n",
    "    pass\n",
    "\n",
    "initial_position_condition = ..."
   ]
  },
  {
   "cell_type": "code",
   "execution_count": 9,
   "metadata": {},
   "outputs": [],
   "source": [
    "### TODO: Define condition for the initial velocity:\n",
    "def velocity_residual(u, t):\n",
    "    pass\n",
    "\n",
    "initial_velocity_condition = ..."
   ]
  },
  {
   "cell_type": "code",
   "execution_count": null,
   "metadata": {},
   "outputs": [],
   "source": [
    "### Syntax for the training is already implemented:\n",
    "optim = tp.OptimizerSetting(optimizer_class=torch.optim.Adam, lr=learning_rate) \n",
    "solver = tp.solver.Solver([ode_condition, initial_position_condition, initial_velocity_condition],\n",
    "                          optimizer_setting=optim)\n",
    "\n",
    "trainer = pl.Trainer(devices=1, accelerator=\"gpu\",\n",
    "                     num_sanity_val_steps=0,\n",
    "                     benchmark=True,\n",
    "                     max_steps=train_iterations, \n",
    "                     logger=False, \n",
    "                     enable_checkpointing=False)\n",
    "\n",
    "trainer.fit(solver)"
   ]
  },
  {
   "cell_type": "code",
   "execution_count": null,
   "metadata": {},
   "outputs": [],
   "source": [
    "### Here, plot the solution and the error:\n",
    "import matplotlib.pyplot as plt\n",
    "import math \n",
    "\n",
    "def analytic_solution(t):\n",
    "    return 1/D * (-torch.log((1+torch.exp(-2*math.sqrt(D*g)*t))/2) - math.sqrt(D*g)*t) + H\n",
    "\n",
    "plot_sampler = tp.samplers.PlotSampler(int_t, 1000)\n",
    "fig = tp.utils.plot(model, lambda u: u, plot_sampler)\n",
    "plt.title(\"computed solution\")\n",
    "\n",
    "fig = tp.utils.plot(model, lambda t: analytic_solution(t), plot_sampler)\n",
    "plt.title(\"analytical solution\")\n",
    "\n",
    "fig = tp.utils.plot(model, lambda u,t: torch.abs(u - analytic_solution(t)), plot_sampler)\n",
    "plt.title(\"absolute error\")"
   ]
  }
 ],
 "metadata": {
  "kernelspec": {
   "display_name": "bosch",
   "language": "python",
   "name": "python3"
  },
  "language_info": {
   "codemirror_mode": {
    "name": "ipython",
    "version": 3
   },
   "file_extension": ".py",
   "mimetype": "text/x-python",
   "name": "python",
   "nbconvert_exporter": "python",
   "pygments_lexer": "ipython3",
   "version": "3.9.15"
  },
  "orig_nbformat": 4
 },
 "nbformat": 4,
 "nbformat_minor": 2
}

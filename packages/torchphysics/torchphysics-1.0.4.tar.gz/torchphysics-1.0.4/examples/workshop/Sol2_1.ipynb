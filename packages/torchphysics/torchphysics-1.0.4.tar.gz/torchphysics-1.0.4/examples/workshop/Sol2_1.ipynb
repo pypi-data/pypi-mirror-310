{
 "cells": [
  {
   "attachments": {},
   "cell_type": "markdown",
   "metadata": {},
   "source": [
    "### Exercise Sheet 2\n",
    "\n",
    "#### 2.1 Solving a ODE with TorchPhysics\n",
    "Use TorchPhysics to solve the ODE for falling with a parachute:\n",
    "\\begin{align*}\n",
    "    \\partial_t^2 u(t) &= D(\\partial_t u(t))^2 - g \\\\\n",
    "    u(0) &= H \\\\\n",
    "    \\partial_t u(0) &= 0\n",
    "\\end{align*}\n",
    "If you are using Google Colab, you first have to install TorchPhysics with the following cell. We recommend first enabling the GPU and then running the cell."
   ]
  },
  {
   "cell_type": "code",
   "execution_count": null,
   "metadata": {},
   "outputs": [],
   "source": [
    "!pip install torchphysics"
   ]
  },
  {
   "cell_type": "code",
   "execution_count": 1,
   "metadata": {},
   "outputs": [],
   "source": [
    "import torch\n",
    "import torchphysics as tp\n",
    "import pytorch_lightning as pl\n",
    "\n",
    "# Here all parameters are defined:\n",
    "t_min, t_max = 0.0, 3.0\n",
    "D_min, D_max = 0.01, 1.0\n",
    "g, H = 9.81, 50.0\n",
    "\n",
    "# number of time points \n",
    "N_t = 5000\n",
    "N_initial = 100\n",
    "\n",
    "train_iterations = 5000\n",
    "learning_rate = 1.e-3"
   ]
  },
  {
   "attachments": {},
   "cell_type": "markdown",
   "metadata": {},
   "source": [
    "Using the [lecture example](https://github.com/TomF98/torchphysics/tree/main/examples) gives a good guide for working with TorchPhysics."
   ]
  },
  {
   "cell_type": "code",
   "execution_count": 2,
   "metadata": {},
   "outputs": [],
   "source": [
    "### TODO: Implement the spaces\n",
    "T = tp.spaces.R1('t')\n",
    "U = tp.spaces.R1('u')\n",
    "D = tp.spaces.R1('D')\n",
    "### TODO: Define the time interval \n",
    "int_t = tp.domains.Interval(T, t_min, t_max)\n",
    "int_D = tp.domains.Interval(D, D_min, D_max)\n",
    "### TODO: Create sampler for points inside and at the left boundary\n",
    "ode_sampler = tp.samplers.RandomUniformSampler(int_t*int_D, n_points=N_t)\n",
    "initial_sampler = tp.samplers.RandomUniformSampler(int_t.boundary_left*int_D, n_points=N_initial)"
   ]
  },
  {
   "cell_type": "code",
   "execution_count": 3,
   "metadata": {},
   "outputs": [],
   "source": [
    "### TODO: Create neural network\n",
    "model = tp.models.FCN(T*D, U, hidden=(20, 20))"
   ]
  },
  {
   "cell_type": "code",
   "execution_count": 4,
   "metadata": {},
   "outputs": [],
   "source": [
    "### TODO: Define condition for the ODE:\n",
    "def ode_residual(u, t, D):\n",
    "    u_t = tp.utils.grad(u, t)\n",
    "    u_tt = tp.utils.grad(u_t, t)\n",
    "    return u_tt - D*u_t**2 + g\n",
    "\n",
    "ode_condition = tp.conditions.PINNCondition(model, ode_sampler, ode_residual)"
   ]
  },
  {
   "cell_type": "code",
   "execution_count": 5,
   "metadata": {},
   "outputs": [],
   "source": [
    "### TODO: Define condition for the initial position:\n",
    "def position_residual(u):\n",
    "    return u - H\n",
    "\n",
    "initial_position_condition = tp.conditions.PINNCondition(model, initial_sampler, position_residual)"
   ]
  },
  {
   "cell_type": "code",
   "execution_count": 6,
   "metadata": {},
   "outputs": [],
   "source": [
    "### TODO: Define condition for the initial velocity:\n",
    "def velocity_residual(u, t):\n",
    "    return tp.utils.grad(u, t)\n",
    "\n",
    "initial_velocity_condition = tp.conditions.PINNCondition(model, initial_sampler, velocity_residual)"
   ]
  },
  {
   "cell_type": "code",
   "execution_count": 7,
   "metadata": {},
   "outputs": [
    {
     "name": "stderr",
     "output_type": "stream",
     "text": [
      "GPU available: True, used: True\n",
      "TPU available: False, using: 0 TPU cores\n",
      "LOCAL_RANK: 0 - CUDA_VISIBLE_DEVICES: [0,1,2,3]\n"
     ]
    },
    {
     "name": "stderr",
     "output_type": "stream",
     "text": [
      "\n",
      "  | Name             | Type       | Params\n",
      "------------------------------------------------\n",
      "0 | train_conditions | ModuleList | 501   \n",
      "1 | val_conditions   | ModuleList | 0     \n",
      "------------------------------------------------\n",
      "501       Trainable params\n",
      "0         Non-trainable params\n",
      "501       Total params\n",
      "0.002     Total estimated model params size (MB)\n"
     ]
    },
    {
     "data": {
      "application/vnd.jupyter.widget-view+json": {
       "model_id": "a9eb39dd8f8c4a4a85fa07fc94ac43cf",
       "version_major": 2,
       "version_minor": 0
      },
      "text/plain": [
       "Validation sanity check: 0it [00:00, ?it/s]"
      ]
     },
     "metadata": {},
     "output_type": "display_data"
    },
    {
     "name": "stderr",
     "output_type": "stream",
     "text": [
      "/home/tomfre/miniconda3/envs/bosch/lib/python3.9/site-packages/pytorch_lightning/utilities/distributed.py:69: UserWarning: The dataloader, val dataloader 0, does not have many workers which may be a bottleneck. Consider increasing the value of the `num_workers` argument` (try 20 which is the number of cpus on this machine) in the `DataLoader` init to improve performance.\n",
      "  warnings.warn(*args, **kwargs)\n",
      "/home/tomfre/miniconda3/envs/bosch/lib/python3.9/site-packages/pytorch_lightning/utilities/distributed.py:69: UserWarning: The dataloader, train dataloader, does not have many workers which may be a bottleneck. Consider increasing the value of the `num_workers` argument` (try 20 which is the number of cpus on this machine) in the `DataLoader` init to improve performance.\n",
      "  warnings.warn(*args, **kwargs)\n"
     ]
    },
    {
     "data": {
      "application/vnd.jupyter.widget-view+json": {
       "model_id": "ffcabe489dab41b6a05ebe4abb55f1b6",
       "version_major": 2,
       "version_minor": 0
      },
      "text/plain": [
       "Training: 0it [00:00, ?it/s]"
      ]
     },
     "metadata": {},
     "output_type": "display_data"
    }
   ],
   "source": [
    "### Syntax for the training is already implemented:\n",
    "\n",
    "optim = tp.OptimizerSetting(optimizer_class=torch.optim.Adam, lr=learning_rate) \n",
    "solver = tp.solver.Solver([ode_condition, initial_position_condition, initial_velocity_condition],\n",
    "                          optimizer_setting=optim)\n",
    "\n",
    "trainer = pl.Trainer(devices=1, accelerator=\"gpu\",\n",
    "                     num_sanity_val_steps=0,\n",
    "                     benchmark=True,\n",
    "                     max_steps=train_iterations, \n",
    "                     logger=False, \n",
    "                     enable_checkpointing=False)\n",
    "\n",
    "trainer.fit(solver)"
   ]
  },
  {
   "cell_type": "code",
   "execution_count": null,
   "metadata": {},
   "outputs": [
    {
     "data": {
      "text/plain": [
       "Text(0.5, 1.0, 'absolute error')"
      ]
     },
     "execution_count": 9,
     "metadata": {},
     "output_type": "execute_result"
    },
    {
     "data": {
      "image/png": "[encoded data removed]",
      "text/plain": [
       "<Figure size 432x288 with 1 Axes>"
      ]
     },
     "metadata": {
      "needs_background": "light"
     },
     "output_type": "display_data"
    },
    {
     "data": {
      "image/png": "[encoded data removed]",
      "text/plain": [
       "<Figure size 432x288 with 1 Axes>"
      ]
     },
     "metadata": {
      "needs_background": "light"
     },
     "output_type": "display_data"
    },
    {
     "data": {
      "image/png": "[encoded data removed]",
      "text/plain": [
       "<Figure size 432x288 with 1 Axes>"
      ]
     },
     "metadata": {
      "needs_background": "light"
     },
     "output_type": "display_data"
    }
   ],
   "source": [
    "### Here, plot the solution and the error:\n",
    "import matplotlib.pyplot as plt\n",
    "D_test = 0.08\n",
    "\n",
    "def analytic_solution(t, D):\n",
    "    return 1/D * (-torch.log((1+torch.exp(-2*torch.sqrt(D*g)*t))/2) - torch.sqrt(D*g)*t) + H\n",
    "\n",
    "plot_sampler = tp.samplers.PlotSampler(int_t, 100, data_for_other_variables={'D': D_test})\n",
    "fig = tp.utils.plot(model, lambda u: u, plot_sampler)\n",
    "plt.title(\"computed solution\")\n",
    "\n",
    "plot_sampler = tp.samplers.PlotSampler(int_t, 100, data_for_other_variables={'D': D_test})\n",
    "fig = tp.utils.plot(model, lambda t,D: analytic_solution(t, D), plot_sampler)\n",
    "plt.title(\"analytical solution\")\n",
    "\n",
    "fig = tp.utils.plot(model, lambda u,t,D: torch.abs(u - analytic_solution(t, D)), plot_sampler)\n",
    "plt.title(\"absolute error\")"
   ]
  }
 ],
 "metadata": {
  "kernelspec": {
   "display_name": "bosch",
   "language": "python",
   "name": "python3"
  },
  "language_info": {
   "codemirror_mode": {
    "name": "ipython",
    "version": 3
   },
   "file_extension": ".py",
   "mimetype": "text/x-python",
   "name": "python",
   "nbconvert_exporter": "python",
   "pygments_lexer": "ipython3",
   "version": "3.9.15"
  },
  "orig_nbformat": 4
 },
 "nbformat": 4,
 "nbformat_minor": 2
}

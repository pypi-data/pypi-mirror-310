{
 "cells": [
  {
   "attachments": {},
   "cell_type": "markdown",
   "metadata": {},
   "source": [
    "### Exercise Sheet 2\n",
    "\n",
    "#### 2.3 Solving an inverse Problem with TorchPhysics\n",
    "We consider now the wave equation\n",
    "\n",
    "\\begin{align*}\n",
    "    \\partial_t^2 u &= c \\, \\partial_x^2 u, &&\\text{ in } I_x \\times I_t, \\\\\n",
    "    u &= 0 , &&\\text{ on } \\partial I_x \\times I_t, \\\\\n",
    "    \\partial_t u &= 0 , &&\\text{ on } \\partial I_x \\times I_t, \\\\\n",
    "    u(\\cdot, 0) &= \\sin(x) , &&\\text{ in } I_x,\n",
    "\\end{align*}\n",
    "\n",
    "with $I_x = [0, 2\\pi]$ and $I_t = [0, 20]$. We are given a noisy dataset $\\{(u_i, x_i, t_i)\\}_{i=1}^N$ and aim to determine the corresponding value of $c$."
   ]
  },
  {
   "cell_type": "code",
   "execution_count": null,
   "metadata": {},
   "outputs": [],
   "source": [
    "!pip install torchphysics"
   ]
  },
  {
   "cell_type": "code",
   "execution_count": 1,
   "metadata": {},
   "outputs": [],
   "source": [
    "import torchphysics as tp\n",
    "import pytorch_lightning as pl\n",
    "import torch\n",
    "import math\n",
    "\n",
    "# Here all parameters are defined:\n",
    "t_min, t_max = 0.0, 20.0\n",
    "width = 2 * math.pi \n",
    "\n",
    "# Number of training points \n",
    "N_pde = 20000\n",
    "\n",
    "# Training parameters\n",
    "train_iterations = 5000\n",
    "learning_rate = 1.e-3"
   ]
  },
  {
   "cell_type": "code",
   "execution_count": 2,
   "metadata": {},
   "outputs": [],
   "source": [
    "### TODO: Implement the spaces\n",
    "X = tp.spaces.R1('x')\n",
    "T = tp.spaces.R1('t')\n",
    "U = tp.spaces.R1('u')\n",
    "C = tp.spaces.R1('c')\n",
    "\n",
    "### TODO: Define the domain omega and time interval \n",
    "I_x = tp.domains.Interval(space=X, lower_bound=0.0, upper_bound=width)\n",
    "I_t = tp.domains.Interval(space=T, lower_bound=t_min, upper_bound=t_max)\n",
    "\n",
    "### TODO: Create sampler for the PDE condition inside I_x x I_t\n",
    "pde_sampler = tp.samplers.RandomUniformSampler(domain=I_x * I_t, n_points=N_pde)"
   ]
  },
  {
   "cell_type": "code",
   "execution_count": 3,
   "metadata": {},
   "outputs": [],
   "source": [
    "### TODO: Create the neural networks for the solution u and the learnable parameter c.\n",
    "###       The model of u should contain 3 hidden layers with 50 neurons each and should have\n",
    "###       X*T as an input space (order is important for the following cells).\n",
    "###       For the parameter c use `tp.models.Parameter`\n",
    "model_u = tp.models.FCN(input_space=X*T, output_space=U, hidden = (50,50,50))\n",
    "param_C = tp.models.Parameter(init=1.0, space=C)"
   ]
  },
  {
   "cell_type": "code",
   "execution_count": 4,
   "metadata": {},
   "outputs": [],
   "source": [
    "### TODO: Define condition for the PDE:\n",
    "def pde_residual(c, u, t, x):\n",
    "    return tp.utils.laplacian(u, t) - c * tp.utils.laplacian(u, x)\n",
    "\n",
    "pde_condition = tp.conditions.PINNCondition(model_u, pde_sampler, pde_residual, parameter=param_C)"
   ]
  },
  {
   "cell_type": "code",
   "execution_count": null,
   "metadata": {},
   "outputs": [],
   "source": [
    "### Here, we load the data. First download it from GitHub and then read it with\n",
    "### PyTorch. `in_data` contains combinations of X*T points and 'out_data' the \n",
    "### coressponding ampltidue of the wave.\n",
    "\n",
    "!wget https://github.com/TomF98/torchphysics/raw/main/examples/workshop/FEMData/Data2_3/time_points.pt\n",
    "!wget https://github.com/TomF98/torchphysics/raw/main/examples/workshop/FEMData/Data2_3/space_coords.pt\n",
    "!wget https://github.com/TomF98/torchphysics/raw/main/examples/workshop/FEMData/Data2_3/wave_data.pt"
   ]
  },
  {
   "cell_type": "code",
   "execution_count": 5,
   "metadata": {},
   "outputs": [
    {
     "name": "stdout",
     "output_type": "stream",
     "text": [
      "Data has the shape:\n",
      "torch.Size([13065, 2]) torch.Size([13065, 1])\n"
     ]
    }
   ],
   "source": [
    "fe_time = torch.load(\"time_points.pt\")\n",
    "fe_space = torch.load(\"space_coords.pt\")\n",
    "out_data = torch.load(\"wave_data.pt\")\n",
    "\n",
    "in_data = torch.zeros((len(fe_time), len(fe_space), 2))\n",
    "in_data[:, :, :1] = fe_space\n",
    "in_data[:, :, 1] = fe_time\n",
    "\n",
    "in_data = in_data.reshape(-1, 2)\n",
    "\n",
    "print(\"Data has the shape:\")\n",
    "print(in_data.shape, out_data.shape)"
   ]
  },
  {
   "cell_type": "code",
   "execution_count": 6,
   "metadata": {},
   "outputs": [],
   "source": [
    "### TODO: Randomly shuffle the data from the previous cell, add 1% of articfical noise to the `out_data`\n",
    "###       and then select for the training only the first half of the data batch.\n",
    "###       Hint: for the random shuffle `torch.randperm` is useful and for constructing noise \n",
    "###       use: `0.01 * torch.randn_like(out_data) * out_data`\n",
    "permutation = torch.randperm(len(in_data))\n",
    "in_data = in_data[permutation]\n",
    "out_data = out_data[permutation]\n",
    "out_data += 0.01 * torch.randn_like(out_data) * torch.max(out_data)\n",
    "\n",
    "in_data = in_data[:int(len(in_data)/2.0)]\n",
    "out_data = out_data[:int(len(out_data)/2.0)]"
   ]
  },
  {
   "cell_type": "code",
   "execution_count": 7,
   "metadata": {},
   "outputs": [],
   "source": [
    "### TODO: Transform the data from the previous cell into `tp.spaces.Points` objects, to\n",
    "###       assign them a space and enable TorchPhysics to work with them:\n",
    "in_data_points = tp.spaces.Points(in_data, X*T)\n",
    "out_data_points = tp.spaces.Points(out_data, U)\n",
    "\n",
    "### Here we create a DataLoader, that passes the above data to the conditions and\n",
    "### also controls the batch size, the device (CPU or GPU) and more...\n",
    "### And also the condition, that fits the given model to the data\n",
    "data_loader = tp.utils.PointsDataLoader((in_data_points, out_data_points), batch_size=len(in_data))"
   ]
  },
  {
   "cell_type": "code",
   "execution_count": 8,
   "metadata": {},
   "outputs": [],
   "source": [
    "### TODO: Complete the data condtion given below, by inserting the missing \n",
    "###       keywords. The `tp.conditions.DataCondition` fits the given model to the \n",
    "###       provided data of the dataloader.\n",
    "data_condition = tp.conditions.DataCondition(module=model_u,\n",
    "                                             dataloader=data_loader,\n",
    "                                             norm=2, use_full_dataset=True,\n",
    "                                             weight=100) "
   ]
  },
  {
   "cell_type": "code",
   "execution_count": 9,
   "metadata": {},
   "outputs": [
    {
     "name": "stderr",
     "output_type": "stream",
     "text": [
      "GPU available: True, used: True\n",
      "TPU available: False, using: 0 TPU cores\n",
      "LOCAL_RANK: 0 - CUDA_VISIBLE_DEVICES: [0,1,2,3]\n",
      "\n",
      "  | Name             | Type       | Params\n",
      "------------------------------------------------\n",
      "0 | train_conditions | ModuleList | 5.3 K \n",
      "1 | val_conditions   | ModuleList | 0     \n",
      "------------------------------------------------\n",
      "5.3 K     Trainable params\n",
      "0         Non-trainable params\n",
      "5.3 K     Total params\n",
      "0.021     Total estimated model params size (MB)\n"
     ]
    },
    {
     "data": {
      "application/vnd.jupyter.widget-view+json": {
       "model_id": "5ea92ad033bf4fb49d1cebca013bddc0",
       "version_major": 2,
       "version_minor": 0
      },
      "text/plain": [
       "Validation sanity check: 0it [00:00, ?it/s]"
      ]
     },
     "metadata": {},
     "output_type": "display_data"
    },
    {
     "name": "stderr",
     "output_type": "stream",
     "text": [
      "/home/tomfre/miniconda3/envs/bosch/lib/python3.9/site-packages/pytorch_lightning/utilities/distributed.py:69: UserWarning: The dataloader, val dataloader 0, does not have many workers which may be a bottleneck. Consider increasing the value of the `num_workers` argument` (try 8 which is the number of cpus on this machine) in the `DataLoader` init to improve performance.\n",
      "  warnings.warn(*args, **kwargs)\n",
      "/home/tomfre/miniconda3/envs/bosch/lib/python3.9/site-packages/pytorch_lightning/utilities/distributed.py:69: UserWarning: The dataloader, train dataloader, does not have many workers which may be a bottleneck. Consider increasing the value of the `num_workers` argument` (try 8 which is the number of cpus on this machine) in the `DataLoader` init to improve performance.\n",
      "  warnings.warn(*args, **kwargs)\n"
     ]
    },
    {
     "data": {
      "application/vnd.jupyter.widget-view+json": {
       "model_id": "3620b234128f4d7ea4bb872099f1c7e8",
       "version_major": 2,
       "version_minor": 0
      },
      "text/plain": [
       "Training: 0it [00:00, ?it/s]"
      ]
     },
     "metadata": {},
     "output_type": "display_data"
    },
    {
     "data": {
      "application/vnd.jupyter.widget-view+json": {
       "model_id": "6b653c61be4643faa4861dc11eb28b26",
       "version_major": 2,
       "version_minor": 0
      },
      "text/plain": [
       "Validating: 0it [00:00, ?it/s]"
      ]
     },
     "metadata": {},
     "output_type": "display_data"
    }
   ],
   "source": [
    "optim = tp.OptimizerSetting(optimizer_class=torch.optim.Adam, lr=learning_rate)\n",
    "solver = tp.solver.Solver(train_conditions=[data_condition, pde_condition], optimizer_setting=optim)\n",
    "\n",
    "trainer = pl.Trainer(devices=1, accelerator=\"gpu\",\n",
    "                     num_sanity_val_steps=0,\n",
    "                     benchmark=True,\n",
    "                     max_steps=train_iterations, \n",
    "                     logger=False, \n",
    "                     enable_checkpointing=False)\n",
    "                     \n",
    "trainer.fit(solver)"
   ]
  },
  {
   "cell_type": "code",
   "execution_count": 10,
   "metadata": {},
   "outputs": [
    {
     "name": "stderr",
     "output_type": "stream",
     "text": [
      "GPU available: True, used: True\n",
      "TPU available: False, using: 0 TPU cores\n",
      "LOCAL_RANK: 0 - CUDA_VISIBLE_DEVICES: [0,1,2,3]\n",
      "\n",
      "  | Name             | Type       | Params\n",
      "------------------------------------------------\n",
      "0 | train_conditions | ModuleList | 5.3 K \n",
      "1 | val_conditions   | ModuleList | 0     \n",
      "------------------------------------------------\n",
      "5.3 K     Trainable params\n",
      "0         Non-trainable params\n",
      "5.3 K     Total params\n",
      "0.021     Total estimated model params size (MB)\n"
     ]
    },
    {
     "data": {
      "application/vnd.jupyter.widget-view+json": {
       "model_id": "95040296d55e44c196876eda625903bf",
       "version_major": 2,
       "version_minor": 0
      },
      "text/plain": [
       "Validation sanity check: 0it [00:00, ?it/s]"
      ]
     },
     "metadata": {},
     "output_type": "display_data"
    },
    {
     "data": {
      "application/vnd.jupyter.widget-view+json": {
       "model_id": "029ef956af674ec1b71d31490695d1dd",
       "version_major": 2,
       "version_minor": 0
      },
      "text/plain": [
       "Training: 0it [00:00, ?it/s]"
      ]
     },
     "metadata": {},
     "output_type": "display_data"
    },
    {
     "data": {
      "application/vnd.jupyter.widget-view+json": {
       "model_id": "bc42fdba7a1949cb811d91cb040df1f1",
       "version_major": 2,
       "version_minor": 0
      },
      "text/plain": [
       "Validating: 0it [00:00, ?it/s]"
      ]
     },
     "metadata": {},
     "output_type": "display_data"
    }
   ],
   "source": [
    "optim = tp.OptimizerSetting(optimizer_class=torch.optim.LBFGS, lr=0.5, optimizer_args={'max_iter': 2})\n",
    "pde_condition.sampler = pde_condition.sampler.make_static()\n",
    "solver = tp.solver.Solver([pde_condition, data_condition], optimizer_setting=optim)\n",
    "\n",
    "\n",
    "trainer = pl.Trainer(devices=1, accelerator=\"gpu\",\n",
    "                     num_sanity_val_steps=0,\n",
    "                     benchmark=True,\n",
    "                     max_steps=2000, \n",
    "                     logger=False, \n",
    "                     enable_checkpointing=False)\n",
    "                     \n",
    "trainer.fit(solver)"
   ]
  },
  {
   "cell_type": "code",
   "execution_count": 11,
   "metadata": {},
   "outputs": [
    {
     "name": "stdout",
     "output_type": "stream",
     "text": [
      "Original value of c is: 0.742\n",
      "With PINNs we computed the value: 0.7323731780052185\n",
      "Relative difference is: 0.01297415363178098\n"
     ]
    }
   ],
   "source": [
    "print(\"Correct value of c is: 0.742\")\n",
    "print(\"With PINNs we computed the value:\", param_C.as_tensor.item())\n",
    "print(\"Relative difference is:\", abs(0.742 - param_C.as_tensor.item()) / 0.742)"
   ]
  },
  {
   "cell_type": "code",
   "execution_count": 12,
   "metadata": {},
   "outputs": [
    {
     "name": "stderr",
     "output_type": "stream",
     "text": [
      "/home/tomfre/miniconda3/envs/bosch/lib/python3.9/site-packages/torch/functional.py:478: UserWarning: torch.meshgrid: in an upcoming release, it will be required to pass the indexing argument. (Triggered internally at  ../aten/src/ATen/native/TensorShape.cpp:2895.)\n",
      "  return _VF.meshgrid(tensors, **kwargs)  # type: ignore[attr-defined]\n",
      "/home/tomfre/Desktop/torchphysics/src/torchphysics/problem/domains/domain2D/parallelogram.py:134: UserWarning: The use of `x.T` on tensors of dimension other than 2 to reverse their shape is deprecated and it will throw an error in a future release. Consider `x.mT` to transpose batches of matricesor `x.permute(*torch.arange(x.ndim - 1, -1, -1))` to reverse the dimensions of a tensor. (Triggered internally at  ../aten/src/ATen/native/TensorShape.cpp:2985.)\n",
      "  bary_coords = torch.stack(torch.meshgrid((x, y))).T.reshape(-1, 2)\n",
      "/home/tomfre/Desktop/torchphysics/src/torchphysics/utils/plotting/plot_functions.py:416: UserWarning: Creating a tensor from a list of numpy.ndarrays is extremely slow. Please consider converting the list to a single numpy.ndarray with numpy.array() before converting to a tensor. (Triggered internally at  ../torch/csrc/utils/tensor_new.cpp:204.)\n",
      "  embed_point = Points(torch.tensor([center]), domain.space)\n"
     ]
    },
    {
     "data": {
      "image/png": "[encoded data removed]",
      "text/plain": [
       "<Figure size 432x288 with 2 Axes>"
      ]
     },
     "metadata": {
      "needs_background": "light"
     },
     "output_type": "display_data"
    }
   ],
   "source": [
    "### We can also plot the solution that we learned\n",
    "plot_domain = tp.domains.Parallelogram(X*T, [0, 0], [width, 0], [0, t_max])\n",
    "plot_sampler = tp.samplers.PlotSampler(plot_domain, 1000)\n",
    "fig = tp.utils.plot(model_u, lambda u: u, plot_sampler, plot_type=\"contour_surface\")"
   ]
  },
  {
   "cell_type": "code",
   "execution_count": 13,
   "metadata": {},
   "outputs": [
    {
     "name": "stderr",
     "output_type": "stream",
     "text": [
      "MovieWriter ffmpeg unavailable; using Pillow instead.\n"
     ]
    },
    {
     "data": {
      "image/png": "[encoded data removed]",
      "text/plain": [
       "<Figure size 432x288 with 1 Axes>"
      ]
     },
     "metadata": {
      "needs_background": "light"
     },
     "output_type": "display_data"
    }
   ],
   "source": [
    "# Or an animation:\n",
    "anim_sampler = tp.samplers.AnimationSampler(I_x, I_t, 200, n_points=250)\n",
    "fig, anim = tp.utils.animate(model_u, lambda u: u, anim_sampler, ani_speed=40)\n",
    "anim.save('wave-eq.gif')\n",
    "# On Google colab you have at the left side a tab with a folder. There you should find the gif and can watch it."
   ]
  }
 ],
 "metadata": {
  "kernelspec": {
   "display_name": "bosch",
   "language": "python",
   "name": "python3"
  },
  "language_info": {
   "codemirror_mode": {
    "name": "ipython",
    "version": 3
   },
   "file_extension": ".py",
   "mimetype": "text/x-python",
   "name": "python",
   "nbconvert_exporter": "python",
   "pygments_lexer": "ipython3",
   "version": "3.9.15"
  },
  "orig_nbformat": 4
 },
 "nbformat": 4,
 "nbformat_minor": 2
}

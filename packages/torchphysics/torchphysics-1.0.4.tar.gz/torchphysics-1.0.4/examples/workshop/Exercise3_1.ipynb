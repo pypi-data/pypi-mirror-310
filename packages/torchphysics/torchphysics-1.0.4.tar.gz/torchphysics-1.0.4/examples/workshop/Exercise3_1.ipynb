{
 "cells": [
  {
   "attachments": {},
   "cell_type": "markdown",
   "metadata": {},
   "source": [
    "### Exercise Sheet 3\n",
    "\n",
    "#### 3.1 ODE with a time dependent Parameter\n",
    "Use TorchPhysics to solve the ODE for falling with a parachute:\n",
    "\\begin{align*}\n",
    "    \\partial_t^2 u(t) &= D(t)(\\partial_t u(t))^2 - g \\\\\n",
    "    u(0) &= H \\\\\n",
    "    \\partial_t u(0) &= 0\n",
    "\\end{align*}\n",
    "Where now $D: \\R \\to \\R$ with $ D(t) = 2.0\\cdot(1.0 + \\sin(4\\cdot t))$."
   ]
  },
  {
   "cell_type": "code",
   "execution_count": 1,
   "metadata": {},
   "outputs": [],
   "source": [
    "!pip install torchphysics"
   ]
  },
  {
   "cell_type": "code",
   "execution_count": 2,
   "metadata": {},
   "outputs": [],
   "source": [
    "import torch\n",
    "import torchphysics as tp\n",
    "import pytorch_lightning as pl\n",
    "\n",
    "# Here all parameters are defined:\n",
    "t_min, t_max = 0.0, 3.0\n",
    "\n",
    "### TODO: implement the function of D.\n",
    "def D(t):\n",
    "    pass\n",
    "\n",
    "g, H = 9.81, 50.0\n",
    "\n",
    "# number of time points \n",
    "N_t = 500\n",
    "N_initial = 1\n",
    "\n",
    "train_iterations = 10000\n",
    "learning_rate = 1.e-3"
   ]
  },
  {
   "cell_type": "code",
   "execution_count": 3,
   "metadata": {},
   "outputs": [],
   "source": [
    "### Spaces, Domains and Sampler like yesterday:\n",
    "T = tp.spaces.R1('t')\n",
    "U = tp.spaces.R1('u')\n",
    " \n",
    "int_t = tp.domains.Interval(T, t_min, t_max)\n",
    "\n",
    "ode_sampler = tp.samplers.RandomUniformSampler(int_t, n_points=N_t)\n",
    "initial_sampler = tp.samplers.RandomUniformSampler(int_t.boundary_left, n_points=N_initial)"
   ]
  },
  {
   "cell_type": "code",
   "execution_count": 4,
   "metadata": {},
   "outputs": [],
   "source": [
    "### TODO: Create the neural network with 3 hidden layers and 25 neurons each.\n",
    "model = ..."
   ]
  },
  {
   "cell_type": "code",
   "execution_count": 5,
   "metadata": {},
   "outputs": [],
   "source": [
    "### TODO: Define condition for the ODE:\n",
    "def ode_residual():\n",
    "    pass\n",
    "\n",
    "ode_condition = ..."
   ]
  },
  {
   "cell_type": "code",
   "execution_count": 6,
   "metadata": {},
   "outputs": [],
   "source": [
    "### Other conditions are also like before:\n",
    "def position_residual(u):\n",
    "    return u - H\n",
    "\n",
    "initial_position_condition = tp.conditions.PINNCondition(model, initial_sampler, position_residual)"
   ]
  },
  {
   "cell_type": "code",
   "execution_count": 7,
   "metadata": {},
   "outputs": [],
   "source": [
    "def velocity_residual(u, t):\n",
    "    return tp.utils.grad(u, t)\n",
    "\n",
    "initial_velocity_condition = tp.conditions.PINNCondition(model, initial_sampler, velocity_residual)"
   ]
  },
  {
   "cell_type": "code",
   "execution_count": null,
   "metadata": {},
   "outputs": [],
   "source": [
    "### Syntax for the training is already implemented:\n",
    "optim = tp.OptimizerSetting(optimizer_class=torch.optim.Adam, lr=learning_rate) \n",
    "solver = tp.solver.Solver([ode_condition, initial_position_condition, initial_velocity_condition],\n",
    "                          optimizer_setting=optim)\n",
    "\n",
    "trainer = pl.Trainer(devices=1, accelerator=\"gpu\",\n",
    "                     num_sanity_val_steps=0,\n",
    "                     benchmark=True,\n",
    "                     max_steps=train_iterations, \n",
    "                     logger=False, \n",
    "                     enable_checkpointing=False)\n",
    "\n",
    "trainer.fit(solver)"
   ]
  },
  {
   "cell_type": "code",
   "execution_count": null,
   "metadata": {},
   "outputs": [],
   "source": [
    "### Here, plot the solution:\n",
    "import matplotlib.pyplot as plt\n",
    "\n",
    "plot_sampler = tp.samplers.PlotSampler(int_t, 200)\n",
    "fig = tp.utils.plot(model, lambda u: u, plot_sampler)\n",
    "plt.title(\"Solution\")\n",
    "\n",
    "# Solution for comparision with backward euler:\n",
    "t = torch.linspace(t_min, t_max, 200)\n",
    "dt = t[1] - t[0]\n",
    "D_fn = D(t)\n",
    "u, v = torch.zeros_like(t), torch.zeros_like(t)\n",
    "u[0] = H\n",
    "for i in range(len(t)-1):\n",
    "    v[i+1] = 1/(2*dt*D_fn[i+1]) - torch.sqrt(1/(2*dt*D_fn[i+1])**2 - (v[i] - dt*g)/(dt*D_fn[i+1]))\n",
    "    u[i+1] = u[i] + dt * v[i+1]\n",
    "\n",
    "plt.plot(t, u, linestyle=\"--\")\n",
    "plt.legend([\"Neural Network\", \"Backward Euler\"])"
   ]
  }
 ],
 "metadata": {
  "kernelspec": {
   "display_name": "bosch",
   "language": "python",
   "name": "python3"
  },
  "language_info": {
   "codemirror_mode": {
    "name": "ipython",
    "version": 3
   },
   "file_extension": ".py",
   "mimetype": "text/x-python",
   "name": "python",
   "nbconvert_exporter": "python",
   "pygments_lexer": "ipython3",
   "version": "3.9.15"
  },
  "orig_nbformat": 4
 },
 "nbformat": 4,
 "nbformat_minor": 2
}

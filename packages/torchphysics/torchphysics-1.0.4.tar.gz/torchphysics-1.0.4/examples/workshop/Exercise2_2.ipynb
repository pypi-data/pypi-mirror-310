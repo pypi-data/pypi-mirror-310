{
 "cells": [
  {
   "attachments": {},
   "cell_type": "markdown",
   "metadata": {},
   "source": [
    "### Exercise Sheet 2\n",
    "\n",
    "#### 2.2 Solving a PDE with TorchPhysics\n",
    "Use TorchPhysics to solve the following heat equation:\n",
    "\n",
    "\\begin{align*}\n",
    "{\\partial_t} u(x,t) &= \\Delta_x u(x,t) &&\\text{ on } \\Omega\\times I, \\\\\n",
    "u(x, t) &= u_0 &&\\text{ on } \\Omega\\times \\{0\\},\\\\\n",
    "u(x,t) &= h(t) &&\\text{ at } \\partial\\Omega_{heater}\\times I, \\\\\n",
    "\\nabla_x u(x, t) \\cdot \\overset{\\rightarrow}{n}(x) &= 0 &&\\text{ at } (\\partial \\Omega \\setminus \\partial\\Omega_{heater}) \\times I.\n",
    "\\end{align*}\n",
    "\n",
    "The above system describes an isolated room $\\Omega$, with a \\\\\n",
    "heater at the wall $\\partial\\Omega_{Heater} = \\{(x, y) | 1\\leq x\\leq 3, y=4\\}$. We set $I=[0, 20]$, $D=1$, the initial temperature to $u_0 = 16\\degree C$ and the temperature of the heater is defined below.\n",
    "\n",
    "If you are using Google Colab, you first have to install TorchPhysics with the following cell. We recommend first enabling the GPU and then running the cell."
   ]
  },
  {
   "cell_type": "code",
   "execution_count": 20,
   "metadata": {},
   "outputs": [],
   "source": [
    "!pip install torchphysics"
   ]
  },
  {
   "cell_type": "code",
   "execution_count": 21,
   "metadata": {},
   "outputs": [
    {
     "data": {
      "image/png": "[encoded data removed]",
      "text/plain": [
       "<Figure size 432x288 with 1 Axes>"
      ]
     },
     "metadata": {
      "needs_background": "light"
     },
     "output_type": "display_data"
    }
   ],
   "source": [
    "import torch\n",
    "import torchphysics as tp\n",
    "import pytorch_lightning as pl\n",
    "import matplotlib.pyplot as plt\n",
    "\n",
    "# Here all parameters are defined:\n",
    "t_min, t_max = 0.0, 20.0\n",
    "width, height = 5.0, 4.0\n",
    "D = 1.0\n",
    "u_0          = 16 # initial temperature\n",
    "u_heater_max = 40 # maximal temperature of the heater\n",
    "t_heater_max = 5  # time at which the heater reaches its maximal temperature\n",
    "\n",
    "# Heater temperature function\n",
    "def h(t):\n",
    "    ht = u_0 + (u_heater_max - u_0) / t_heater_max * t\n",
    "    ht[t>t_heater_max] = u_heater_max\n",
    "    return ht\n",
    "\n",
    "# Visualize h(t)\n",
    "t = torch.linspace(0, 20, 200)\n",
    "plt.plot(t, h(t))\n",
    "plt.grid()\n",
    "plt.title(\"temperature of the heater over time\")\n",
    "\n",
    "# Number of training points \n",
    "N_pde = 15000\n",
    "N_initial = 5000\n",
    "N_boundary = 5000\n",
    "\n",
    "# Training parameters\n",
    "train_iterations = 10000\n",
    "learning_rate = 1.e-3"
   ]
  },
  {
   "attachments": {},
   "cell_type": "markdown",
   "metadata": {},
   "source": [
    "We would recommend trying implementing the following steps by yourself (and/or together with your colleagues). \n",
    "\n",
    "But if you need more guidance for TorchPhysics, a heat equation example is shown in this [notebook](https://github.com/TomF98/torchphysics/blob/main/examples/pinn/heat-equation.ipynb)."
   ]
  },
  {
   "cell_type": "code",
   "execution_count": 22,
   "metadata": {},
   "outputs": [],
   "source": [
    "### TODO: Implement the spaces\n",
    "X = ...\n",
    "T = ...\n",
    "U = ...\n",
    "\n",
    "### TODO: Define the domain omega and time interval \n",
    "Omega = ...\n",
    "I     = ...\n",
    "\n",
    "### TODO: Create sampler for inside Omega x I, for the initial condition in Omega x {0} and on the \n",
    "###       boundary \\partial Omega x I\n",
    "pde_sampler = ...\n",
    "initial_sampler = ...\n",
    "boundary_sampler = ..."
   ]
  },
  {
   "cell_type": "code",
   "execution_count": null,
   "metadata": {},
   "outputs": [],
   "source": [
    "# One can check if the points are sampled in the correct way:\n",
    "plot = tp.utils.scatter(Omega.space*I.space, pde_sampler, initial_sampler, boundary_sampler)\n",
    "# Some times the perspective is somewhat strang in the plot, but generally one should see:\n",
    "# - blue   = points inside the domain Omega x I\n",
    "# - orange = points at the bottom, for Omega x {0}\n",
    "# - green  = points at sides, for \\partial Omega x I "
   ]
  },
  {
   "cell_type": "code",
   "execution_count": 24,
   "metadata": {},
   "outputs": [],
   "source": [
    "### TODO: Create the neural network with 4 hidden layers and 30 neurons each.\n",
    "model = ..."
   ]
  },
  {
   "cell_type": "code",
   "execution_count": 25,
   "metadata": {},
   "outputs": [],
   "source": [
    "### TODO: Define condition for the PDE:\n",
    "# Use tp.utils.laplacian and tp.utils.grad to compute all needed derivatives\n",
    "def pde_residual():\n",
    "    pass\n",
    "\n",
    "pde_condition = ..."
   ]
  },
  {
   "cell_type": "code",
   "execution_count": 26,
   "metadata": {},
   "outputs": [],
   "source": [
    "### TODO: Define condition for the initial temperature:\n",
    "def initial_residual():\n",
    "    pass\n",
    "\n",
    "initial_condition = ..."
   ]
  },
  {
   "cell_type": "code",
   "execution_count": null,
   "metadata": {},
   "outputs": [],
   "source": [
    "### TODO: Define condition for the boundary conditions:\n",
    "###       Already implemented is a filltering, to determine where the points are\n",
    "###       on the boundary, and the normal vector computation.\n",
    "###       For the normal derivative use: tp.utils.normal_derivative\n",
    "def boundary_residual(u, t, x):\n",
    "    # Create boolean tensor indicating which points x belong to the dirichlet condition (heater location)\n",
    "    heater_location = (x[:, 0] >= 1) & (x[:, 0] <= 3) & (x[:, 1] >= 3.99)   \n",
    "    # Normal vectors of the domain Omega\n",
    "    normal_vectors  = Omega.boundary.normal(x)\n",
    "\n",
    "    pass\n",
    "\n",
    "boundary_condition = ..."
   ]
  },
  {
   "cell_type": "code",
   "execution_count": null,
   "metadata": {},
   "outputs": [],
   "source": [
    "# Start the training\n",
    "training_conditions = [pde_condition, initial_condition, boundary_condition]\n",
    "optim = tp.OptimizerSetting(optimizer_class=torch.optim.Adam, lr=learning_rate)\n",
    "solver = tp.solver.Solver(train_conditions=training_conditions, optimizer_setting=optim)\n",
    "\n",
    "trainer = pl.Trainer(devices=1, accelerator=\"gpu\",\n",
    "                     num_sanity_val_steps=0,\n",
    "                     benchmark=True,\n",
    "                     max_steps=train_iterations, \n",
    "                     logger=False, \n",
    "                     enable_checkpointing=False)\n",
    "\n",
    "trainer.fit(solver) # run the training loop"
   ]
  },
  {
   "cell_type": "code",
   "execution_count": null,
   "metadata": {},
   "outputs": [],
   "source": [
    "# Plot the solution at some point in time\n",
    "time_point = 2.0\n",
    "\n",
    "plot_sampler = tp.samplers.PlotSampler(plot_domain=Omega, n_points=1000, \n",
    "                                       data_for_other_variables={'t':time_point}) # <- input that is fixed for the plot\n",
    "fig = tp.utils.plot(model=model, plot_function=lambda u : u, point_sampler=plot_sampler, angle=[30, 220])"
   ]
  },
  {
   "cell_type": "code",
   "execution_count": null,
   "metadata": {},
   "outputs": [],
   "source": [
    "# We can also animate the solution over time\n",
    "anim_sampler = tp.samplers.AnimationSampler(Omega, I, 200, n_points=1000)\n",
    "fig, anim = tp.utils.animate(model, lambda u: u, anim_sampler, ani_speed=10, angle=[30, 220])\n",
    "anim.save('heat-eq.gif')\n",
    "# On Google colab you have at the left side a tab with a folder. There you can find the gif and can watch it."
   ]
  },
  {
   "attachments": {},
   "cell_type": "markdown",
   "metadata": {},
   "source": [
    "We can also compare the solution with data obtained with a finite element method. First we load the data from GitHub:"
   ]
  },
  {
   "cell_type": "code",
   "execution_count": null,
   "metadata": {},
   "outputs": [],
   "source": [
    "!wget https://github.com/TomF98/torchphysics/raw/main/examples/workshop/FEMData/Data2_2/time_points.pt\n",
    "!wget https://github.com/TomF98/torchphysics/raw/main/examples/workshop/FEMData/Data2_2/space_coords.pt\n",
    "!wget https://github.com/TomF98/torchphysics/raw/main/examples/workshop/FEMData/Data2_2/temperature.pt"
   ]
  },
  {
   "attachments": {},
   "cell_type": "markdown",
   "metadata": {},
   "source": [
    "Now, read the data and compare it with the network output:"
   ]
  },
  {
   "cell_type": "code",
   "execution_count": null,
   "metadata": {},
   "outputs": [],
   "source": [
    "fe_time = torch.load(\"time_points.pt\")\n",
    "fe_space = torch.load(\"space_coords.pt\")\n",
    "fe_temperature = torch.load(\"temperature.pt\")\n",
    "\n",
    "in_data = torch.zeros((len(fe_time), len(fe_space), 3))\n",
    "in_data[:, :, :2] = fe_space\n",
    "in_data[:, :, 2] = fe_time.repeat(1, len(fe_space))\n",
    "\n",
    "model_out = model(tp.spaces.Points(in_data, X*T))\n",
    "error = torch.abs(model_out.as_tensor - fe_temperature)\n",
    "print(\"Max. absolute error between FE and PINN:\", torch.max(error))\n",
    "print(\"Relative error is:\", torch.max(error)/torch.max(fe_temperature))"
   ]
  }
 ],
 "metadata": {
  "kernelspec": {
   "display_name": "bosch",
   "language": "python",
   "name": "python3"
  },
  "language_info": {
   "codemirror_mode": {
    "name": "ipython",
    "version": 3
   },
   "file_extension": ".py",
   "mimetype": "text/x-python",
   "name": "python",
   "nbconvert_exporter": "python",
   "pygments_lexer": "ipython3",
   "version": "3.9.15"
  },
  "orig_nbformat": 4
 },
 "nbformat": 4,
 "nbformat_minor": 2
}

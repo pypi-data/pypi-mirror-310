{
 "cells": [
  {
   "cell_type": "code",
   "execution_count": 4,
   "metadata": {},
   "outputs": [
    {
     "data": {
      "text/plain": [
       "[('ask_user', <function ayy.tools.ask_user(prompt: str) -> str>),\n",
       " ('call_ai', <function ayy.tools.call_ai(inputs: Any) -> Any>),\n",
       " ('get_weather',\n",
       "  <function ayy.tools.get_weather(day: Literal['Monday', 'Tuesday', 'Wednesday', 'Thursday', 'Friday', 'Saturday', 'Sunday'], location: str) -> str>),\n",
       " ('list_available_grounds',\n",
       "  <function ayy.tools.list_available_grounds(location: str) -> list[str]>),\n",
       " ('upload_video', <function ayy.tools.upload_video(video_path: str) -> str>)]"
      ]
     },
     "execution_count": 4,
     "metadata": {},
     "output_type": "execute_result"
    }
   ],
   "source": [
    "import inspect\n",
    "\n",
    "from ayy import tools\n",
    "\n",
    "\n",
    "def get_functions_from_module(module):\n",
    "    return [\n",
    "        x for x in inspect.getmembers(module, lambda x: inspect.isfunction(x) and x.__module__ == module.__name__)\n",
    "    ]\n",
    "\n",
    "\n",
    "get_functions_from_module(tools)\n"
   ]
  },
  {
   "cell_type": "code",
   "execution_count": null,
   "metadata": {},
   "outputs": [],
   "source": []
  }
 ],
 "metadata": {
  "kernelspec": {
   "display_name": ".venv",
   "language": "python",
   "name": "python3"
  },
  "language_info": {
   "codemirror_mode": {
    "name": "ipython",
    "version": 3
   },
   "file_extension": ".py",
   "mimetype": "text/x-python",
   "name": "python",
   "nbconvert_exporter": "python",
   "pygments_lexer": "ipython3",
   "version": "3.12.7"
  }
 },
 "nbformat": 4,
 "nbformat_minor": 2
}

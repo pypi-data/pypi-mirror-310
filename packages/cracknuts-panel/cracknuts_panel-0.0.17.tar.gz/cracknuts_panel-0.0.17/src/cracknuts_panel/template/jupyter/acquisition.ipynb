{
 "cells": [
  {
   "cell_type": "code",
   "execution_count": 1,
   "id": "1e6924c8-b4f1-41d2-aacd-b92997c30975",
   "metadata": {},
   "outputs": [],
   "source": [
    "from cracknuts.cracker.basic_cracker import CrackerS1\n",
    "from cracknuts.cracker.stateful_cracker import StatefulCracker\n",
    "\n",
    "# 创建 mock cracker\n",
    "cracker = CrackerS1((\"localhost\", 9761))\n",
    "# 创建 stateful cracker\n",
    "cracker = StatefulCracker(cracker)"
   ]
  },
  {
   "cell_type": "code",
   "execution_count": 2,
   "id": "14d87505-c01c-4419-96e0-ac02eaf81d2d",
   "metadata": {},
   "outputs": [],
   "source": [
    "from cracknuts.acquisition import Acquisition as template\n",
    "import time\n",
    "\n",
    "\n",
    "def do(cracker):\n",
    "    time.sleep(0.1)\n",
    "    return b\"123123\"\n",
    "\n",
    "\n",
    "# 构造 acquisition 实体\n",
    "acq = template.builder().cracker(cracker).init(lambda _: None).do(do).build()"
   ]
  },
  {
   "cell_type": "code",
   "execution_count": 3,
   "id": "b412c71d-9abc-493c-970f-8afe9f8cae96",
   "metadata": {},
   "outputs": [
    {
     "data": {
      "application/vnd.jupyter.widget-view+json": {
       "model_id": "b88e20e76e6147baa7fa04c6c0095ab5",
       "version_major": 2,
       "version_minor": 1
      },
      "text/plain": [
       "CracknutsPanelWidget(acq_run_progress={'finished': 0, 'total': 1}, do_error_max_count=-1, nut_voltage=3500, se…"
      ]
     },
     "execution_count": 3,
     "metadata": {},
     "output_type": "execute_result"
    }
   ],
   "source": [
    "from cracknuts_panel import display_cracknuts_panel\n",
    "\n",
    "cp = display_cracknuts_panel(acq)\n",
    "cp"
   ]
  },
  {
   "cell_type": "code",
   "execution_count": null,
   "id": "10d3f6ee-e51f-460a-bf62-e8dee892ecc5",
   "metadata": {},
   "outputs": [],
   "source": [
    "# 启动运行模式, 在波形监控页面查看波形, 并且在 acq 控制模块展示进度\n",
    "# 默认存储类型 scarr\n",
    "acq.run(1000)\n",
    "# 指定存储类型为 numpy\n",
    "# acq.run(1000, file_format=\"numpy\")"
   ]
  },
  {
   "cell_type": "code",
   "execution_count": null,
   "id": "ddcd3d0b-cb7c-4dac-abf8-3989e2b147f0",
   "metadata": {},
   "outputs": [],
   "source": [
    "# 启动测试模式, 在波形监控面板启动监视即可展示设备返回的波形\n",
    "acq.test()"
   ]
  },
  {
   "cell_type": "code",
   "execution_count": null,
   "id": "7b7e70ec-b8b7-4da3-916e-0252513018b5",
   "metadata": {},
   "outputs": [],
   "source": [
    "# 停止测试/采集模式, 波形监控面板即停止显示波形\n",
    "acq.stop()"
   ]
  },
  {
   "cell_type": "code",
   "execution_count": null,
   "id": "fc74f669-cde0-4c78-ba87-36473414d7e8",
   "metadata": {},
   "outputs": [],
   "source": [
    "# 面板启动监视\n",
    "cp.start_monitor()"
   ]
  },
  {
   "cell_type": "code",
   "execution_count": null,
   "id": "a334ca53-88b3-4b7f-84a2-b75a2be4b451",
   "metadata": {},
   "outputs": [],
   "source": [
    "# 面板停止监视\n",
    "cp.stop_monitor()"
   ]
  },
  {
   "cell_type": "code",
   "execution_count": null,
   "id": "c5f7f6c3-c737-4963-8147-4a0c1cd8ad23",
   "metadata": {},
   "outputs": [],
   "source": [
    "# 通道配置, 启用第二通道后, 波形监控面板将增加一条曲线\n",
    "cracker.osc_set_analog_channel_enable({1: True, 2: True})"
   ]
  },
  {
   "cell_type": "code",
   "execution_count": null,
   "id": "ac58c78b-e872-481a-98a8-079eb19438ea",
   "metadata": {},
   "outputs": [],
   "source": [
    "cracker.disconnect()"
   ]
  },
  {
   "cell_type": "code",
   "execution_count": null,
   "id": "af19ce16-84f8-464d-ade4-da1ff24b1f1a",
   "metadata": {},
   "outputs": [],
   "source": [
    "cp.osc_analog_channel2_enable = True\n",
    "# cp.nut_enable=False"
   ]
  }
 ],
 "metadata": {
  "kernelspec": {
   "display_name": "Python 3 (ipykernel)",
   "language": "python",
   "name": "python3"
  },
  "language_info": {
   "codemirror_mode": {
    "name": "ipython",
    "version": 3
   },
   "file_extension": ".py",
   "mimetype": "text/x-python",
   "name": "python",
   "nbconvert_exporter": "python",
   "pygments_lexer": "ipython3",
   "version": "3.12.4"
  }
 },
 "nbformat": 4,
 "nbformat_minor": 5
}

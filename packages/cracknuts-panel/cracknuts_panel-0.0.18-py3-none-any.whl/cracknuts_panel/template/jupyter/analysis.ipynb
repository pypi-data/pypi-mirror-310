{
 "cells": [
  {
   "cell_type": "code",
   "execution_count": null,
   "id": "d87e75bd-fff2-4937-a2f7-dda32de6c280",
   "metadata": {},
   "outputs": [],
   "source": [
    "import cracknuts_panel as panel\n",
    "import numpy as np"
   ]
  },
  {
   "cell_type": "code",
   "execution_count": null,
   "id": "cf6c628f-a352-45fb-bf40-8f81a14f6b89",
   "metadata": {},
   "outputs": [],
   "source": [
    "tap = panel.display_trace_analysis_panel()\n",
    "tap"
   ]
  },
  {
   "cell_type": "code",
   "execution_count": null,
   "id": "b5176d29-5d3a-4f1c-abd1-5c908d9fc7be",
   "metadata": {},
   "outputs": [],
   "source": [
    "# 设置numpy类型数据\n",
    "tap.set_numpy_data(np.random.randint(low=0, high=100, size=(2, 200, 4096)))"
   ]
  },
  {
   "cell_type": "code",
   "execution_count": null,
   "id": "e1dad489-86e7-4bb1-b28d-6e50b9e35883",
   "metadata": {},
   "outputs": [],
   "source": [
    "# 指定显示曲线索引区间\n",
    "tap.set_show_trace_range(2, 300)"
   ]
  },
  {
   "cell_type": "code",
   "execution_count": null,
   "id": "5a4607a1-9469-485e-88a3-9ed60886080e",
   "metadata": {},
   "outputs": [],
   "source": [
    "# 指定显示曲线索引\n",
    "tap.show_trace[0, 1]"
   ]
  },
  {
   "cell_type": "code",
   "execution_count": null,
   "id": "ef6157ba-b768-4428-b593-934a88320376",
   "metadata": {},
   "outputs": [],
   "source": [
    "# 设置自动是否重点显示\n",
    "tap.set_emphasis(False)"
   ]
  },
  {
   "cell_type": "code",
   "execution_count": null,
   "id": "89c77db2-1f24-4a79-8c2f-88b49cd4ecf1",
   "metadata": {},
   "outputs": [],
   "source": [
    "# 打开 scarr 格式文件\n",
    "from cracknuts.solver.trace import ScarrTraceDataset\n",
    "\n",
    "# scarr_trace_dataset = ScarrTraceDataset.load(\"D:\\\\work\\\\ahcc\\\\90.project\\\\cracknuts_panel\\\\demo\\\\dataset\\\\20241016212206.zarr\")\n",
    "scarr_trace_dataset = ScarrTraceDataset.load(\n",
    "    \"D:\\\\work\\\\ahcc\\\\90.project\\\\cracknuts-panel\\\\demo\\\\dataset\\\\20241016212206.zarr\"\n",
    ")\n",
    "tap.set_trace_dataset(scarr_trace_dataset)"
   ]
  },
  {
   "cell_type": "code",
   "execution_count": null,
   "id": "20134a9c-ef44-446d-a23a-3a922e4802b7",
   "metadata": {},
   "outputs": [],
   "source": [
    "scarr_trace_dataset.data[0, 0]"
   ]
  },
  {
   "cell_type": "code",
   "execution_count": null,
   "id": "b1c5fcb9-176f-40ba-afd3-9b97b309d1cc",
   "metadata": {},
   "outputs": [],
   "source": [
    "tap.show_trace[1, 1]"
   ]
  },
  {
   "cell_type": "code",
   "execution_count": null,
   "id": "e1c7c285-61a2-4f5a-85e2-619bdc766453",
   "metadata": {},
   "outputs": [],
   "source": [
    "# 打开 numpy 格式文件\n",
    "from cracknuts.solver.trace import NumpyTraceDataset\n",
    "\n",
    "numpy_trace_dataset = NumpyTraceDataset.load(\"D:\\\\project\\\\cracknuts_panel\\\\demo\\\\dataset\\\\20241011180710.tds\")\n",
    "tap.set_trace_dataset(numpy_trace_dataset)"
   ]
  },
  {
   "cell_type": "code",
   "execution_count": null,
   "id": "2f6e67b5-6a54-4298-9ff9-6825c2c0bee2",
   "metadata": {},
   "outputs": [],
   "source": [
    "tap.show_trace[:2, 2:4]"
   ]
  },
  {
   "cell_type": "code",
   "execution_count": null,
   "id": "925cf520-e418-4dfc-b0d4-b59174beb671",
   "metadata": {},
   "outputs": [],
   "source": [
    "tap.set_trace_dataset(numpy_trace_dataset)"
   ]
  }
 ],
 "metadata": {
  "kernelspec": {
   "display_name": "Python 3 (ipykernel)",
   "language": "python",
   "name": "python3"
  },
  "language_info": {
   "codemirror_mode": {
    "name": "ipython",
    "version": 3
   },
   "file_extension": ".py",
   "mimetype": "text/x-python",
   "name": "python",
   "nbconvert_exporter": "python",
   "pygments_lexer": "ipython3",
   "version": "3.12.4"
  }
 },
 "nbformat": 4,
 "nbformat_minor": 5
}
